{
  "nbformat": 4,
  "nbformat_minor": 0,
  "metadata": {
    "colab": {
      "name": "CNN Fashion.ipynb",
      "provenance": [],
      "collapsed_sections": []
    },
    "kernelspec": {
      "name": "python3",
      "display_name": "Python 3"
    },
    "language_info": {
      "name": "python"
    },
    "accelerator": "GPU",
    "widgets": {
      "application/vnd.jupyter.widget-state+json": {
        "e1d9b96ee5d442aeaae41e449b37c808": {
          "model_module": "@jupyter-widgets/controls",
          "model_name": "HBoxModel",
          "state": {
            "_view_name": "HBoxView",
            "_dom_classes": [],
            "_model_name": "HBoxModel",
            "_view_module": "@jupyter-widgets/controls",
            "_model_module_version": "1.5.0",
            "_view_count": null,
            "_view_module_version": "1.5.0",
            "box_style": "",
            "layout": "IPY_MODEL_ce9a2106d1a64111afcef16becb6a1ff",
            "_model_module": "@jupyter-widgets/controls",
            "children": [
              "IPY_MODEL_8ee9b7e1bca444b6b509eb9bf371c7f7",
              "IPY_MODEL_aee05e142e9143688c552e504f9611d1"
            ]
          }
        },
        "ce9a2106d1a64111afcef16becb6a1ff": {
          "model_module": "@jupyter-widgets/base",
          "model_name": "LayoutModel",
          "state": {
            "_view_name": "LayoutView",
            "grid_template_rows": null,
            "right": null,
            "justify_content": null,
            "_view_module": "@jupyter-widgets/base",
            "overflow": null,
            "_model_module_version": "1.2.0",
            "_view_count": null,
            "flex_flow": null,
            "width": null,
            "min_width": null,
            "border": null,
            "align_items": null,
            "bottom": null,
            "_model_module": "@jupyter-widgets/base",
            "top": null,
            "grid_column": null,
            "overflow_y": null,
            "overflow_x": null,
            "grid_auto_flow": null,
            "grid_area": null,
            "grid_template_columns": null,
            "flex": null,
            "_model_name": "LayoutModel",
            "justify_items": null,
            "grid_row": null,
            "max_height": null,
            "align_content": null,
            "visibility": null,
            "align_self": null,
            "height": null,
            "min_height": null,
            "padding": null,
            "grid_auto_rows": null,
            "grid_gap": null,
            "max_width": null,
            "order": null,
            "_view_module_version": "1.2.0",
            "grid_template_areas": null,
            "object_position": null,
            "object_fit": null,
            "grid_auto_columns": null,
            "margin": null,
            "display": null,
            "left": null
          }
        },
        "8ee9b7e1bca444b6b509eb9bf371c7f7": {
          "model_module": "@jupyter-widgets/controls",
          "model_name": "FloatProgressModel",
          "state": {
            "_view_name": "ProgressView",
            "style": "IPY_MODEL_21bccd16f8634415abd9891effa5a931",
            "_dom_classes": [],
            "description": "",
            "_model_name": "FloatProgressModel",
            "bar_style": "success",
            "max": 26421880,
            "_view_module": "@jupyter-widgets/controls",
            "_model_module_version": "1.5.0",
            "value": 26421880,
            "_view_count": null,
            "_view_module_version": "1.5.0",
            "orientation": "horizontal",
            "min": 0,
            "description_tooltip": null,
            "_model_module": "@jupyter-widgets/controls",
            "layout": "IPY_MODEL_5b02c0a0d6504803923bc6e74d29f70b"
          }
        },
        "aee05e142e9143688c552e504f9611d1": {
          "model_module": "@jupyter-widgets/controls",
          "model_name": "HTMLModel",
          "state": {
            "_view_name": "HTMLView",
            "style": "IPY_MODEL_dc7ae885e3ad4949a5026c457d0733e0",
            "_dom_classes": [],
            "description": "",
            "_model_name": "HTMLModel",
            "placeholder": "​",
            "_view_module": "@jupyter-widgets/controls",
            "_model_module_version": "1.5.0",
            "value": " 26422272/? [01:33&lt;00:00, 281373.32it/s]",
            "_view_count": null,
            "_view_module_version": "1.5.0",
            "description_tooltip": null,
            "_model_module": "@jupyter-widgets/controls",
            "layout": "IPY_MODEL_6ab674157c6c4b45af3082721f80dd41"
          }
        },
        "21bccd16f8634415abd9891effa5a931": {
          "model_module": "@jupyter-widgets/controls",
          "model_name": "ProgressStyleModel",
          "state": {
            "_view_name": "StyleView",
            "_model_name": "ProgressStyleModel",
            "description_width": "initial",
            "_view_module": "@jupyter-widgets/base",
            "_model_module_version": "1.5.0",
            "_view_count": null,
            "_view_module_version": "1.2.0",
            "bar_color": null,
            "_model_module": "@jupyter-widgets/controls"
          }
        },
        "5b02c0a0d6504803923bc6e74d29f70b": {
          "model_module": "@jupyter-widgets/base",
          "model_name": "LayoutModel",
          "state": {
            "_view_name": "LayoutView",
            "grid_template_rows": null,
            "right": null,
            "justify_content": null,
            "_view_module": "@jupyter-widgets/base",
            "overflow": null,
            "_model_module_version": "1.2.0",
            "_view_count": null,
            "flex_flow": null,
            "width": null,
            "min_width": null,
            "border": null,
            "align_items": null,
            "bottom": null,
            "_model_module": "@jupyter-widgets/base",
            "top": null,
            "grid_column": null,
            "overflow_y": null,
            "overflow_x": null,
            "grid_auto_flow": null,
            "grid_area": null,
            "grid_template_columns": null,
            "flex": null,
            "_model_name": "LayoutModel",
            "justify_items": null,
            "grid_row": null,
            "max_height": null,
            "align_content": null,
            "visibility": null,
            "align_self": null,
            "height": null,
            "min_height": null,
            "padding": null,
            "grid_auto_rows": null,
            "grid_gap": null,
            "max_width": null,
            "order": null,
            "_view_module_version": "1.2.0",
            "grid_template_areas": null,
            "object_position": null,
            "object_fit": null,
            "grid_auto_columns": null,
            "margin": null,
            "display": null,
            "left": null
          }
        },
        "dc7ae885e3ad4949a5026c457d0733e0": {
          "model_module": "@jupyter-widgets/controls",
          "model_name": "DescriptionStyleModel",
          "state": {
            "_view_name": "StyleView",
            "_model_name": "DescriptionStyleModel",
            "description_width": "",
            "_view_module": "@jupyter-widgets/base",
            "_model_module_version": "1.5.0",
            "_view_count": null,
            "_view_module_version": "1.2.0",
            "_model_module": "@jupyter-widgets/controls"
          }
        },
        "6ab674157c6c4b45af3082721f80dd41": {
          "model_module": "@jupyter-widgets/base",
          "model_name": "LayoutModel",
          "state": {
            "_view_name": "LayoutView",
            "grid_template_rows": null,
            "right": null,
            "justify_content": null,
            "_view_module": "@jupyter-widgets/base",
            "overflow": null,
            "_model_module_version": "1.2.0",
            "_view_count": null,
            "flex_flow": null,
            "width": null,
            "min_width": null,
            "border": null,
            "align_items": null,
            "bottom": null,
            "_model_module": "@jupyter-widgets/base",
            "top": null,
            "grid_column": null,
            "overflow_y": null,
            "overflow_x": null,
            "grid_auto_flow": null,
            "grid_area": null,
            "grid_template_columns": null,
            "flex": null,
            "_model_name": "LayoutModel",
            "justify_items": null,
            "grid_row": null,
            "max_height": null,
            "align_content": null,
            "visibility": null,
            "align_self": null,
            "height": null,
            "min_height": null,
            "padding": null,
            "grid_auto_rows": null,
            "grid_gap": null,
            "max_width": null,
            "order": null,
            "_view_module_version": "1.2.0",
            "grid_template_areas": null,
            "object_position": null,
            "object_fit": null,
            "grid_auto_columns": null,
            "margin": null,
            "display": null,
            "left": null
          }
        },
        "1cd94e6d4430427695585d4e535d985b": {
          "model_module": "@jupyter-widgets/controls",
          "model_name": "HBoxModel",
          "state": {
            "_view_name": "HBoxView",
            "_dom_classes": [],
            "_model_name": "HBoxModel",
            "_view_module": "@jupyter-widgets/controls",
            "_model_module_version": "1.5.0",
            "_view_count": null,
            "_view_module_version": "1.5.0",
            "box_style": "",
            "layout": "IPY_MODEL_97ec1191a83149ada61785bf46367fad",
            "_model_module": "@jupyter-widgets/controls",
            "children": [
              "IPY_MODEL_a0baed5cf1c1451cafdb2e9c6da7741f",
              "IPY_MODEL_7a80e4c1e38345ab895c632fb0aaca44"
            ]
          }
        },
        "97ec1191a83149ada61785bf46367fad": {
          "model_module": "@jupyter-widgets/base",
          "model_name": "LayoutModel",
          "state": {
            "_view_name": "LayoutView",
            "grid_template_rows": null,
            "right": null,
            "justify_content": null,
            "_view_module": "@jupyter-widgets/base",
            "overflow": null,
            "_model_module_version": "1.2.0",
            "_view_count": null,
            "flex_flow": null,
            "width": null,
            "min_width": null,
            "border": null,
            "align_items": null,
            "bottom": null,
            "_model_module": "@jupyter-widgets/base",
            "top": null,
            "grid_column": null,
            "overflow_y": null,
            "overflow_x": null,
            "grid_auto_flow": null,
            "grid_area": null,
            "grid_template_columns": null,
            "flex": null,
            "_model_name": "LayoutModel",
            "justify_items": null,
            "grid_row": null,
            "max_height": null,
            "align_content": null,
            "visibility": null,
            "align_self": null,
            "height": null,
            "min_height": null,
            "padding": null,
            "grid_auto_rows": null,
            "grid_gap": null,
            "max_width": null,
            "order": null,
            "_view_module_version": "1.2.0",
            "grid_template_areas": null,
            "object_position": null,
            "object_fit": null,
            "grid_auto_columns": null,
            "margin": null,
            "display": null,
            "left": null
          }
        },
        "a0baed5cf1c1451cafdb2e9c6da7741f": {
          "model_module": "@jupyter-widgets/controls",
          "model_name": "FloatProgressModel",
          "state": {
            "_view_name": "ProgressView",
            "style": "IPY_MODEL_a991e9717d904d72b68864522d740242",
            "_dom_classes": [],
            "description": "",
            "_model_name": "FloatProgressModel",
            "bar_style": "success",
            "max": 29515,
            "_view_module": "@jupyter-widgets/controls",
            "_model_module_version": "1.5.0",
            "value": 29515,
            "_view_count": null,
            "_view_module_version": "1.5.0",
            "orientation": "horizontal",
            "min": 0,
            "description_tooltip": null,
            "_model_module": "@jupyter-widgets/controls",
            "layout": "IPY_MODEL_39382804d9474ecd8c9221df3750b7df"
          }
        },
        "7a80e4c1e38345ab895c632fb0aaca44": {
          "model_module": "@jupyter-widgets/controls",
          "model_name": "HTMLModel",
          "state": {
            "_view_name": "HTMLView",
            "style": "IPY_MODEL_42e5c8beb2194ae7be78be359cb7b585",
            "_dom_classes": [],
            "description": "",
            "_model_name": "HTMLModel",
            "placeholder": "​",
            "_view_module": "@jupyter-widgets/controls",
            "_model_module_version": "1.5.0",
            "value": " 29696/? [00:01&lt;00:00, 17080.03it/s]",
            "_view_count": null,
            "_view_module_version": "1.5.0",
            "description_tooltip": null,
            "_model_module": "@jupyter-widgets/controls",
            "layout": "IPY_MODEL_6e94206aafa34278a071860061cfeec4"
          }
        },
        "a991e9717d904d72b68864522d740242": {
          "model_module": "@jupyter-widgets/controls",
          "model_name": "ProgressStyleModel",
          "state": {
            "_view_name": "StyleView",
            "_model_name": "ProgressStyleModel",
            "description_width": "initial",
            "_view_module": "@jupyter-widgets/base",
            "_model_module_version": "1.5.0",
            "_view_count": null,
            "_view_module_version": "1.2.0",
            "bar_color": null,
            "_model_module": "@jupyter-widgets/controls"
          }
        },
        "39382804d9474ecd8c9221df3750b7df": {
          "model_module": "@jupyter-widgets/base",
          "model_name": "LayoutModel",
          "state": {
            "_view_name": "LayoutView",
            "grid_template_rows": null,
            "right": null,
            "justify_content": null,
            "_view_module": "@jupyter-widgets/base",
            "overflow": null,
            "_model_module_version": "1.2.0",
            "_view_count": null,
            "flex_flow": null,
            "width": null,
            "min_width": null,
            "border": null,
            "align_items": null,
            "bottom": null,
            "_model_module": "@jupyter-widgets/base",
            "top": null,
            "grid_column": null,
            "overflow_y": null,
            "overflow_x": null,
            "grid_auto_flow": null,
            "grid_area": null,
            "grid_template_columns": null,
            "flex": null,
            "_model_name": "LayoutModel",
            "justify_items": null,
            "grid_row": null,
            "max_height": null,
            "align_content": null,
            "visibility": null,
            "align_self": null,
            "height": null,
            "min_height": null,
            "padding": null,
            "grid_auto_rows": null,
            "grid_gap": null,
            "max_width": null,
            "order": null,
            "_view_module_version": "1.2.0",
            "grid_template_areas": null,
            "object_position": null,
            "object_fit": null,
            "grid_auto_columns": null,
            "margin": null,
            "display": null,
            "left": null
          }
        },
        "42e5c8beb2194ae7be78be359cb7b585": {
          "model_module": "@jupyter-widgets/controls",
          "model_name": "DescriptionStyleModel",
          "state": {
            "_view_name": "StyleView",
            "_model_name": "DescriptionStyleModel",
            "description_width": "",
            "_view_module": "@jupyter-widgets/base",
            "_model_module_version": "1.5.0",
            "_view_count": null,
            "_view_module_version": "1.2.0",
            "_model_module": "@jupyter-widgets/controls"
          }
        },
        "6e94206aafa34278a071860061cfeec4": {
          "model_module": "@jupyter-widgets/base",
          "model_name": "LayoutModel",
          "state": {
            "_view_name": "LayoutView",
            "grid_template_rows": null,
            "right": null,
            "justify_content": null,
            "_view_module": "@jupyter-widgets/base",
            "overflow": null,
            "_model_module_version": "1.2.0",
            "_view_count": null,
            "flex_flow": null,
            "width": null,
            "min_width": null,
            "border": null,
            "align_items": null,
            "bottom": null,
            "_model_module": "@jupyter-widgets/base",
            "top": null,
            "grid_column": null,
            "overflow_y": null,
            "overflow_x": null,
            "grid_auto_flow": null,
            "grid_area": null,
            "grid_template_columns": null,
            "flex": null,
            "_model_name": "LayoutModel",
            "justify_items": null,
            "grid_row": null,
            "max_height": null,
            "align_content": null,
            "visibility": null,
            "align_self": null,
            "height": null,
            "min_height": null,
            "padding": null,
            "grid_auto_rows": null,
            "grid_gap": null,
            "max_width": null,
            "order": null,
            "_view_module_version": "1.2.0",
            "grid_template_areas": null,
            "object_position": null,
            "object_fit": null,
            "grid_auto_columns": null,
            "margin": null,
            "display": null,
            "left": null
          }
        },
        "f93fd77eb506455bb1c68e6d07cd40d4": {
          "model_module": "@jupyter-widgets/controls",
          "model_name": "HBoxModel",
          "state": {
            "_view_name": "HBoxView",
            "_dom_classes": [],
            "_model_name": "HBoxModel",
            "_view_module": "@jupyter-widgets/controls",
            "_model_module_version": "1.5.0",
            "_view_count": null,
            "_view_module_version": "1.5.0",
            "box_style": "",
            "layout": "IPY_MODEL_b68cda94474d45558f593801b0d5851d",
            "_model_module": "@jupyter-widgets/controls",
            "children": [
              "IPY_MODEL_d26778f7e7114809ad3e2877daaf9e54",
              "IPY_MODEL_d8b25a69d3524e3294c10f2f2cc29a0d"
            ]
          }
        },
        "b68cda94474d45558f593801b0d5851d": {
          "model_module": "@jupyter-widgets/base",
          "model_name": "LayoutModel",
          "state": {
            "_view_name": "LayoutView",
            "grid_template_rows": null,
            "right": null,
            "justify_content": null,
            "_view_module": "@jupyter-widgets/base",
            "overflow": null,
            "_model_module_version": "1.2.0",
            "_view_count": null,
            "flex_flow": null,
            "width": null,
            "min_width": null,
            "border": null,
            "align_items": null,
            "bottom": null,
            "_model_module": "@jupyter-widgets/base",
            "top": null,
            "grid_column": null,
            "overflow_y": null,
            "overflow_x": null,
            "grid_auto_flow": null,
            "grid_area": null,
            "grid_template_columns": null,
            "flex": null,
            "_model_name": "LayoutModel",
            "justify_items": null,
            "grid_row": null,
            "max_height": null,
            "align_content": null,
            "visibility": null,
            "align_self": null,
            "height": null,
            "min_height": null,
            "padding": null,
            "grid_auto_rows": null,
            "grid_gap": null,
            "max_width": null,
            "order": null,
            "_view_module_version": "1.2.0",
            "grid_template_areas": null,
            "object_position": null,
            "object_fit": null,
            "grid_auto_columns": null,
            "margin": null,
            "display": null,
            "left": null
          }
        },
        "d26778f7e7114809ad3e2877daaf9e54": {
          "model_module": "@jupyter-widgets/controls",
          "model_name": "FloatProgressModel",
          "state": {
            "_view_name": "ProgressView",
            "style": "IPY_MODEL_ce467514e16d4578a82e81681af9746e",
            "_dom_classes": [],
            "description": "",
            "_model_name": "FloatProgressModel",
            "bar_style": "success",
            "max": 4422102,
            "_view_module": "@jupyter-widgets/controls",
            "_model_module_version": "1.5.0",
            "value": 4422102,
            "_view_count": null,
            "_view_module_version": "1.5.0",
            "orientation": "horizontal",
            "min": 0,
            "description_tooltip": null,
            "_model_module": "@jupyter-widgets/controls",
            "layout": "IPY_MODEL_c718e60d961a4a2a97f5182481ca9b3e"
          }
        },
        "d8b25a69d3524e3294c10f2f2cc29a0d": {
          "model_module": "@jupyter-widgets/controls",
          "model_name": "HTMLModel",
          "state": {
            "_view_name": "HTMLView",
            "style": "IPY_MODEL_9052cf0b693c416592648e1bc8d6c3af",
            "_dom_classes": [],
            "description": "",
            "_model_name": "HTMLModel",
            "placeholder": "​",
            "_view_module": "@jupyter-widgets/controls",
            "_model_module_version": "1.5.0",
            "value": " 4422656/? [00:01&lt;00:00, 3664100.62it/s]",
            "_view_count": null,
            "_view_module_version": "1.5.0",
            "description_tooltip": null,
            "_model_module": "@jupyter-widgets/controls",
            "layout": "IPY_MODEL_4e8f1834c3ee4d6bbeb0e294f2957ec1"
          }
        },
        "ce467514e16d4578a82e81681af9746e": {
          "model_module": "@jupyter-widgets/controls",
          "model_name": "ProgressStyleModel",
          "state": {
            "_view_name": "StyleView",
            "_model_name": "ProgressStyleModel",
            "description_width": "initial",
            "_view_module": "@jupyter-widgets/base",
            "_model_module_version": "1.5.0",
            "_view_count": null,
            "_view_module_version": "1.2.0",
            "bar_color": null,
            "_model_module": "@jupyter-widgets/controls"
          }
        },
        "c718e60d961a4a2a97f5182481ca9b3e": {
          "model_module": "@jupyter-widgets/base",
          "model_name": "LayoutModel",
          "state": {
            "_view_name": "LayoutView",
            "grid_template_rows": null,
            "right": null,
            "justify_content": null,
            "_view_module": "@jupyter-widgets/base",
            "overflow": null,
            "_model_module_version": "1.2.0",
            "_view_count": null,
            "flex_flow": null,
            "width": null,
            "min_width": null,
            "border": null,
            "align_items": null,
            "bottom": null,
            "_model_module": "@jupyter-widgets/base",
            "top": null,
            "grid_column": null,
            "overflow_y": null,
            "overflow_x": null,
            "grid_auto_flow": null,
            "grid_area": null,
            "grid_template_columns": null,
            "flex": null,
            "_model_name": "LayoutModel",
            "justify_items": null,
            "grid_row": null,
            "max_height": null,
            "align_content": null,
            "visibility": null,
            "align_self": null,
            "height": null,
            "min_height": null,
            "padding": null,
            "grid_auto_rows": null,
            "grid_gap": null,
            "max_width": null,
            "order": null,
            "_view_module_version": "1.2.0",
            "grid_template_areas": null,
            "object_position": null,
            "object_fit": null,
            "grid_auto_columns": null,
            "margin": null,
            "display": null,
            "left": null
          }
        },
        "9052cf0b693c416592648e1bc8d6c3af": {
          "model_module": "@jupyter-widgets/controls",
          "model_name": "DescriptionStyleModel",
          "state": {
            "_view_name": "StyleView",
            "_model_name": "DescriptionStyleModel",
            "description_width": "",
            "_view_module": "@jupyter-widgets/base",
            "_model_module_version": "1.5.0",
            "_view_count": null,
            "_view_module_version": "1.2.0",
            "_model_module": "@jupyter-widgets/controls"
          }
        },
        "4e8f1834c3ee4d6bbeb0e294f2957ec1": {
          "model_module": "@jupyter-widgets/base",
          "model_name": "LayoutModel",
          "state": {
            "_view_name": "LayoutView",
            "grid_template_rows": null,
            "right": null,
            "justify_content": null,
            "_view_module": "@jupyter-widgets/base",
            "overflow": null,
            "_model_module_version": "1.2.0",
            "_view_count": null,
            "flex_flow": null,
            "width": null,
            "min_width": null,
            "border": null,
            "align_items": null,
            "bottom": null,
            "_model_module": "@jupyter-widgets/base",
            "top": null,
            "grid_column": null,
            "overflow_y": null,
            "overflow_x": null,
            "grid_auto_flow": null,
            "grid_area": null,
            "grid_template_columns": null,
            "flex": null,
            "_model_name": "LayoutModel",
            "justify_items": null,
            "grid_row": null,
            "max_height": null,
            "align_content": null,
            "visibility": null,
            "align_self": null,
            "height": null,
            "min_height": null,
            "padding": null,
            "grid_auto_rows": null,
            "grid_gap": null,
            "max_width": null,
            "order": null,
            "_view_module_version": "1.2.0",
            "grid_template_areas": null,
            "object_position": null,
            "object_fit": null,
            "grid_auto_columns": null,
            "margin": null,
            "display": null,
            "left": null
          }
        },
        "7a751b69393a4cd9965a223bcf3f552b": {
          "model_module": "@jupyter-widgets/controls",
          "model_name": "HBoxModel",
          "state": {
            "_view_name": "HBoxView",
            "_dom_classes": [],
            "_model_name": "HBoxModel",
            "_view_module": "@jupyter-widgets/controls",
            "_model_module_version": "1.5.0",
            "_view_count": null,
            "_view_module_version": "1.5.0",
            "box_style": "",
            "layout": "IPY_MODEL_93b1adfbd6b9403bbd68f67e5a8abe80",
            "_model_module": "@jupyter-widgets/controls",
            "children": [
              "IPY_MODEL_e3c5e5a5de224654a8cb07e02f586c53",
              "IPY_MODEL_0408e10b6d294f9580f40304afffcf53"
            ]
          }
        },
        "93b1adfbd6b9403bbd68f67e5a8abe80": {
          "model_module": "@jupyter-widgets/base",
          "model_name": "LayoutModel",
          "state": {
            "_view_name": "LayoutView",
            "grid_template_rows": null,
            "right": null,
            "justify_content": null,
            "_view_module": "@jupyter-widgets/base",
            "overflow": null,
            "_model_module_version": "1.2.0",
            "_view_count": null,
            "flex_flow": null,
            "width": null,
            "min_width": null,
            "border": null,
            "align_items": null,
            "bottom": null,
            "_model_module": "@jupyter-widgets/base",
            "top": null,
            "grid_column": null,
            "overflow_y": null,
            "overflow_x": null,
            "grid_auto_flow": null,
            "grid_area": null,
            "grid_template_columns": null,
            "flex": null,
            "_model_name": "LayoutModel",
            "justify_items": null,
            "grid_row": null,
            "max_height": null,
            "align_content": null,
            "visibility": null,
            "align_self": null,
            "height": null,
            "min_height": null,
            "padding": null,
            "grid_auto_rows": null,
            "grid_gap": null,
            "max_width": null,
            "order": null,
            "_view_module_version": "1.2.0",
            "grid_template_areas": null,
            "object_position": null,
            "object_fit": null,
            "grid_auto_columns": null,
            "margin": null,
            "display": null,
            "left": null
          }
        },
        "e3c5e5a5de224654a8cb07e02f586c53": {
          "model_module": "@jupyter-widgets/controls",
          "model_name": "FloatProgressModel",
          "state": {
            "_view_name": "ProgressView",
            "style": "IPY_MODEL_8fe62d897a974033940c07bde999a9a5",
            "_dom_classes": [],
            "description": "",
            "_model_name": "FloatProgressModel",
            "bar_style": "success",
            "max": 5148,
            "_view_module": "@jupyter-widgets/controls",
            "_model_module_version": "1.5.0",
            "value": 5148,
            "_view_count": null,
            "_view_module_version": "1.5.0",
            "orientation": "horizontal",
            "min": 0,
            "description_tooltip": null,
            "_model_module": "@jupyter-widgets/controls",
            "layout": "IPY_MODEL_37169cae6cc34420ae04e804ee6fedec"
          }
        },
        "0408e10b6d294f9580f40304afffcf53": {
          "model_module": "@jupyter-widgets/controls",
          "model_name": "HTMLModel",
          "state": {
            "_view_name": "HTMLView",
            "style": "IPY_MODEL_2ffe28852d07473294c5ef1dd272f6df",
            "_dom_classes": [],
            "description": "",
            "_model_name": "HTMLModel",
            "placeholder": "​",
            "_view_module": "@jupyter-widgets/controls",
            "_model_module_version": "1.5.0",
            "value": " 6144/? [01:29&lt;00:00, 68.44it/s]",
            "_view_count": null,
            "_view_module_version": "1.5.0",
            "description_tooltip": null,
            "_model_module": "@jupyter-widgets/controls",
            "layout": "IPY_MODEL_5b94b876d15a445aa40a6c531b071835"
          }
        },
        "8fe62d897a974033940c07bde999a9a5": {
          "model_module": "@jupyter-widgets/controls",
          "model_name": "ProgressStyleModel",
          "state": {
            "_view_name": "StyleView",
            "_model_name": "ProgressStyleModel",
            "description_width": "initial",
            "_view_module": "@jupyter-widgets/base",
            "_model_module_version": "1.5.0",
            "_view_count": null,
            "_view_module_version": "1.2.0",
            "bar_color": null,
            "_model_module": "@jupyter-widgets/controls"
          }
        },
        "37169cae6cc34420ae04e804ee6fedec": {
          "model_module": "@jupyter-widgets/base",
          "model_name": "LayoutModel",
          "state": {
            "_view_name": "LayoutView",
            "grid_template_rows": null,
            "right": null,
            "justify_content": null,
            "_view_module": "@jupyter-widgets/base",
            "overflow": null,
            "_model_module_version": "1.2.0",
            "_view_count": null,
            "flex_flow": null,
            "width": null,
            "min_width": null,
            "border": null,
            "align_items": null,
            "bottom": null,
            "_model_module": "@jupyter-widgets/base",
            "top": null,
            "grid_column": null,
            "overflow_y": null,
            "overflow_x": null,
            "grid_auto_flow": null,
            "grid_area": null,
            "grid_template_columns": null,
            "flex": null,
            "_model_name": "LayoutModel",
            "justify_items": null,
            "grid_row": null,
            "max_height": null,
            "align_content": null,
            "visibility": null,
            "align_self": null,
            "height": null,
            "min_height": null,
            "padding": null,
            "grid_auto_rows": null,
            "grid_gap": null,
            "max_width": null,
            "order": null,
            "_view_module_version": "1.2.0",
            "grid_template_areas": null,
            "object_position": null,
            "object_fit": null,
            "grid_auto_columns": null,
            "margin": null,
            "display": null,
            "left": null
          }
        },
        "2ffe28852d07473294c5ef1dd272f6df": {
          "model_module": "@jupyter-widgets/controls",
          "model_name": "DescriptionStyleModel",
          "state": {
            "_view_name": "StyleView",
            "_model_name": "DescriptionStyleModel",
            "description_width": "",
            "_view_module": "@jupyter-widgets/base",
            "_model_module_version": "1.5.0",
            "_view_count": null,
            "_view_module_version": "1.2.0",
            "_model_module": "@jupyter-widgets/controls"
          }
        },
        "5b94b876d15a445aa40a6c531b071835": {
          "model_module": "@jupyter-widgets/base",
          "model_name": "LayoutModel",
          "state": {
            "_view_name": "LayoutView",
            "grid_template_rows": null,
            "right": null,
            "justify_content": null,
            "_view_module": "@jupyter-widgets/base",
            "overflow": null,
            "_model_module_version": "1.2.0",
            "_view_count": null,
            "flex_flow": null,
            "width": null,
            "min_width": null,
            "border": null,
            "align_items": null,
            "bottom": null,
            "_model_module": "@jupyter-widgets/base",
            "top": null,
            "grid_column": null,
            "overflow_y": null,
            "overflow_x": null,
            "grid_auto_flow": null,
            "grid_area": null,
            "grid_template_columns": null,
            "flex": null,
            "_model_name": "LayoutModel",
            "justify_items": null,
            "grid_row": null,
            "max_height": null,
            "align_content": null,
            "visibility": null,
            "align_self": null,
            "height": null,
            "min_height": null,
            "padding": null,
            "grid_auto_rows": null,
            "grid_gap": null,
            "max_width": null,
            "order": null,
            "_view_module_version": "1.2.0",
            "grid_template_areas": null,
            "object_position": null,
            "object_fit": null,
            "grid_auto_columns": null,
            "margin": null,
            "display": null,
            "left": null
          }
        },
        "3b78279d06f3474e9a6ecf27cdb6c000": {
          "model_module": "@jupyter-widgets/controls",
          "model_name": "HBoxModel",
          "state": {
            "_view_name": "HBoxView",
            "_dom_classes": [],
            "_model_name": "HBoxModel",
            "_view_module": "@jupyter-widgets/controls",
            "_model_module_version": "1.5.0",
            "_view_count": null,
            "_view_module_version": "1.5.0",
            "box_style": "",
            "layout": "IPY_MODEL_67a84165d6ea44bbbb44641a319c3e2e",
            "_model_module": "@jupyter-widgets/controls",
            "children": [
              "IPY_MODEL_c44c01579ef74cb3814191fb1c6e3111",
              "IPY_MODEL_4f9af4f3c99349728c3930522ec3157d"
            ]
          }
        },
        "67a84165d6ea44bbbb44641a319c3e2e": {
          "model_module": "@jupyter-widgets/base",
          "model_name": "LayoutModel",
          "state": {
            "_view_name": "LayoutView",
            "grid_template_rows": null,
            "right": null,
            "justify_content": null,
            "_view_module": "@jupyter-widgets/base",
            "overflow": null,
            "_model_module_version": "1.2.0",
            "_view_count": null,
            "flex_flow": "row wrap",
            "width": "100%",
            "min_width": null,
            "border": null,
            "align_items": null,
            "bottom": null,
            "_model_module": "@jupyter-widgets/base",
            "top": null,
            "grid_column": null,
            "overflow_y": null,
            "overflow_x": null,
            "grid_auto_flow": null,
            "grid_area": null,
            "grid_template_columns": null,
            "flex": null,
            "_model_name": "LayoutModel",
            "justify_items": null,
            "grid_row": null,
            "max_height": null,
            "align_content": null,
            "visibility": null,
            "align_self": null,
            "height": null,
            "min_height": null,
            "padding": null,
            "grid_auto_rows": null,
            "grid_gap": null,
            "max_width": null,
            "order": null,
            "_view_module_version": "1.2.0",
            "grid_template_areas": null,
            "object_position": null,
            "object_fit": null,
            "grid_auto_columns": null,
            "margin": null,
            "display": "inline-flex",
            "left": null
          }
        },
        "c44c01579ef74cb3814191fb1c6e3111": {
          "model_module": "@jupyter-widgets/controls",
          "model_name": "FloatProgressModel",
          "state": {
            "_view_name": "ProgressView",
            "style": "IPY_MODEL_2fd45830917d45e4b28b8898d47254d0",
            "_dom_classes": [],
            "description": "Epoch 9: 100%",
            "_model_name": "FloatProgressModel",
            "bar_style": "success",
            "max": 938,
            "_view_module": "@jupyter-widgets/controls",
            "_model_module_version": "1.5.0",
            "value": 938,
            "_view_count": null,
            "_view_module_version": "1.5.0",
            "orientation": "horizontal",
            "min": 0,
            "description_tooltip": null,
            "_model_module": "@jupyter-widgets/controls",
            "layout": "IPY_MODEL_13130ff0b4de40388b0b5841616a8509"
          }
        },
        "4f9af4f3c99349728c3930522ec3157d": {
          "model_module": "@jupyter-widgets/controls",
          "model_name": "HTMLModel",
          "state": {
            "_view_name": "HTMLView",
            "style": "IPY_MODEL_0a080ab0890a411bb3bf31ab0449ed84",
            "_dom_classes": [],
            "description": "",
            "_model_name": "HTMLModel",
            "placeholder": "​",
            "_view_module": "@jupyter-widgets/controls",
            "_model_module_version": "1.5.0",
            "value": " 938/938 [13:04&lt;00:00,  1.20it/s, loss=0.152, v_num=0]",
            "_view_count": null,
            "_view_module_version": "1.5.0",
            "description_tooltip": null,
            "_model_module": "@jupyter-widgets/controls",
            "layout": "IPY_MODEL_d046f652fd0548218b051e2904e0f847"
          }
        },
        "2fd45830917d45e4b28b8898d47254d0": {
          "model_module": "@jupyter-widgets/controls",
          "model_name": "ProgressStyleModel",
          "state": {
            "_view_name": "StyleView",
            "_model_name": "ProgressStyleModel",
            "description_width": "initial",
            "_view_module": "@jupyter-widgets/base",
            "_model_module_version": "1.5.0",
            "_view_count": null,
            "_view_module_version": "1.2.0",
            "bar_color": null,
            "_model_module": "@jupyter-widgets/controls"
          }
        },
        "13130ff0b4de40388b0b5841616a8509": {
          "model_module": "@jupyter-widgets/base",
          "model_name": "LayoutModel",
          "state": {
            "_view_name": "LayoutView",
            "grid_template_rows": null,
            "right": null,
            "justify_content": null,
            "_view_module": "@jupyter-widgets/base",
            "overflow": null,
            "_model_module_version": "1.2.0",
            "_view_count": null,
            "flex_flow": null,
            "width": null,
            "min_width": null,
            "border": null,
            "align_items": null,
            "bottom": null,
            "_model_module": "@jupyter-widgets/base",
            "top": null,
            "grid_column": null,
            "overflow_y": null,
            "overflow_x": null,
            "grid_auto_flow": null,
            "grid_area": null,
            "grid_template_columns": null,
            "flex": "2",
            "_model_name": "LayoutModel",
            "justify_items": null,
            "grid_row": null,
            "max_height": null,
            "align_content": null,
            "visibility": null,
            "align_self": null,
            "height": null,
            "min_height": null,
            "padding": null,
            "grid_auto_rows": null,
            "grid_gap": null,
            "max_width": null,
            "order": null,
            "_view_module_version": "1.2.0",
            "grid_template_areas": null,
            "object_position": null,
            "object_fit": null,
            "grid_auto_columns": null,
            "margin": null,
            "display": null,
            "left": null
          }
        },
        "0a080ab0890a411bb3bf31ab0449ed84": {
          "model_module": "@jupyter-widgets/controls",
          "model_name": "DescriptionStyleModel",
          "state": {
            "_view_name": "StyleView",
            "_model_name": "DescriptionStyleModel",
            "description_width": "",
            "_view_module": "@jupyter-widgets/base",
            "_model_module_version": "1.5.0",
            "_view_count": null,
            "_view_module_version": "1.2.0",
            "_model_module": "@jupyter-widgets/controls"
          }
        },
        "d046f652fd0548218b051e2904e0f847": {
          "model_module": "@jupyter-widgets/base",
          "model_name": "LayoutModel",
          "state": {
            "_view_name": "LayoutView",
            "grid_template_rows": null,
            "right": null,
            "justify_content": null,
            "_view_module": "@jupyter-widgets/base",
            "overflow": null,
            "_model_module_version": "1.2.0",
            "_view_count": null,
            "flex_flow": null,
            "width": null,
            "min_width": null,
            "border": null,
            "align_items": null,
            "bottom": null,
            "_model_module": "@jupyter-widgets/base",
            "top": null,
            "grid_column": null,
            "overflow_y": null,
            "overflow_x": null,
            "grid_auto_flow": null,
            "grid_area": null,
            "grid_template_columns": null,
            "flex": null,
            "_model_name": "LayoutModel",
            "justify_items": null,
            "grid_row": null,
            "max_height": null,
            "align_content": null,
            "visibility": null,
            "align_self": null,
            "height": null,
            "min_height": null,
            "padding": null,
            "grid_auto_rows": null,
            "grid_gap": null,
            "max_width": null,
            "order": null,
            "_view_module_version": "1.2.0",
            "grid_template_areas": null,
            "object_position": null,
            "object_fit": null,
            "grid_auto_columns": null,
            "margin": null,
            "display": null,
            "left": null
          }
        },
        "620b8e3ebda04ec2ada009e8c41999b8": {
          "model_module": "@jupyter-widgets/controls",
          "model_name": "HBoxModel",
          "state": {
            "_view_name": "HBoxView",
            "_dom_classes": [],
            "_model_name": "HBoxModel",
            "_view_module": "@jupyter-widgets/controls",
            "_model_module_version": "1.5.0",
            "_view_count": null,
            "_view_module_version": "1.5.0",
            "box_style": "",
            "layout": "IPY_MODEL_d185832b25024553a9bb3fa5293dfc13",
            "_model_module": "@jupyter-widgets/controls",
            "children": [
              "IPY_MODEL_7fad75839fae44489b09491d7670ad48",
              "IPY_MODEL_5539fbf5b0ed44e39be41e55d5b01171"
            ]
          }
        },
        "d185832b25024553a9bb3fa5293dfc13": {
          "model_module": "@jupyter-widgets/base",
          "model_name": "LayoutModel",
          "state": {
            "_view_name": "LayoutView",
            "grid_template_rows": null,
            "right": null,
            "justify_content": null,
            "_view_module": "@jupyter-widgets/base",
            "overflow": null,
            "_model_module_version": "1.2.0",
            "_view_count": null,
            "flex_flow": null,
            "width": null,
            "min_width": null,
            "border": null,
            "align_items": null,
            "bottom": null,
            "_model_module": "@jupyter-widgets/base",
            "top": null,
            "grid_column": null,
            "overflow_y": null,
            "overflow_x": null,
            "grid_auto_flow": null,
            "grid_area": null,
            "grid_template_columns": null,
            "flex": null,
            "_model_name": "LayoutModel",
            "justify_items": null,
            "grid_row": null,
            "max_height": null,
            "align_content": null,
            "visibility": null,
            "align_self": null,
            "height": null,
            "min_height": null,
            "padding": null,
            "grid_auto_rows": null,
            "grid_gap": null,
            "max_width": null,
            "order": null,
            "_view_module_version": "1.2.0",
            "grid_template_areas": null,
            "object_position": null,
            "object_fit": null,
            "grid_auto_columns": null,
            "margin": null,
            "display": null,
            "left": null
          }
        },
        "7fad75839fae44489b09491d7670ad48": {
          "model_module": "@jupyter-widgets/controls",
          "model_name": "FloatProgressModel",
          "state": {
            "_view_name": "ProgressView",
            "style": "IPY_MODEL_d2fa2e247d364d74a7bf89255d506afe",
            "_dom_classes": [],
            "description": "100%",
            "_model_name": "FloatProgressModel",
            "bar_style": "success",
            "max": 157,
            "_view_module": "@jupyter-widgets/controls",
            "_model_module_version": "1.5.0",
            "value": 157,
            "_view_count": null,
            "_view_module_version": "1.5.0",
            "orientation": "horizontal",
            "min": 0,
            "description_tooltip": null,
            "_model_module": "@jupyter-widgets/controls",
            "layout": "IPY_MODEL_d062d4447003433eb6a7bcd3779d661c"
          }
        },
        "5539fbf5b0ed44e39be41e55d5b01171": {
          "model_module": "@jupyter-widgets/controls",
          "model_name": "HTMLModel",
          "state": {
            "_view_name": "HTMLView",
            "style": "IPY_MODEL_96f5efeacfb643f184324edb916098a9",
            "_dom_classes": [],
            "description": "",
            "_model_name": "HTMLModel",
            "placeholder": "​",
            "_view_module": "@jupyter-widgets/controls",
            "_model_module_version": "1.5.0",
            "value": " 157/157 [00:56&lt;00:00,  2.78it/s]",
            "_view_count": null,
            "_view_module_version": "1.5.0",
            "description_tooltip": null,
            "_model_module": "@jupyter-widgets/controls",
            "layout": "IPY_MODEL_e36f939503894eeba9f6ac4d2b4e095d"
          }
        },
        "d2fa2e247d364d74a7bf89255d506afe": {
          "model_module": "@jupyter-widgets/controls",
          "model_name": "ProgressStyleModel",
          "state": {
            "_view_name": "StyleView",
            "_model_name": "ProgressStyleModel",
            "description_width": "initial",
            "_view_module": "@jupyter-widgets/base",
            "_model_module_version": "1.5.0",
            "_view_count": null,
            "_view_module_version": "1.2.0",
            "bar_color": null,
            "_model_module": "@jupyter-widgets/controls"
          }
        },
        "d062d4447003433eb6a7bcd3779d661c": {
          "model_module": "@jupyter-widgets/base",
          "model_name": "LayoutModel",
          "state": {
            "_view_name": "LayoutView",
            "grid_template_rows": null,
            "right": null,
            "justify_content": null,
            "_view_module": "@jupyter-widgets/base",
            "overflow": null,
            "_model_module_version": "1.2.0",
            "_view_count": null,
            "flex_flow": null,
            "width": null,
            "min_width": null,
            "border": null,
            "align_items": null,
            "bottom": null,
            "_model_module": "@jupyter-widgets/base",
            "top": null,
            "grid_column": null,
            "overflow_y": null,
            "overflow_x": null,
            "grid_auto_flow": null,
            "grid_area": null,
            "grid_template_columns": null,
            "flex": null,
            "_model_name": "LayoutModel",
            "justify_items": null,
            "grid_row": null,
            "max_height": null,
            "align_content": null,
            "visibility": null,
            "align_self": null,
            "height": null,
            "min_height": null,
            "padding": null,
            "grid_auto_rows": null,
            "grid_gap": null,
            "max_width": null,
            "order": null,
            "_view_module_version": "1.2.0",
            "grid_template_areas": null,
            "object_position": null,
            "object_fit": null,
            "grid_auto_columns": null,
            "margin": null,
            "display": null,
            "left": null
          }
        },
        "96f5efeacfb643f184324edb916098a9": {
          "model_module": "@jupyter-widgets/controls",
          "model_name": "DescriptionStyleModel",
          "state": {
            "_view_name": "StyleView",
            "_model_name": "DescriptionStyleModel",
            "description_width": "",
            "_view_module": "@jupyter-widgets/base",
            "_model_module_version": "1.5.0",
            "_view_count": null,
            "_view_module_version": "1.2.0",
            "_model_module": "@jupyter-widgets/controls"
          }
        },
        "e36f939503894eeba9f6ac4d2b4e095d": {
          "model_module": "@jupyter-widgets/base",
          "model_name": "LayoutModel",
          "state": {
            "_view_name": "LayoutView",
            "grid_template_rows": null,
            "right": null,
            "justify_content": null,
            "_view_module": "@jupyter-widgets/base",
            "overflow": null,
            "_model_module_version": "1.2.0",
            "_view_count": null,
            "flex_flow": null,
            "width": null,
            "min_width": null,
            "border": null,
            "align_items": null,
            "bottom": null,
            "_model_module": "@jupyter-widgets/base",
            "top": null,
            "grid_column": null,
            "overflow_y": null,
            "overflow_x": null,
            "grid_auto_flow": null,
            "grid_area": null,
            "grid_template_columns": null,
            "flex": null,
            "_model_name": "LayoutModel",
            "justify_items": null,
            "grid_row": null,
            "max_height": null,
            "align_content": null,
            "visibility": null,
            "align_self": null,
            "height": null,
            "min_height": null,
            "padding": null,
            "grid_auto_rows": null,
            "grid_gap": null,
            "max_width": null,
            "order": null,
            "_view_module_version": "1.2.0",
            "grid_template_areas": null,
            "object_position": null,
            "object_fit": null,
            "grid_auto_columns": null,
            "margin": null,
            "display": null,
            "left": null
          }
        },
        "c0e8352cda6e494791ae6d1265141a11": {
          "model_module": "@jupyter-widgets/controls",
          "model_name": "HBoxModel",
          "state": {
            "_view_name": "HBoxView",
            "_dom_classes": [],
            "_model_name": "HBoxModel",
            "_view_module": "@jupyter-widgets/controls",
            "_model_module_version": "1.5.0",
            "_view_count": null,
            "_view_module_version": "1.5.0",
            "box_style": "",
            "layout": "IPY_MODEL_0fcdcc5a2e2e4a5aad0facaeb9481446",
            "_model_module": "@jupyter-widgets/controls",
            "children": [
              "IPY_MODEL_f91edc0e680640748bbc5db2260fb5a6",
              "IPY_MODEL_8aa9eb117b4a46f895f49bde9bd79483"
            ]
          }
        },
        "0fcdcc5a2e2e4a5aad0facaeb9481446": {
          "model_module": "@jupyter-widgets/base",
          "model_name": "LayoutModel",
          "state": {
            "_view_name": "LayoutView",
            "grid_template_rows": null,
            "right": null,
            "justify_content": null,
            "_view_module": "@jupyter-widgets/base",
            "overflow": null,
            "_model_module_version": "1.2.0",
            "_view_count": null,
            "flex_flow": null,
            "width": null,
            "min_width": null,
            "border": null,
            "align_items": null,
            "bottom": null,
            "_model_module": "@jupyter-widgets/base",
            "top": null,
            "grid_column": null,
            "overflow_y": null,
            "overflow_x": null,
            "grid_auto_flow": null,
            "grid_area": null,
            "grid_template_columns": null,
            "flex": null,
            "_model_name": "LayoutModel",
            "justify_items": null,
            "grid_row": null,
            "max_height": null,
            "align_content": null,
            "visibility": null,
            "align_self": null,
            "height": null,
            "min_height": null,
            "padding": null,
            "grid_auto_rows": null,
            "grid_gap": null,
            "max_width": null,
            "order": null,
            "_view_module_version": "1.2.0",
            "grid_template_areas": null,
            "object_position": null,
            "object_fit": null,
            "grid_auto_columns": null,
            "margin": null,
            "display": null,
            "left": null
          }
        },
        "f91edc0e680640748bbc5db2260fb5a6": {
          "model_module": "@jupyter-widgets/controls",
          "model_name": "FloatProgressModel",
          "state": {
            "_view_name": "ProgressView",
            "style": "IPY_MODEL_07ebc1ad8bdf4da38a5cd9140cbb28ad",
            "_dom_classes": [],
            "description": "100%",
            "_model_name": "FloatProgressModel",
            "bar_style": "success",
            "max": 938,
            "_view_module": "@jupyter-widgets/controls",
            "_model_module_version": "1.5.0",
            "value": 938,
            "_view_count": null,
            "_view_module_version": "1.5.0",
            "orientation": "horizontal",
            "min": 0,
            "description_tooltip": null,
            "_model_module": "@jupyter-widgets/controls",
            "layout": "IPY_MODEL_e253e76868e9450a81a5a7956d84ec66"
          }
        },
        "8aa9eb117b4a46f895f49bde9bd79483": {
          "model_module": "@jupyter-widgets/controls",
          "model_name": "HTMLModel",
          "state": {
            "_view_name": "HTMLView",
            "style": "IPY_MODEL_90d8756e0fff451dab8697fd36096c16",
            "_dom_classes": [],
            "description": "",
            "_model_name": "HTMLModel",
            "placeholder": "​",
            "_view_module": "@jupyter-widgets/controls",
            "_model_module_version": "1.5.0",
            "value": " 938/938 [07:22&lt;00:00,  2.12it/s]",
            "_view_count": null,
            "_view_module_version": "1.5.0",
            "description_tooltip": null,
            "_model_module": "@jupyter-widgets/controls",
            "layout": "IPY_MODEL_827a56b09a1545828d994a888fcd17bf"
          }
        },
        "07ebc1ad8bdf4da38a5cd9140cbb28ad": {
          "model_module": "@jupyter-widgets/controls",
          "model_name": "ProgressStyleModel",
          "state": {
            "_view_name": "StyleView",
            "_model_name": "ProgressStyleModel",
            "description_width": "initial",
            "_view_module": "@jupyter-widgets/base",
            "_model_module_version": "1.5.0",
            "_view_count": null,
            "_view_module_version": "1.2.0",
            "bar_color": null,
            "_model_module": "@jupyter-widgets/controls"
          }
        },
        "e253e76868e9450a81a5a7956d84ec66": {
          "model_module": "@jupyter-widgets/base",
          "model_name": "LayoutModel",
          "state": {
            "_view_name": "LayoutView",
            "grid_template_rows": null,
            "right": null,
            "justify_content": null,
            "_view_module": "@jupyter-widgets/base",
            "overflow": null,
            "_model_module_version": "1.2.0",
            "_view_count": null,
            "flex_flow": null,
            "width": null,
            "min_width": null,
            "border": null,
            "align_items": null,
            "bottom": null,
            "_model_module": "@jupyter-widgets/base",
            "top": null,
            "grid_column": null,
            "overflow_y": null,
            "overflow_x": null,
            "grid_auto_flow": null,
            "grid_area": null,
            "grid_template_columns": null,
            "flex": null,
            "_model_name": "LayoutModel",
            "justify_items": null,
            "grid_row": null,
            "max_height": null,
            "align_content": null,
            "visibility": null,
            "align_self": null,
            "height": null,
            "min_height": null,
            "padding": null,
            "grid_auto_rows": null,
            "grid_gap": null,
            "max_width": null,
            "order": null,
            "_view_module_version": "1.2.0",
            "grid_template_areas": null,
            "object_position": null,
            "object_fit": null,
            "grid_auto_columns": null,
            "margin": null,
            "display": null,
            "left": null
          }
        },
        "90d8756e0fff451dab8697fd36096c16": {
          "model_module": "@jupyter-widgets/controls",
          "model_name": "DescriptionStyleModel",
          "state": {
            "_view_name": "StyleView",
            "_model_name": "DescriptionStyleModel",
            "description_width": "",
            "_view_module": "@jupyter-widgets/base",
            "_model_module_version": "1.5.0",
            "_view_count": null,
            "_view_module_version": "1.2.0",
            "_model_module": "@jupyter-widgets/controls"
          }
        },
        "827a56b09a1545828d994a888fcd17bf": {
          "model_module": "@jupyter-widgets/base",
          "model_name": "LayoutModel",
          "state": {
            "_view_name": "LayoutView",
            "grid_template_rows": null,
            "right": null,
            "justify_content": null,
            "_view_module": "@jupyter-widgets/base",
            "overflow": null,
            "_model_module_version": "1.2.0",
            "_view_count": null,
            "flex_flow": null,
            "width": null,
            "min_width": null,
            "border": null,
            "align_items": null,
            "bottom": null,
            "_model_module": "@jupyter-widgets/base",
            "top": null,
            "grid_column": null,
            "overflow_y": null,
            "overflow_x": null,
            "grid_auto_flow": null,
            "grid_area": null,
            "grid_template_columns": null,
            "flex": null,
            "_model_name": "LayoutModel",
            "justify_items": null,
            "grid_row": null,
            "max_height": null,
            "align_content": null,
            "visibility": null,
            "align_self": null,
            "height": null,
            "min_height": null,
            "padding": null,
            "grid_auto_rows": null,
            "grid_gap": null,
            "max_width": null,
            "order": null,
            "_view_module_version": "1.2.0",
            "grid_template_areas": null,
            "object_position": null,
            "object_fit": null,
            "grid_auto_columns": null,
            "margin": null,
            "display": null,
            "left": null
          }
        }
      }
    }
  },
  "cells": [
    {
      "cell_type": "markdown",
      "metadata": {
        "id": "-MUGzKBdImKp"
      },
      "source": [
        "#\"Failing to Success\" ANN-approach: Convoluted Neural Network "
      ]
    },
    {
      "cell_type": "code",
      "metadata": {
        "id": "hRpWvzm_PJoa"
      },
      "source": [
        "import torch \n",
        "import torch.nn as nn\n",
        "import torchvision.transforms as transforms\n",
        "import torchvision.datasets as dsets\n",
        "import matplotlib.pylab as plt\n",
        "import numpy as np\n",
        "from PIL import Image\n",
        "import pandas as pd\n",
        "from sklearn import metrics\n",
        "import seaborn as sns\n",
        "from sklearn.metrics import classification_report\n",
        "from sklearn.metrics import plot_confusion_matrix\n",
        "from sklearn.metrics import confusion_matrix, ConfusionMatrixDisplay"
      ],
      "execution_count": 1,
      "outputs": []
    },
    {
      "cell_type": "markdown",
      "metadata": {
        "id": "QPFVukLLI3Yb"
      },
      "source": [
        "##Step 1: ANN-Approach \n",
        "In trying to get a high accuracy rate on the Fashion-MNIST Dataset, we first attempted to create an Artifical Neural Network with multiple different architectures. Below we will quickly show the results. Each Model was trained over 50 epochs. The changing of the learning rates seemed to increase the accuracy of the models up to a certain point - each model is shown up to the Learning rate where the accuracy did not increase anymore. The steps in the learning rate were 0.001, 0.002, 0.003, 0.005, 0.010 and then a raise of another 0.010 after that to monitor improvement. One model improved up to a learning rate of 0.080 - interestingly after starting out as the second-weakest model with a learning rate of 0.001 at 0.7138. The full table with all results can be seen below: \n"
      ]
    },
    {
      "cell_type": "code",
      "metadata": {
        "id": "wQQE3HyZLu1-"
      },
      "source": [
        "model = [\"2 layers(784,100,10)\",\"2 layers(784,100,10)\",\"2 layers(784,100,10)\",\"2 layers(784,100,10)\",\"2 layers(784,100,10)\",\"3 layers (784,200,100,10)\",\"3 layers (784,200,100,10)\",\n",
        "\"3 layers (784,200,100,10)\",\"3 layers (784,200,100,10)\",\"3 layers (784,200,100,10)\",\"3 layers (784,200,100,10)\",\"3 layers (784,200,100,10)\",\"3 layers (784,200,100,10)\",\n",
        "\"3 layers (784,200,100,10)\",\"3 layers (784,200,100,10)\",\"3 layers (784,200,100,10)\",\"4 Layers (784,392,196,49,10)\",\"4 Layers (784,392,196,49,10)\",\"4 Layers (784,392,196,49,10)\",\n",
        "\"4 Layers (784,392,196,49,10)\",\"4 Layers (784,392,196,49,10)\",\"4 Layers (784,392,196,49,10)\",\"4 Layers (784,392,196,49,10)\",\"4 Layers (784,392,196,49,10)\",\"4 Layers (784,392,196,49,10)\",\n",
        "\"4 Layers (784,392,196,49,10)\",\"4 Layers (784,392,196,49,10)\",\"4 Layers (784,392,196,49,10)\",\"5 Layers (784,392,196,98,49,10)\",\"5 Layers (784,392,196,98,49,10)\",\"5 Layers (784,392,196,98,49,10)\",\n",
        "\"5 Layers (784,392,196,98,49,10)\",\"5 Layers (784,392,196,98,49,10)\",\"5 Layers (784,392,196,98,49,10)\",\"5 Layers (784,392,196,98,49,10)\",\"5 Layers (784,392,196,98,49,10)\"]\n",
        "lr = [\"0.001\",\"0.002\",\"0.003\",\"0.005\",\"0.010\",\"0.001\",\"0.002\",\"0.003\",\"0.005\",\"0.010\",\"0.020\",\"0.030\",\"0.040\",\"0.050\",\"0.060\",\"0.070\",\"0.001\",\"0.002\",\"0.003\",\"0.005\",\"0.010\",\"0.020\",\n",
        "\"0.030\",\"0.040\",\"0.050\",\"0.060\",\"0.070\",\"0.080\",\"0.001\",\"0.002\",\"0.003\",\"0.005\",\"0.010\",\"0.020\",\"0.030\",\"0.040\"]\n",
        "acc = [\"0.7626\",\"0.7815\",\"0.7855\",\"0.7846\",\"0.7815\",\"0.7459\",\"0.774\",\"0.7788\",\"0.7843\",\"0.8025\",\"0.823\",\"0.8359\",\"0.8337\",\"0.8367\",\"0.8446\",\"0.8413\",\"0.7138\",\"0.7511\",\n",
        "\"0.7667\",\"0.7839\",\"0.8244\",\"0.8355\",\"0.8391\",\"0.8475\",\"0.8499\",\"0.8538\",\"0.8539\",\"0.8485\",\"0.6602\",\"0.7436\",\"0.7578\",\"0.7962\",\"0.8186\",\"0.8284\",\"0.837\",\"0.8223\"]"
      ],
      "execution_count": 2,
      "outputs": []
    },
    {
      "cell_type": "code",
      "metadata": {
        "id": "q7Hu0jImIk7T",
        "colab": {
          "base_uri": "https://localhost:8080/",
          "height": 1000
        },
        "outputId": "c5c229a5-da56-47cc-c9b5-d40af7562c60"
      },
      "source": [
        "ANN_DF = {\"Model\": model,'Learning rate': lr, \"Accuracy\":acc}\n",
        "ANN_DF = pd.DataFrame(data=ANN_DF)\n",
        "ANN_DF.set_index([\"Model\"])"
      ],
      "execution_count": 3,
      "outputs": [
        {
          "output_type": "execute_result",
          "data": {
            "text/html": [
              "<div>\n",
              "<style scoped>\n",
              "    .dataframe tbody tr th:only-of-type {\n",
              "        vertical-align: middle;\n",
              "    }\n",
              "\n",
              "    .dataframe tbody tr th {\n",
              "        vertical-align: top;\n",
              "    }\n",
              "\n",
              "    .dataframe thead th {\n",
              "        text-align: right;\n",
              "    }\n",
              "</style>\n",
              "<table border=\"1\" class=\"dataframe\">\n",
              "  <thead>\n",
              "    <tr style=\"text-align: right;\">\n",
              "      <th></th>\n",
              "      <th>Learning rate</th>\n",
              "      <th>Accuracy</th>\n",
              "    </tr>\n",
              "    <tr>\n",
              "      <th>Model</th>\n",
              "      <th></th>\n",
              "      <th></th>\n",
              "    </tr>\n",
              "  </thead>\n",
              "  <tbody>\n",
              "    <tr>\n",
              "      <th>2 layers(784,100,10)</th>\n",
              "      <td>0.001</td>\n",
              "      <td>0.7626</td>\n",
              "    </tr>\n",
              "    <tr>\n",
              "      <th>2 layers(784,100,10)</th>\n",
              "      <td>0.002</td>\n",
              "      <td>0.7815</td>\n",
              "    </tr>\n",
              "    <tr>\n",
              "      <th>2 layers(784,100,10)</th>\n",
              "      <td>0.003</td>\n",
              "      <td>0.7855</td>\n",
              "    </tr>\n",
              "    <tr>\n",
              "      <th>2 layers(784,100,10)</th>\n",
              "      <td>0.005</td>\n",
              "      <td>0.7846</td>\n",
              "    </tr>\n",
              "    <tr>\n",
              "      <th>2 layers(784,100,10)</th>\n",
              "      <td>0.010</td>\n",
              "      <td>0.7815</td>\n",
              "    </tr>\n",
              "    <tr>\n",
              "      <th>3 layers (784,200,100,10)</th>\n",
              "      <td>0.001</td>\n",
              "      <td>0.7459</td>\n",
              "    </tr>\n",
              "    <tr>\n",
              "      <th>3 layers (784,200,100,10)</th>\n",
              "      <td>0.002</td>\n",
              "      <td>0.774</td>\n",
              "    </tr>\n",
              "    <tr>\n",
              "      <th>3 layers (784,200,100,10)</th>\n",
              "      <td>0.003</td>\n",
              "      <td>0.7788</td>\n",
              "    </tr>\n",
              "    <tr>\n",
              "      <th>3 layers (784,200,100,10)</th>\n",
              "      <td>0.005</td>\n",
              "      <td>0.7843</td>\n",
              "    </tr>\n",
              "    <tr>\n",
              "      <th>3 layers (784,200,100,10)</th>\n",
              "      <td>0.010</td>\n",
              "      <td>0.8025</td>\n",
              "    </tr>\n",
              "    <tr>\n",
              "      <th>3 layers (784,200,100,10)</th>\n",
              "      <td>0.020</td>\n",
              "      <td>0.823</td>\n",
              "    </tr>\n",
              "    <tr>\n",
              "      <th>3 layers (784,200,100,10)</th>\n",
              "      <td>0.030</td>\n",
              "      <td>0.8359</td>\n",
              "    </tr>\n",
              "    <tr>\n",
              "      <th>3 layers (784,200,100,10)</th>\n",
              "      <td>0.040</td>\n",
              "      <td>0.8337</td>\n",
              "    </tr>\n",
              "    <tr>\n",
              "      <th>3 layers (784,200,100,10)</th>\n",
              "      <td>0.050</td>\n",
              "      <td>0.8367</td>\n",
              "    </tr>\n",
              "    <tr>\n",
              "      <th>3 layers (784,200,100,10)</th>\n",
              "      <td>0.060</td>\n",
              "      <td>0.8446</td>\n",
              "    </tr>\n",
              "    <tr>\n",
              "      <th>3 layers (784,200,100,10)</th>\n",
              "      <td>0.070</td>\n",
              "      <td>0.8413</td>\n",
              "    </tr>\n",
              "    <tr>\n",
              "      <th>4 Layers (784,392,196,49,10)</th>\n",
              "      <td>0.001</td>\n",
              "      <td>0.7138</td>\n",
              "    </tr>\n",
              "    <tr>\n",
              "      <th>4 Layers (784,392,196,49,10)</th>\n",
              "      <td>0.002</td>\n",
              "      <td>0.7511</td>\n",
              "    </tr>\n",
              "    <tr>\n",
              "      <th>4 Layers (784,392,196,49,10)</th>\n",
              "      <td>0.003</td>\n",
              "      <td>0.7667</td>\n",
              "    </tr>\n",
              "    <tr>\n",
              "      <th>4 Layers (784,392,196,49,10)</th>\n",
              "      <td>0.005</td>\n",
              "      <td>0.7839</td>\n",
              "    </tr>\n",
              "    <tr>\n",
              "      <th>4 Layers (784,392,196,49,10)</th>\n",
              "      <td>0.010</td>\n",
              "      <td>0.8244</td>\n",
              "    </tr>\n",
              "    <tr>\n",
              "      <th>4 Layers (784,392,196,49,10)</th>\n",
              "      <td>0.020</td>\n",
              "      <td>0.8355</td>\n",
              "    </tr>\n",
              "    <tr>\n",
              "      <th>4 Layers (784,392,196,49,10)</th>\n",
              "      <td>0.030</td>\n",
              "      <td>0.8391</td>\n",
              "    </tr>\n",
              "    <tr>\n",
              "      <th>4 Layers (784,392,196,49,10)</th>\n",
              "      <td>0.040</td>\n",
              "      <td>0.8475</td>\n",
              "    </tr>\n",
              "    <tr>\n",
              "      <th>4 Layers (784,392,196,49,10)</th>\n",
              "      <td>0.050</td>\n",
              "      <td>0.8499</td>\n",
              "    </tr>\n",
              "    <tr>\n",
              "      <th>4 Layers (784,392,196,49,10)</th>\n",
              "      <td>0.060</td>\n",
              "      <td>0.8538</td>\n",
              "    </tr>\n",
              "    <tr>\n",
              "      <th>4 Layers (784,392,196,49,10)</th>\n",
              "      <td>0.070</td>\n",
              "      <td>0.8539</td>\n",
              "    </tr>\n",
              "    <tr>\n",
              "      <th>4 Layers (784,392,196,49,10)</th>\n",
              "      <td>0.080</td>\n",
              "      <td>0.8485</td>\n",
              "    </tr>\n",
              "    <tr>\n",
              "      <th>5 Layers (784,392,196,98,49,10)</th>\n",
              "      <td>0.001</td>\n",
              "      <td>0.6602</td>\n",
              "    </tr>\n",
              "    <tr>\n",
              "      <th>5 Layers (784,392,196,98,49,10)</th>\n",
              "      <td>0.002</td>\n",
              "      <td>0.7436</td>\n",
              "    </tr>\n",
              "    <tr>\n",
              "      <th>5 Layers (784,392,196,98,49,10)</th>\n",
              "      <td>0.003</td>\n",
              "      <td>0.7578</td>\n",
              "    </tr>\n",
              "    <tr>\n",
              "      <th>5 Layers (784,392,196,98,49,10)</th>\n",
              "      <td>0.005</td>\n",
              "      <td>0.7962</td>\n",
              "    </tr>\n",
              "    <tr>\n",
              "      <th>5 Layers (784,392,196,98,49,10)</th>\n",
              "      <td>0.010</td>\n",
              "      <td>0.8186</td>\n",
              "    </tr>\n",
              "    <tr>\n",
              "      <th>5 Layers (784,392,196,98,49,10)</th>\n",
              "      <td>0.020</td>\n",
              "      <td>0.8284</td>\n",
              "    </tr>\n",
              "    <tr>\n",
              "      <th>5 Layers (784,392,196,98,49,10)</th>\n",
              "      <td>0.030</td>\n",
              "      <td>0.837</td>\n",
              "    </tr>\n",
              "    <tr>\n",
              "      <th>5 Layers (784,392,196,98,49,10)</th>\n",
              "      <td>0.040</td>\n",
              "      <td>0.8223</td>\n",
              "    </tr>\n",
              "  </tbody>\n",
              "</table>\n",
              "</div>"
            ],
            "text/plain": [
              "                                Learning rate Accuracy\n",
              "Model                                                 \n",
              "2 layers(784,100,10)                    0.001   0.7626\n",
              "2 layers(784,100,10)                    0.002   0.7815\n",
              "2 layers(784,100,10)                    0.003   0.7855\n",
              "2 layers(784,100,10)                    0.005   0.7846\n",
              "2 layers(784,100,10)                    0.010   0.7815\n",
              "3 layers (784,200,100,10)               0.001   0.7459\n",
              "3 layers (784,200,100,10)               0.002    0.774\n",
              "3 layers (784,200,100,10)               0.003   0.7788\n",
              "3 layers (784,200,100,10)               0.005   0.7843\n",
              "3 layers (784,200,100,10)               0.010   0.8025\n",
              "3 layers (784,200,100,10)               0.020    0.823\n",
              "3 layers (784,200,100,10)               0.030   0.8359\n",
              "3 layers (784,200,100,10)               0.040   0.8337\n",
              "3 layers (784,200,100,10)               0.050   0.8367\n",
              "3 layers (784,200,100,10)               0.060   0.8446\n",
              "3 layers (784,200,100,10)               0.070   0.8413\n",
              "4 Layers (784,392,196,49,10)            0.001   0.7138\n",
              "4 Layers (784,392,196,49,10)            0.002   0.7511\n",
              "4 Layers (784,392,196,49,10)            0.003   0.7667\n",
              "4 Layers (784,392,196,49,10)            0.005   0.7839\n",
              "4 Layers (784,392,196,49,10)            0.010   0.8244\n",
              "4 Layers (784,392,196,49,10)            0.020   0.8355\n",
              "4 Layers (784,392,196,49,10)            0.030   0.8391\n",
              "4 Layers (784,392,196,49,10)            0.040   0.8475\n",
              "4 Layers (784,392,196,49,10)            0.050   0.8499\n",
              "4 Layers (784,392,196,49,10)            0.060   0.8538\n",
              "4 Layers (784,392,196,49,10)            0.070   0.8539\n",
              "4 Layers (784,392,196,49,10)            0.080   0.8485\n",
              "5 Layers (784,392,196,98,49,10)         0.001   0.6602\n",
              "5 Layers (784,392,196,98,49,10)         0.002   0.7436\n",
              "5 Layers (784,392,196,98,49,10)         0.003   0.7578\n",
              "5 Layers (784,392,196,98,49,10)         0.005   0.7962\n",
              "5 Layers (784,392,196,98,49,10)         0.010   0.8186\n",
              "5 Layers (784,392,196,98,49,10)         0.020   0.8284\n",
              "5 Layers (784,392,196,98,49,10)         0.030    0.837\n",
              "5 Layers (784,392,196,98,49,10)         0.040   0.8223"
            ]
          },
          "metadata": {
            "tags": []
          },
          "execution_count": 3
        }
      ]
    },
    {
      "cell_type": "markdown",
      "metadata": {
        "id": "h-mkNROeSEEn"
      },
      "source": [
        "##Summary:\n",
        "In short, the highest Accuracy (0.8539) was achieved by a model with 4 layers - however, improvement beyond this seems to be hard to achieve. We could continue trying with more layers, though in the interests of time we will spare ourselves the efforts. We did not expect the ANN to be our top model, and therefore turned to an implementation with a CNN-Model to improve the accuracy."
      ]
    },
    {
      "cell_type": "markdown",
      "metadata": {
        "id": "DrDEdbJFTW3a"
      },
      "source": [
        "##Step 2: CNN-Approach\n",
        "**Loading the Data**\n",
        "\n",
        "Using a CNN-Model, we will try to achieve a greater Accuracy. First, we will start by loading in the Fashion_MNIST Dataset and seperating both the training and testing Data: "
      ]
    },
    {
      "cell_type": "code",
      "metadata": {
        "id": "CkoTawqfSb8T",
        "colab": {
          "base_uri": "https://localhost:8080/",
          "height": 573,
          "referenced_widgets": [
            "e1d9b96ee5d442aeaae41e449b37c808",
            "ce9a2106d1a64111afcef16becb6a1ff",
            "8ee9b7e1bca444b6b509eb9bf371c7f7",
            "aee05e142e9143688c552e504f9611d1",
            "21bccd16f8634415abd9891effa5a931",
            "5b02c0a0d6504803923bc6e74d29f70b",
            "dc7ae885e3ad4949a5026c457d0733e0",
            "6ab674157c6c4b45af3082721f80dd41",
            "1cd94e6d4430427695585d4e535d985b",
            "97ec1191a83149ada61785bf46367fad",
            "a0baed5cf1c1451cafdb2e9c6da7741f",
            "7a80e4c1e38345ab895c632fb0aaca44",
            "a991e9717d904d72b68864522d740242",
            "39382804d9474ecd8c9221df3750b7df",
            "42e5c8beb2194ae7be78be359cb7b585",
            "6e94206aafa34278a071860061cfeec4",
            "f93fd77eb506455bb1c68e6d07cd40d4",
            "b68cda94474d45558f593801b0d5851d",
            "d26778f7e7114809ad3e2877daaf9e54",
            "d8b25a69d3524e3294c10f2f2cc29a0d",
            "ce467514e16d4578a82e81681af9746e",
            "c718e60d961a4a2a97f5182481ca9b3e",
            "9052cf0b693c416592648e1bc8d6c3af",
            "4e8f1834c3ee4d6bbeb0e294f2957ec1",
            "7a751b69393a4cd9965a223bcf3f552b",
            "93b1adfbd6b9403bbd68f67e5a8abe80",
            "e3c5e5a5de224654a8cb07e02f586c53",
            "0408e10b6d294f9580f40304afffcf53",
            "8fe62d897a974033940c07bde999a9a5",
            "37169cae6cc34420ae04e804ee6fedec",
            "2ffe28852d07473294c5ef1dd272f6df",
            "5b94b876d15a445aa40a6c531b071835"
          ]
        },
        "outputId": "2beeae91-adfd-46cb-bef2-d286e4b9f137"
      },
      "source": [
        "IMAGE_SIZE = 28\n",
        "composed = transforms.Compose([transforms.Resize((IMAGE_SIZE, IMAGE_SIZE)), transforms.ToTensor()])\n",
        "\n",
        "train_dataset = dsets.FashionMNIST(root='./data', train=True, download=True, transform=composed)\n",
        "validation_dataset = dsets.FashionMNIST(root='./data', train=False, download=True, transform=composed)\n"
      ],
      "execution_count": 4,
      "outputs": [
        {
          "output_type": "stream",
          "text": [
            "Downloading http://fashion-mnist.s3-website.eu-central-1.amazonaws.com/train-images-idx3-ubyte.gz\n",
            "Downloading http://fashion-mnist.s3-website.eu-central-1.amazonaws.com/train-images-idx3-ubyte.gz to ./data/FashionMNIST/raw/train-images-idx3-ubyte.gz\n"
          ],
          "name": "stdout"
        },
        {
          "output_type": "display_data",
          "data": {
            "application/vnd.jupyter.widget-view+json": {
              "model_id": "e1d9b96ee5d442aeaae41e449b37c808",
              "version_minor": 0,
              "version_major": 2
            },
            "text/plain": [
              "HBox(children=(FloatProgress(value=0.0, max=26421880.0), HTML(value='')))"
            ]
          },
          "metadata": {
            "tags": []
          }
        },
        {
          "output_type": "stream",
          "text": [
            "\n",
            "Extracting ./data/FashionMNIST/raw/train-images-idx3-ubyte.gz to ./data/FashionMNIST/raw\n",
            "\n",
            "Downloading http://fashion-mnist.s3-website.eu-central-1.amazonaws.com/train-labels-idx1-ubyte.gz\n",
            "Downloading http://fashion-mnist.s3-website.eu-central-1.amazonaws.com/train-labels-idx1-ubyte.gz to ./data/FashionMNIST/raw/train-labels-idx1-ubyte.gz\n"
          ],
          "name": "stdout"
        },
        {
          "output_type": "display_data",
          "data": {
            "application/vnd.jupyter.widget-view+json": {
              "model_id": "1cd94e6d4430427695585d4e535d985b",
              "version_minor": 0,
              "version_major": 2
            },
            "text/plain": [
              "HBox(children=(FloatProgress(value=0.0, max=29515.0), HTML(value='')))"
            ]
          },
          "metadata": {
            "tags": []
          }
        },
        {
          "output_type": "stream",
          "text": [
            "\n",
            "Extracting ./data/FashionMNIST/raw/train-labels-idx1-ubyte.gz to ./data/FashionMNIST/raw\n",
            "\n",
            "Downloading http://fashion-mnist.s3-website.eu-central-1.amazonaws.com/t10k-images-idx3-ubyte.gz\n",
            "Downloading http://fashion-mnist.s3-website.eu-central-1.amazonaws.com/t10k-images-idx3-ubyte.gz to ./data/FashionMNIST/raw/t10k-images-idx3-ubyte.gz\n"
          ],
          "name": "stdout"
        },
        {
          "output_type": "display_data",
          "data": {
            "application/vnd.jupyter.widget-view+json": {
              "model_id": "f93fd77eb506455bb1c68e6d07cd40d4",
              "version_minor": 0,
              "version_major": 2
            },
            "text/plain": [
              "HBox(children=(FloatProgress(value=0.0, max=4422102.0), HTML(value='')))"
            ]
          },
          "metadata": {
            "tags": []
          }
        },
        {
          "output_type": "stream",
          "text": [
            "\n",
            "Extracting ./data/FashionMNIST/raw/t10k-images-idx3-ubyte.gz to ./data/FashionMNIST/raw\n",
            "\n",
            "Downloading http://fashion-mnist.s3-website.eu-central-1.amazonaws.com/t10k-labels-idx1-ubyte.gz\n",
            "Downloading http://fashion-mnist.s3-website.eu-central-1.amazonaws.com/t10k-labels-idx1-ubyte.gz to ./data/FashionMNIST/raw/t10k-labels-idx1-ubyte.gz\n"
          ],
          "name": "stdout"
        },
        {
          "output_type": "display_data",
          "data": {
            "application/vnd.jupyter.widget-view+json": {
              "model_id": "7a751b69393a4cd9965a223bcf3f552b",
              "version_minor": 0,
              "version_major": 2
            },
            "text/plain": [
              "HBox(children=(FloatProgress(value=0.0, max=5148.0), HTML(value='')))"
            ]
          },
          "metadata": {
            "tags": []
          }
        },
        {
          "output_type": "stream",
          "text": [
            "\n",
            "Extracting ./data/FashionMNIST/raw/t10k-labels-idx1-ubyte.gz to ./data/FashionMNIST/raw\n",
            "\n",
            "Processing...\n",
            "Done!\n"
          ],
          "name": "stdout"
        },
        {
          "output_type": "stream",
          "text": [
            "/usr/local/lib/python3.7/dist-packages/torchvision/datasets/mnist.py:502: UserWarning: The given NumPy array is not writeable, and PyTorch does not support non-writeable tensors. This means you can write to the underlying (supposedly non-writeable) NumPy array using the tensor. You may want to copy the array to protect its data or make it writeable before converting it to a tensor. This type of warning will be suppressed for the rest of this program. (Triggered internally at  /pytorch/torch/csrc/utils/tensor_numpy.cpp:143.)\n",
            "  return torch.from_numpy(parsed.astype(m[2], copy=False)).view(*s)\n"
          ],
          "name": "stderr"
        }
      ]
    },
    {
      "cell_type": "markdown",
      "metadata": {
        "id": "oUDlQwzdTq9d"
      },
      "source": [
        "Now that we have loaded the dataset, we will write the Model itself as a class. After some experimentation, we settled on writing a model with two convolutional layers between the input and the final prediction. We will also define the forward pass method to update the weights. \n"
      ]
    },
    {
      "cell_type": "code",
      "metadata": {
        "id": "vYHtIgU9SeXV"
      },
      "source": [
        "class CNN(nn.Module):    \n",
        "    # Constructor\n",
        "    def __init__(self, out_1=3, out_2=12):\n",
        "        super(CNN, self).__init__()\n",
        "        self.cnn1 = nn.Conv2d(in_channels=1, out_channels=out_1, kernel_size=5, padding=2)\n",
        "        self.maxpool1=nn.MaxPool2d(kernel_size=3, stride = 2)\n",
        "        self.cnn2 = nn.Conv2d(in_channels=out_1, out_channels=out_2, kernel_size=5, stride=1, padding=2)\n",
        "        self.maxpool2=nn.MaxPool2d(kernel_size=3, stride = 2)\n",
        "        self.fc1 = nn.Linear(432,84) \n",
        "        self.fc2 = nn.Linear(84,10)   \n",
        "        self.relu2 = nn.ReLU(inplace=True) # the non-linarity\n",
        "        self.logsoftmax = nn.LogSoftmax(dim=1) # the softmax\n",
        "\n",
        "    # Prediction\n",
        "    def forward(self, x):\n",
        "        x = self.cnn1(x)\n",
        "        x = torch.relu(x)\n",
        "        x = self.maxpool1(x)\n",
        "        x = self.cnn2(x)\n",
        "        x = torch.relu(x)\n",
        "        x = self.maxpool2(x)\n",
        "        x = x.view(x.size(0), -1)\n",
        "        x = self.relu2(self.fc1(x))\n",
        "        x = self.logsoftmax(self.fc2(x))\n",
        "        return x\n",
        "    \n",
        "model = CNN(out_1=3, out_2=12)"
      ],
      "execution_count": 5,
      "outputs": []
    },
    {
      "cell_type": "markdown",
      "metadata": {
        "id": "TXfZSbCtnRco"
      },
      "source": [
        "**Scope of model**\n",
        "\n",
        "We will then quickly inspect the scope of the model by looking at the numbers of parameters: "
      ]
    },
    {
      "cell_type": "code",
      "metadata": {
        "id": "Cj8J3gymrbNZ",
        "colab": {
          "base_uri": "https://localhost:8080/"
        },
        "outputId": "561a96fb-84d8-40eb-e69e-2757839e2b45"
      },
      "source": [
        "num_params = 0\n",
        "# iterate over the distinct parameters\n",
        "for param in model.parameters():\n",
        "    # collect number of parameters\n",
        "    num_params += param.numel()\n",
        "# print the number of model paramters\n",
        "print('[LOG] Number of our CNN model parameters: {}.'.format(num_params))"
      ],
      "execution_count": 6,
      "outputs": [
        {
          "output_type": "stream",
          "text": [
            "[LOG] Number of our CNN model parameters: 38212.\n"
          ],
          "name": "stdout"
        }
      ]
    },
    {
      "cell_type": "markdown",
      "metadata": {
        "id": "_ILS16fRT4xS"
      },
      "source": [
        "Just as in the lectures, we observe a smaller number than in our ANN Models. \n",
        "\n"
      ]
    },
    {
      "cell_type": "markdown",
      "metadata": {
        "id": "pcXY6O7jsfCZ"
      },
      "source": [
        "**Learning rate and preparation of Batches**\n",
        "\n",
        "We then instantiate the learning rate, and set the optimization process to Stochastic Gradial Descent. We want to set the learning rate to something reasonably high from the beginning, as we have seen from the ANN approach. We also prepare the batches that will be fed into our model:"
      ]
    },
    {
      "cell_type": "code",
      "metadata": {
        "id": "sLC6AzqjShdJ"
      },
      "source": [
        "criterion = nn.CrossEntropyLoss()\n",
        "learning_rate = 0.02 \n",
        "optimizer = torch.optim.SGD(model.parameters(), lr = learning_rate)\n",
        "train_loader = torch.utils.data.DataLoader(dataset=train_dataset, batch_size=100)\n",
        "train_val_loader = torch.utils.data.DataLoader(dataset=train_dataset, batch_size=30000) #for the training accuracy\n",
        "\n",
        "validation_loader = torch.utils.data.DataLoader(dataset=validation_dataset, batch_size=5000) #for the testing accuraccy\n",
        "\n"
      ],
      "execution_count": 7,
      "outputs": []
    },
    {
      "cell_type": "markdown",
      "metadata": {
        "id": "6LM8Q-_JUF2k"
      },
      "source": [
        "**Saving results**\n",
        "\n",
        "Lastly, we will choose the number of epochs as well as create three empty lists where we can store the COST values as well as the accuracy of the model at every epoch so we can plot the results at the end. While our model trains, it will save the COST parameter, the training and testing accuracy of the model at each epoch, allowing us to then at the end select the best model from the list of accuracies:"
      ]
    },
    {
      "cell_type": "code",
      "metadata": {
        "id": "k8gQ0Vw3SkHm"
      },
      "source": [
        "n_epochs=20 \n",
        "cost_list=[]\n",
        "train_accuracy_list=[]\n",
        "test_accuracy_list=[]\n",
        "predictions = []\n",
        "N_test=len(validation_dataset)\n",
        "N_train_val=len(train_dataset)\n",
        "COST=0"
      ],
      "execution_count": 8,
      "outputs": []
    },
    {
      "cell_type": "markdown",
      "metadata": {
        "id": "n2CWCmGCUWSm"
      },
      "source": [
        "**The train_model function**\n",
        "\n",
        "Finally, we define the function to train the model and let it run. This process will take about 10 minutes for 20 Epochs, and give us the three lists we described earlier. Our model will add the loss to the COST, (hopefully) decreasing it as it continues."
      ]
    },
    {
      "cell_type": "code",
      "metadata": {
        "id": "W0LmhZo94r06"
      },
      "source": [
        "def train_model(n_epochs):\n",
        "    for epoch in range(n_epochs):\n",
        "        COST=0\n",
        "        for x, y in train_loader:\n",
        "            optimizer.zero_grad()\n",
        "            z = model(x)\n",
        "            loss = criterion(z, y)\n",
        "            loss.backward()\n",
        "            optimizer.step()\n",
        "            COST+=loss.data       \n",
        "        cost_list.append(COST)\n",
        "        train_correct=0\n",
        "        test_correct=0\n",
        "\n",
        "        #perform predictions on training data:\n",
        "        for tx_test, ty_test in train_val_loader:\n",
        "            z = model(tx_test)\n",
        "            _, tyhat = torch.max(z.data, 1)\n",
        "            train_correct += (tyhat == ty_test).sum().item()\n",
        "        accuracy_train = train_correct / N_train_val\n",
        "        train_accuracy_list.append(accuracy_train)\n",
        "\n",
        "        #perform a prediction on the validation  data  \n",
        "        for x_test, y_test in validation_loader:\n",
        "            z = model(x_test)\n",
        "            _, yhat = torch.max(z.data, 1)\n",
        "            test_correct += (yhat == y_test).sum().item()\n",
        "        accuracy_test = test_correct / N_test\n",
        "        test_accuracy_list.append(accuracy_test)\n",
        "\n",
        "        print(\"Epoch {} complete\".format(epoch))"
      ],
      "execution_count": 9,
      "outputs": []
    },
    {
      "cell_type": "markdown",
      "metadata": {
        "id": "82u8WrKdKfbh"
      },
      "source": [
        "**Hyperparameter Tuning**\n",
        "\n",
        "As we did not want to simply take the default values for the optimizer, we conducted a grid search over 12 combinations of hyperparameters for the learning rate and the momentum. We calculated the accuracy for each combination and stored it in a dictionary, from which we retrieved the combination with the highest accuracy achieved after 20 epochs. We commented out the code since it runs a very long time to get the accuracy of each combination of hyperparameters. But feel free to try it out!\n",
        "\n",
        "Besides these hyperparameters we also tried out the Adam-optimization function and also applying Dropout-Layers to the CNN.\n"
      ]
    },
    {
      "cell_type": "code",
      "metadata": {
        "id": "55t35rfrKcU-"
      },
      "source": [
        "#n_epochs=20\n",
        "#param_dict = {'lr':[0.001,0.01,0.05,0.1], 'momentum':[0.4,0.6,0.9]}\n",
        "#grid_dict = {}\n",
        "#for lera in param_dict['lr']:\n",
        "#    for moment in param_dict['momentum']:\n",
        "#      accuracy_list = []\n",
        "#      model = CNN(out_1=3, out_2=12)\n",
        "#      optimizer = torch.optim.SGD(model.parameters(), lr = lera, momentum = moment)\n",
        "#      key = 'lr='+ str(lera )+' momentum='+str(moment)\n",
        "#      acc = train_model(n_epochs)\n",
        "#      grid_dict[key] = acc\n",
        "\n",
        "#max(grid_dict, key=grid_dict.get)"
      ],
      "execution_count": null,
      "outputs": []
    },
    {
      "cell_type": "markdown",
      "metadata": {
        "id": "0BZa3-hoOwMI"
      },
      "source": [
        "We then use the values that yielded the highest accuracy for training the CNN for even more Epochs. We saved the testing and the training accuracy as well as the cost to a list for further evaluation. In our grid search, the best hyperparameters were learning rate = 0.05 and momentum = 0.9. (This could change with a different seed) As 0.9 is exactly the default of Pytorch's opimizer, we can just pass no value to the optimizer."
      ]
    },
    {
      "cell_type": "markdown",
      "metadata": {
        "id": "JG82aYOErHRj"
      },
      "source": [
        "**Running the model** \n",
        "\n",
        "We have finished our preparations and cna now run the model"
      ]
    },
    {
      "cell_type": "code",
      "metadata": {
        "colab": {
          "base_uri": "https://localhost:8080/"
        },
        "id": "l7SNnkhgLAKK",
        "outputId": "bc78be34-fa14-4fe8-e89b-3400eccd4c3a"
      },
      "source": [
        "accuracy_list = []\n",
        "lera = 0.05\n",
        "n_epochs = 20 \n",
        "\n",
        "model = CNN(out_1=3, out_2=12)\n",
        "optimizer = torch.optim.SGD(model.parameters(), lr = lera)\n",
        "\n",
        "train_model(n_epochs)"
      ],
      "execution_count": null,
      "outputs": [
        {
          "output_type": "stream",
          "text": [
            "Epoch 0 complete\n",
            "Epoch 1 complete\n",
            "Epoch 2 complete\n",
            "Epoch 3 complete\n",
            "Epoch 4 complete\n",
            "Epoch 5 complete\n",
            "Epoch 6 complete\n",
            "Epoch 7 complete\n",
            "Epoch 8 complete\n",
            "Epoch 9 complete\n",
            "Epoch 10 complete\n",
            "Epoch 11 complete\n",
            "Epoch 12 complete\n",
            "Epoch 13 complete\n",
            "Epoch 14 complete\n",
            "Epoch 15 complete\n",
            "Epoch 16 complete\n",
            "Epoch 17 complete\n",
            "Epoch 18 complete\n",
            "Epoch 19 complete\n"
          ],
          "name": "stdout"
        }
      ]
    },
    {
      "cell_type": "markdown",
      "metadata": {
        "id": "1sers7wq8Wrh"
      },
      "source": [
        "Ideally we will see the increase in Accuracy as well as the decrease in COST in our plots now and see a continuous improvement of our model:"
      ]
    },
    {
      "cell_type": "markdown",
      "metadata": {
        "id": "fHVIOjNjo07Q"
      },
      "source": [
        "**Inspecting performance**\n",
        "\n",
        "**Training Accuracy**\n",
        "\n",
        "Let us look at the Training accuracy (we expect this to be higher than the testing accuracy)"
      ]
    },
    {
      "cell_type": "code",
      "metadata": {
        "id": "nwYyzM7-UOQD",
        "colab": {
          "base_uri": "https://localhost:8080/",
          "height": 298
        },
        "outputId": "2dde68f4-078c-46f6-da87-d9edcee62e5a"
      },
      "source": [
        "plt.plot(train_accuracy_list)\n",
        "plt.title(\"Changes in Training Accuracy for simple CNN Model:\")\n",
        "plt.show()\n",
        "\n",
        "print(\"The highest Training Accuracy for this Model was {}\".format(round(max(train_accuracy_list),4)))"
      ],
      "execution_count": null,
      "outputs": [
        {
          "output_type": "display_data",
          "data": {
            "image/png": "[encoded data removed]",
            "text/plain": [
              "<Figure size 432x288 with 1 Axes>"
            ]
          },
          "metadata": {
            "tags": [],
            "needs_background": "light"
          }
        },
        {
          "output_type": "stream",
          "text": [
            "The highest Training Accuracy for this Model was 0.9032\n"
          ],
          "name": "stdout"
        }
      ]
    },
    {
      "cell_type": "markdown",
      "metadata": {
        "id": "9shWCbMUMrgm"
      },
      "source": [
        "**COST decrease**\n",
        "\n",
        "As predicted, we can also see a continuous decrease in the COST, implying that the model is indeed improving with more iterations. The curve soon starts to smooth out after the 10th iteration, implying that at this point accuracy improvemet will continue more slowly:"
      ]
    },
    {
      "cell_type": "code",
      "metadata": {
        "colab": {
          "base_uri": "https://localhost:8080/",
          "height": 281
        },
        "id": "JiCWMdPEbmM4",
        "outputId": "8732be00-2c23-4eaf-e572-3096645ecea1"
      },
      "source": [
        "plt.plot(cost_list)\n",
        "plt.title(\"Changes in COST over the Epochs:\")\n",
        "plt.show()"
      ],
      "execution_count": null,
      "outputs": [
        {
          "output_type": "display_data",
          "data": {
            "image/png": "[encoded data removed]",
            "text/plain": [
              "<Figure size 432x288 with 1 Axes>"
            ]
          },
          "metadata": {
            "tags": [],
            "needs_background": "light"
          }
        }
      ]
    },
    {
      "cell_type": "markdown",
      "metadata": {
        "id": "5P-Kt4Y5bov_"
      },
      "source": [
        "**Testing Accuracy**\n",
        "\n",
        "Let us then look at the Testing Accuracy (we expect this to be lower than the training accuracy):\n"
      ]
    },
    {
      "cell_type": "code",
      "metadata": {
        "colab": {
          "base_uri": "https://localhost:8080/",
          "height": 298
        },
        "id": "NnPdHpZu8f-M",
        "outputId": "a156aad0-b188-46cc-b9a7-8107160362f9"
      },
      "source": [
        "plt.plot(test_accuracy_list)\n",
        "plt.title(\"Changes in Testing Accuracy for simple CNN Model\")\n",
        "plt.show()\n",
        "\n",
        "print(\"The highest Testing Accuracy for this Model {}\".format(round(max(test_accuracy_list),4)))"
      ],
      "execution_count": null,
      "outputs": [
        {
          "output_type": "display_data",
          "data": {
            "image/png": "[encoded data removed]",
            "text/plain": [
              "<Figure size 432x288 with 1 Axes>"
            ]
          },
          "metadata": {
            "tags": [],
            "needs_background": "light"
          }
        },
        {
          "output_type": "stream",
          "text": [
            "The highest Testing Accuracy for this Model 0.8853\n"
          ],
          "name": "stdout"
        }
      ]
    },
    {
      "cell_type": "markdown",
      "metadata": {
        "id": "Rvr9F6BhpArt"
      },
      "source": [
        "The training and testing accuracies do not differ wildly, implying that our model is somewhat generalized and is not overfitting massively. Next, we will load in the predictions of our best model and create a Confusion-Matrix to inspect where our model seems to be misclassifying:"
      ]
    },
    {
      "cell_type": "markdown",
      "metadata": {
        "id": "eudTWO8rqKr4"
      },
      "source": [
        "**Preparation Confusion Matrix**\n",
        "\n",
        "First, we load in the predictions into a list"
      ]
    },
    {
      "cell_type": "code",
      "metadata": {
        "id": "xT51ifqeM8XM"
      },
      "source": [
        "predictions = []\n",
        "for x_test, y_test in validation_loader:\n",
        "            z = model(x_test)\n",
        "            _, yhat = torch.max(z.data, 1)\n",
        "            predictions.append(yhat)\n",
        "\n"
      ],
      "execution_count": null,
      "outputs": []
    },
    {
      "cell_type": "markdown",
      "metadata": {
        "id": "dhbPK0wvqMRJ"
      },
      "source": [
        "We then concatenate the results of the predictions. We will quickly inspect whether we have gotten the correct model getting the Accuracy using the accuracy_score and checking whether it is the same as our best model: "
      ]
    },
    {
      "cell_type": "code",
      "metadata": {
        "colab": {
          "base_uri": "https://localhost:8080/"
        },
        "id": "oNCT2oDOAOXI",
        "outputId": "2222bd40-fea4-4cd5-d211-a69c56bbb6fd"
      },
      "source": [
        "pred_tensor = torch.cat((predictions[0], predictions[1]), 0)\n",
        "metrics.accuracy_score(validation_dataset.targets, pred_tensor)"
      ],
      "execution_count": null,
      "outputs": [
        {
          "output_type": "stream",
          "text": [
            "tensor([9, 2, 1,  ..., 8, 1, 5])\n"
          ],
          "name": "stdout"
        },
        {
          "output_type": "execute_result",
          "data": {
            "text/plain": [
              "0.8853"
            ]
          },
          "metadata": {
            "tags": []
          },
          "execution_count": 16
        }
      ]
    },
    {
      "cell_type": "markdown",
      "metadata": {
        "id": "uF7vJHoWt843"
      },
      "source": [
        "It is, great! "
      ]
    },
    {
      "cell_type": "markdown",
      "metadata": {
        "id": "Ftm7qhDmqgkt"
      },
      "source": [
        "**Building Confusion Matrix**\n",
        "\n",
        "Now we can start building the confusion matrix. We are looking for a strong cross-line which indicates correct classification among all classes. Let us take a look:"
      ]
    },
    {
      "cell_type": "code",
      "metadata": {
        "colab": {
          "base_uri": "https://localhost:8080/",
          "height": 512
        },
        "id": "duOx9wYVAO9f",
        "outputId": "b14e19b9-1132-47a1-f17c-26288ae74af9"
      },
      "source": [
        "# determine classification matrix of the predicted and target classes\n",
        "mat = confusion_matrix(validation_dataset.targets, pred_tensor)\n",
        "\n",
        "# initialize the plot and define size\n",
        "plt.figure(figsize=(8, 8))\n",
        "label_list = [\"T-shirt/top\", \"Trouser\",\"Pullover\",\"Dress\",\"Coat\",\"Sandal\",\"Shirt\",\"Sneaker\",\"Bag\",\"Ankle boot\"]\n",
        "# plot corresponding confusion matrix\n",
        "sns.heatmap(mat.T, square=True, annot=True, fmt='d', cbar=False, cmap='YlOrRd_r', xticklabels=label_list, yticklabels=label_list)\n",
        "plt.tick_params(axis='both', which='major', labelsize=8, labelbottom = False, bottom=False, top = False, left = False, labeltop=True)\n",
        "plt.title('Simple CNN classification matrix')\n",
        "plt.xlabel('[Ground truth]')\n",
        "plt.ylabel('[Prediction]');"
      ],
      "execution_count": null,
      "outputs": [
        {
          "output_type": "display_data",
          "data": {
            "image/png": "[encoded data removed]",
            "text/plain": [
              "<Figure size 576x576 with 1 Axes>"
            ]
          },
          "metadata": {
            "tags": [],
            "needs_background": "light"
          }
        }
      ]
    },
    {
      "cell_type": "markdown",
      "metadata": {
        "id": "_IrgDvwspToN"
      },
      "source": [
        "We can see a relatively prominent cross-line, implying that most of our classifications seem to be correct. However, there are a few outliers: Shirts and T-shirts are confused very often, as well as pullovers which get mistaken as either coats or shirts. Shirts and coats also get confused, but less frequently. Overall, just like the SVM, the misclassifications seem to stem from a source of \"difficult classes\""
      ]
    },
    {
      "cell_type": "markdown",
      "metadata": {
        "id": "dslJa8L6b5wd"
      },
      "source": [
        "###Recap simple CNN Model\n",
        "We have an Accuracy of 88.53% for the Testing Dataset, which is already better than the SVM approach. As we can see, some jitter in the end of our training might indicate that our model may need a smaller parameter from Epoch 15 or so onwards. While this result is not bad per se, we will aim to further increase the Accuracy with another idea: We will extend the original Dataset with more Data! "
      ]
    },
    {
      "cell_type": "markdown",
      "metadata": {
        "id": "Zw9mEoSGoRBW"
      },
      "source": [
        "##Creative Approach: Expand Dataset with fake images using a GAN##\n",
        "\n",
        "Using a Generative Adversarial Network, we want to try and expand the dataset with pictures of more clothes. After the expansion, the model will have more data to train on and may increase in accuracy! "
      ]
    },
    {
      "cell_type": "markdown",
      "metadata": {
        "id": "GzoxTLI5REMD"
      },
      "source": [
        "**Import necessary Libraries**\n",
        "\n",
        "We need a whole lot of libraries for this task!"
      ]
    },
    {
      "cell_type": "code",
      "metadata": {
        "id": "kzsmN2xYRC8n"
      },
      "source": [
        "import argparse\n",
        "import os\n",
        "import pandas as pd\n",
        "import random\n",
        "import torch\n",
        "import torch.nn as nn\n",
        "import torch.nn.parallel\n",
        "import torch.backends.cudnn as cudnn\n",
        "import torch.optim as optim\n",
        "import torch.utils.data\n",
        "import torchvision.datasets as dsets\n",
        "import torchvision.transforms as transforms\n",
        "import torchvision.utils as vutils\n",
        "import numpy as np\n",
        "import matplotlib.pyplot as plt\n",
        "import matplotlib.animation as animation\n",
        "from IPython.display import HTML\n",
        "from google.colab import files"
      ],
      "execution_count": 10,
      "outputs": []
    },
    {
      "cell_type": "markdown",
      "metadata": {
        "id": "jrnKXEdlRSeT"
      },
      "source": [
        "**Parameter initialisation**\n",
        "\n",
        "Before setting up the models, we need to set some parameters like the batch size, the number of channels and so on. See comments for further details!"
      ]
    },
    {
      "cell_type": "code",
      "metadata": {
        "id": "dmWMRlEHRMeE"
      },
      "source": [
        "# Root directory for dataset\n",
        "dataroot = \"data/celeba\"\n",
        "# Number of workers for dataloader\n",
        "workers = 2\n",
        "# Batch size during training\n",
        "batch_size = 128\n",
        "# Spatial size of training images. All images will be resized to this\n",
        "# size using a transformer.\n",
        "image_size = 64\n",
        "# Number of channels in the training images. For color images this is 3\n",
        "nc = 1\n",
        "# Size of z latent vector (i.e. size of generator input)\n",
        "nz = 100\n",
        "# Size of feature maps in generator\n",
        "ngf = 64\n",
        "# Size of feature maps in discriminator\n",
        "ndf = 64\n",
        "# Number of training epochs\n",
        "num_epochs = 5\n",
        "# Learning rate for optimizers\n",
        "lr = 0.0002\n",
        "# Beta1 hyperparam for Adam optimizers\n",
        "beta1 = 0.5\n",
        "# Number of GPUs available. Use 0 for CPU mode.\n",
        "ngpu = 1\n",
        "# Device that will be used for training\n",
        "torch.cuda.is_available()\n",
        "device = torch.device(\"cuda:0\" if (torch.cuda.is_available() and ngpu > 0) else \"cpu\")"
      ],
      "execution_count": 11,
      "outputs": []
    },
    {
      "cell_type": "markdown",
      "metadata": {
        "id": "IQFfSnAqRkUh"
      },
      "source": [
        "**Loading the dataset**\n",
        "\n",
        "We load again the dataset that we will use. We apply some transforms on the image so the applied architecture of the GAN works best. This is why we enlargen the image to a size of 64x64 pixels."
      ]
    },
    {
      "cell_type": "code",
      "metadata": {
        "id": "xgyuACMLR4I0"
      },
      "source": [
        "IMAGE_SIZE = 64\n",
        "composed = transforms.Compose([transforms.Resize(image_size),transforms.CenterCrop(image_size),transforms.ToTensor(),transforms.Normalize((0.5,), (0.5,))])\n",
        "\n",
        "train_dataset_gan = dsets.FashionMNIST(root='./data', train = True, download=True, transform=composed)\n",
        "validation_dataset_gan = dsets.FashionMNIST(root='./data', train=False, download=True, transform=composed)"
      ],
      "execution_count": 12,
      "outputs": []
    },
    {
      "cell_type": "markdown",
      "metadata": {
        "id": "atp8DgdoR6tu"
      },
      "source": [
        "**Function for retrieving data by category name**\n",
        "\n",
        "This function will come in handy when generating fake clothes as we can let the generator train on only one class. Of course we only use training data for training!"
      ]
    },
    {
      "cell_type": "code",
      "metadata": {
        "id": "Ad2YSreoSCEh"
      },
      "source": [
        "def get_data(cat):\n",
        "  tshirts = []\n",
        "  for i,j in train_dataset_gan:\n",
        "    if j == cat:\n",
        "      tshirts.append([i,j])\n",
        "      \n",
        "  data = torch.utils.data.DataLoader(tshirts, batch_size=batch_size,shuffle=True, num_workers=workers)\n",
        "  return data"
      ],
      "execution_count": 13,
      "outputs": []
    },
    {
      "cell_type": "markdown",
      "metadata": {
        "id": "lfzOYqhoTC3g"
      },
      "source": [
        "**Initialize Weights**\n",
        "\n",
        "Before building the model we initiate some of the weights of the layers."
      ]
    },
    {
      "cell_type": "code",
      "metadata": {
        "id": "UmUBtfNKTBR8"
      },
      "source": [
        "def weights_init(m):\n",
        "    classname = m.__class__.__name__\n",
        "    if classname.find('Conv') != -1:\n",
        "        nn.init.normal_(m.weight.data, 0.0, 0.02)\n",
        "    elif classname.find('BatchNorm') != -1:\n",
        "        nn.init.normal_(m.weight.data, 1.0, 0.02)\n",
        "        nn.init.constant_(m.bias.data, 0)"
      ],
      "execution_count": 14,
      "outputs": []
    },
    {
      "cell_type": "markdown",
      "metadata": {
        "id": "INQlATc9TO8w"
      },
      "source": [
        "**Building the Generator**\n",
        "\n",
        "Now the fun part begins! The Generator in the GAN is the model that turns random noise into a beautiful new fashion collection and tries to fool the Discriminator. Essentially, the Generator is a reversed or \"transposed\" Convolutional Neural Network itself. In contrast to a convolutional layer, a transposed convolutional layer enlarges the input! The Bach Normalization layers directly normalize the tensors. In the code below you can see that we used the nn.Sequential method for combining the layers of the network."
      ]
    },
    {
      "cell_type": "code",
      "metadata": {
        "id": "N5Z8HCKQTKlT"
      },
      "source": [
        "class Generator(nn.Module):\n",
        "    def __init__(self, ngpu):\n",
        "        super(Generator, self).__init__()\n",
        "        self.ngpu = ngpu\n",
        "        self.main = nn.Sequential(\n",
        "            # input is Z, going into a convolution\n",
        "            nn.ConvTranspose2d( nz, ngf * 8, 4, 1, 0, bias=False),\n",
        "            nn.BatchNorm2d(ngf * 8),\n",
        "            nn.ReLU(True),\n",
        "            # state size. (ngf*8) x 4 x 4\n",
        "            nn.ConvTranspose2d(ngf * 8, ngf * 4, 4, 2, 1, bias=False),\n",
        "            nn.BatchNorm2d(ngf * 4),\n",
        "            nn.ReLU(True),\n",
        "            # state size. (ngf*4) x 8 x 8\n",
        "            nn.ConvTranspose2d( ngf * 4, ngf * 2, 4, 2, 1, bias=False),\n",
        "            nn.BatchNorm2d(ngf * 2),\n",
        "            nn.ReLU(True),\n",
        "            # state size. (ngf*2) x 16 x 16\n",
        "            nn.ConvTranspose2d( ngf * 2, ngf, 4, 2, 1, bias=False),\n",
        "            nn.BatchNorm2d(ngf),\n",
        "            nn.ReLU(True),\n",
        "            # state size. (ngf) x 32 x 32\n",
        "            nn.ConvTranspose2d( ngf, nc, 4, 2, 1, bias=False),\n",
        "            nn.Tanh()\n",
        "            # state size. (nc) x 64 x 64\n",
        "        )\n",
        "\n",
        "    def forward(self, input):\n",
        "        return self.main(input)"
      ],
      "execution_count": 15,
      "outputs": []
    },
    {
      "cell_type": "markdown",
      "metadata": {
        "id": "mchUqf06UmEK"
      },
      "source": [
        "**Initiating the Generator**\n",
        "\n",
        "Now that the Generator is built, we just need to initiate it. We also apply the weights that we defined before. Finally, we print the architecture of the Generator. Isn't it a beauty? :)"
      ]
    },
    {
      "cell_type": "code",
      "metadata": {
        "id": "sYFoxbqFSbvP",
        "colab": {
          "base_uri": "https://localhost:8080/"
        },
        "outputId": "f463d7c6-8c22-45e5-8d96-0c44c909c757"
      },
      "source": [
        "#Create the generator\n",
        "netG = Generator(ngpu).to(device)\n",
        "\n",
        "# Handle multi-gpu if desired\n",
        "if (device.type == 'cuda') and (ngpu > 1):\n",
        "    netG = nn.DataParallel(netG, list(range(ngpu)))\n",
        "\n",
        "# Apply the weights_init function to randomly initialize all weights\n",
        "#  to mean=0, stdev=0.2.\n",
        "netG.apply(weights_init)\n",
        "\n",
        "# Print the model\n",
        "print(netG)"
      ],
      "execution_count": 16,
      "outputs": [
        {
          "output_type": "stream",
          "text": [
            "Generator(\n",
            "  (main): Sequential(\n",
            "    (0): ConvTranspose2d(100, 512, kernel_size=(4, 4), stride=(1, 1), bias=False)\n",
            "    (1): BatchNorm2d(512, eps=1e-05, momentum=0.1, affine=True, track_running_stats=True)\n",
            "    (2): ReLU(inplace=True)\n",
            "    (3): ConvTranspose2d(512, 256, kernel_size=(4, 4), stride=(2, 2), padding=(1, 1), bias=False)\n",
            "    (4): BatchNorm2d(256, eps=1e-05, momentum=0.1, affine=True, track_running_stats=True)\n",
            "    (5): ReLU(inplace=True)\n",
            "    (6): ConvTranspose2d(256, 128, kernel_size=(4, 4), stride=(2, 2), padding=(1, 1), bias=False)\n",
            "    (7): BatchNorm2d(128, eps=1e-05, momentum=0.1, affine=True, track_running_stats=True)\n",
            "    (8): ReLU(inplace=True)\n",
            "    (9): ConvTranspose2d(128, 64, kernel_size=(4, 4), stride=(2, 2), padding=(1, 1), bias=False)\n",
            "    (10): BatchNorm2d(64, eps=1e-05, momentum=0.1, affine=True, track_running_stats=True)\n",
            "    (11): ReLU(inplace=True)\n",
            "    (12): ConvTranspose2d(64, 1, kernel_size=(4, 4), stride=(2, 2), padding=(1, 1), bias=False)\n",
            "    (13): Tanh()\n",
            "  )\n",
            ")\n"
          ],
          "name": "stdout"
        }
      ]
    },
    {
      "cell_type": "markdown",
      "metadata": {
        "id": "wAdvrcT5VuOg"
      },
      "source": [
        "**Building the Discriminator**\n",
        "\n",
        "Now that we have a model that fakes the newest fashion line, we need an expert that can recognize the fakes. Here is where the Discriminator comes into play. The Discriminator itself is a Convolutional Neural Network with no fully connected layers."
      ]
    },
    {
      "cell_type": "code",
      "metadata": {
        "id": "BShO1VEPVtgg"
      },
      "source": [
        "class Discriminator(nn.Module):\n",
        "    def __init__(self, ngpu):\n",
        "        super(Discriminator, self).__init__()\n",
        "        self.ngpu = ngpu\n",
        "        self.main = nn.Sequential(\n",
        "            # input is (nc) x 64 x 64\n",
        "            nn.Conv2d(nc, ndf, 4, 2, 1, bias=False),\n",
        "            nn.LeakyReLU(0.2, inplace=True),\n",
        "            # state size. (ndf) x 32 x 32\n",
        "            nn.Conv2d(ndf, ndf * 2, 4, 2, 1, bias=False),\n",
        "            nn.BatchNorm2d(ndf * 2),\n",
        "            nn.LeakyReLU(0.2, inplace=True),\n",
        "            # state size. (ndf*2) x 16 x 16\n",
        "            nn.Conv2d(ndf * 2, ndf * 4, 4, 2, 1, bias=False),\n",
        "            nn.BatchNorm2d(ndf * 4),\n",
        "            nn.LeakyReLU(0.2, inplace=True),\n",
        "            # state size. (ndf*4) x 8 x 8\n",
        "            nn.Conv2d(ndf * 4, ndf * 8, 4, 2, 1, bias=False),\n",
        "            nn.BatchNorm2d(ndf * 8),\n",
        "            nn.LeakyReLU(0.2, inplace=True),\n",
        "            # state size. (ndf*8) x 4 x 4\n",
        "            nn.Conv2d(ndf * 8, 1, 4, 1, 0, bias=False),\n",
        "            nn.Sigmoid()\n",
        "        )\n",
        "\n",
        "    def forward(self, input):\n",
        "        return self.main(input)"
      ],
      "execution_count": 17,
      "outputs": []
    },
    {
      "cell_type": "markdown",
      "metadata": {
        "id": "HqTMF8oxWeR6"
      },
      "source": [
        "**Initiating the Discriminator**\n",
        "\n",
        "So we've built the discriminator. Again we need to initiate it and can take a look at it. Really looks like a detective, doesn't it?"
      ]
    },
    {
      "cell_type": "code",
      "metadata": {
        "id": "5zZILVaYWt4s",
        "colab": {
          "base_uri": "https://localhost:8080/"
        },
        "outputId": "db4654c9-fa2c-445a-f630-365115e463b3"
      },
      "source": [
        "netD = Discriminator(ngpu).to(device)\n",
        "\n",
        "# Handle multi-gpu if desired\n",
        "if (device.type == 'cuda') and (ngpu > 1):\n",
        "    netD = nn.DataParallel(netD, list(range(ngpu)))\n",
        "\n",
        "# Apply the weights_init function to randomly initialize all weights\n",
        "#  to mean=0, stdev=0.2.\n",
        "netD.apply(weights_init)\n",
        "\n",
        "# Print the model\n",
        "print(netD)"
      ],
      "execution_count": 18,
      "outputs": [
        {
          "output_type": "stream",
          "text": [
            "Discriminator(\n",
            "  (main): Sequential(\n",
            "    (0): Conv2d(1, 64, kernel_size=(4, 4), stride=(2, 2), padding=(1, 1), bias=False)\n",
            "    (1): LeakyReLU(negative_slope=0.2, inplace=True)\n",
            "    (2): Conv2d(64, 128, kernel_size=(4, 4), stride=(2, 2), padding=(1, 1), bias=False)\n",
            "    (3): BatchNorm2d(128, eps=1e-05, momentum=0.1, affine=True, track_running_stats=True)\n",
            "    (4): LeakyReLU(negative_slope=0.2, inplace=True)\n",
            "    (5): Conv2d(128, 256, kernel_size=(4, 4), stride=(2, 2), padding=(1, 1), bias=False)\n",
            "    (6): BatchNorm2d(256, eps=1e-05, momentum=0.1, affine=True, track_running_stats=True)\n",
            "    (7): LeakyReLU(negative_slope=0.2, inplace=True)\n",
            "    (8): Conv2d(256, 512, kernel_size=(4, 4), stride=(2, 2), padding=(1, 1), bias=False)\n",
            "    (9): BatchNorm2d(512, eps=1e-05, momentum=0.1, affine=True, track_running_stats=True)\n",
            "    (10): LeakyReLU(negative_slope=0.2, inplace=True)\n",
            "    (11): Conv2d(512, 1, kernel_size=(4, 4), stride=(1, 1), bias=False)\n",
            "    (12): Sigmoid()\n",
            "  )\n",
            ")\n"
          ],
          "name": "stdout"
        }
      ]
    },
    {
      "cell_type": "markdown",
      "metadata": {
        "id": "H8bs-u_8XChN"
      },
      "source": [
        "**Initiating some more essentials before training**\n",
        "\n",
        "Before we can finally start with designing the latest collection of Fashion Items for Zalando, we need to initiate some more essentials. For example, we use the BCE loss-function and the Adam-Optimizer. We also create latent vectors by simply generating random numbers. Here you can see that the Generator really creates Fashion items from nothing more than random numbers - isn't that just purely insane?"
      ]
    },
    {
      "cell_type": "code",
      "metadata": {
        "id": "ks4C1zbWXBrW"
      },
      "source": [
        "criterion = nn.BCELoss()\n",
        "\n",
        "# Create batch of latent vectors that we will use to visualize\n",
        "# the progression of the generator\n",
        "fixed_noise = torch.randn(64, nz, 1, 1, device=device)\n",
        "\n",
        "# Establish convention for real and fake labels during training\n",
        "real_label = 1.\n",
        "fake_label = 0.\n",
        "\n",
        "# Setup Adam optimizers for both G and D\n",
        "optimizerD = optim.Adam(netD.parameters(), lr=lr, betas=(beta1, 0.999))\n",
        "optimizerG = optim.Adam(netG.parameters(), lr=lr, betas=(beta1, 0.999))"
      ],
      "execution_count": 19,
      "outputs": []
    },
    {
      "cell_type": "markdown",
      "metadata": {
        "id": "Ughh0NggY87z"
      },
      "source": [
        "**The Training Loop**\n",
        "\n",
        "We have set up our models and we are ready to go: Here is the training loop!! In each iteration, we train the Discriminator both with all-real and then with all-fake data. The Discriminator learns from its mistakes and updates its weights to become better the next time. Afterwards, we let the Generator fake some clothes and the Discriminator judges whether they are real or not. The Generator learns from the experience he had with the Discriminator and tries to be better next time. This way, the Discriminator gets better at identifying fakes while the Generator gets better at faking clothes. To make the training process more fun, some stats are outputted during the process."
      ]
    },
    {
      "cell_type": "code",
      "metadata": {
        "id": "wMS3DDEuY74Q"
      },
      "source": [
        "# Training Loop\n",
        "def training(dataloader):\n",
        "  # Lists to keep track of progress\n",
        "  img_list = []\n",
        "  fake_list = []\n",
        "  G_losses = []\n",
        "  D_losses = []\n",
        "  iters = 0\n",
        "\n",
        "  print(\"Starting Training Loop...\")\n",
        "  # For each epoch\n",
        "  for epoch in range(num_epochs):\n",
        "      # For each batch in the dataloader\n",
        "      for i, data in enumerate(dataloader, 0):\n",
        "\n",
        "          ############################\n",
        "          # (1) Update D network: maximize log(D(x)) + log(1 - D(G(z)))\n",
        "          ###########################\n",
        "          ## Train with all-real batch\n",
        "          netD.zero_grad()\n",
        "          # Format batch\n",
        "          real_cpu = data[0].to(device)\n",
        "          b_size = real_cpu.size(0)\n",
        "          label = torch.full((b_size,), real_label, dtype=torch.float, device=device)\n",
        "          # Forward pass real batch through D\n",
        "          output = netD(real_cpu).view(-1)\n",
        "          # Calculate loss on all-real batch\n",
        "          errD_real = criterion(output, label)\n",
        "          # Calculate gradients for D in backward pass\n",
        "          errD_real.backward()\n",
        "          D_x = output.mean().item()\n",
        "\n",
        "          ## Train with all-fake batch\n",
        "          # Generate batch of latent vectors\n",
        "          noise = torch.randn(b_size, nz, 1, 1, device=device)\n",
        "          # Generate fake image batch with G\n",
        "          fake = netG(noise)\n",
        "          label.fill_(fake_label)\n",
        "          # Classify all fake batch with D\n",
        "          output = netD(fake.detach()).view(-1)\n",
        "          # Calculate D's loss on the all-fake batch\n",
        "          errD_fake = criterion(output, label)\n",
        "          # Calculate the gradients for this batch, accumulated (summed) with previous gradients\n",
        "          errD_fake.backward()\n",
        "          D_G_z1 = output.mean().item()\n",
        "          # Compute error of D as sum over the fake and the real batches\n",
        "          errD = errD_real + errD_fake\n",
        "          # Update D\n",
        "          optimizerD.step()\n",
        "\n",
        "          ############################\n",
        "          # (2) Update G network: maximize log(D(G(z)))\n",
        "          ###########################\n",
        "          netG.zero_grad()\n",
        "          label.fill_(real_label)  # fake labels are real for generator cost\n",
        "          # Since we just updated D, perform another forward pass of all-fake batch through D\n",
        "          output = netD(fake).view(-1)\n",
        "          # Calculate G's loss based on this output\n",
        "          errG = criterion(output, label)\n",
        "          # Calculate gradients for G\n",
        "          errG.backward()\n",
        "          D_G_z2 = output.mean().item()\n",
        "          # Update G\n",
        "          optimizerG.step()\n",
        "\n",
        "          # Output training stats\n",
        "          if i % 50 == 0:\n",
        "              print('[%d/%d][%d/%d]\\tLoss_D: %.4f\\tLoss_G: %.4f\\tD(x): %.4f\\tD(G(z)): %.4f / %.4f'\n",
        "                    % (epoch, num_epochs, i, len(dataloader),\n",
        "                      errD.item(), errG.item(), D_x, D_G_z1, D_G_z2))\n",
        "\n",
        "          # Save Losses for plotting later\n",
        "          G_losses.append(errG.item())\n",
        "          D_losses.append(errD.item())\n",
        "\n",
        "          # Check how the generator is doing by saving G's output on fixed_noise\n",
        "          if (iters % 500 == 0) or ((epoch == num_epochs-1) and (i == len(dataloader)-1)):\n",
        "              with torch.no_grad():\n",
        "                  fake = netG(fixed_noise).detach().cpu()\n",
        "              fake_list.append(fake)\n",
        "              img_list.append(vutils.make_grid(fake, padding=2, normalize=True))\n",
        "\n",
        "          iters += 1\n",
        "  return netG"
      ],
      "execution_count": 20,
      "outputs": []
    },
    {
      "cell_type": "markdown",
      "metadata": {
        "id": "zB7W3RzDdj-J"
      },
      "source": [
        "**Automate training**\n",
        "\n",
        "The GAN can only process one category of data at one time. Thus, we have to train a separate Generator and Discriminator on all of the categories. To make our lives easier, we therefore create a Function that takes a trained Generator and outputs fake images. This function is then used in a loop that iterates over all categories."
      ]
    },
    {
      "cell_type": "code",
      "metadata": {
        "id": "LK9w70d2djQL"
      },
      "source": [
        "def create_fake(netG):\n",
        "  noise = torch.randn(500, nz, 1, 1, device=device)\n",
        "  fake = netG(noise).detach()\n",
        "  name = 'fake_500_' + str(cat) + '.pt'\n",
        "  gen_name = 'gen_' + str(cat) + '.pt'\n",
        "  dis_name = 'dis' + str(cat) + '.pt'\n",
        "  torch.save(fake, name)\n",
        "  #torch.save(netG.state_dict(), gen_name)\n",
        "  #torch.save(netD.state_dict(), dis_name)\n",
        "  files.download(name)\n",
        "  #files.download(gen_name)\n",
        "  #files.download(dis_name)"
      ],
      "execution_count": 21,
      "outputs": []
    },
    {
      "cell_type": "markdown",
      "metadata": {
        "id": "RCvEx19Neq9y"
      },
      "source": [
        "**Training (Warning: 6 Hours!)**\n",
        "\n",
        "Now everything is ready for starting the battle between the Generator and the Discriminator. In this loop we iterate through all categories, get the dataloader of all training samples for this category, train the GAN and then use the Generator for designing fake clothes from random noise. We have out-commented the code for this loop because it took us more than 6 hours to run. For completing the rest of the notebook, running the loop is not necessary as we will import the resulting files from Github. But feel free to just let it run if you have enough time :)"
      ]
    },
    {
      "cell_type": "code",
      "metadata": {
        "id": "J5fGXhiSeBoi"
      },
      "source": [
        "#for cat in range(10):\n",
        "#  dataloader = get_data(cat)\n",
        "#  netG = training(dataloader)\n",
        "#  create_fake(netG)"
      ],
      "execution_count": null,
      "outputs": []
    },
    {
      "cell_type": "markdown",
      "metadata": {
        "id": "TMTlbivdfvwS"
      },
      "source": [
        "**Let's look at some output**\n",
        "\n",
        "Before proceeding with our CNN, let's look at the output of the GAN. First let's take a look at the Training loss of both the Discriminator and the Generator:\n",
        "\n",
        "<img align=\"center\" style=\"max-width: 500px; height: 500px\" src=\"https://github.com/PaulSt4/ML_HSG/blob/main/Loss%20GAN.png?raw=1\">\n",
        "\n",
        "Looks good! Neither the Discriminator nor the Generator were too strong to always outperform the other, so they could learn from each other and improve together until the very end of the training process."
      ]
    },
    {
      "cell_type": "markdown",
      "metadata": {
        "id": "Fq3ku_O4i97U"
      },
      "source": [
        "**The latest Fake-Fashion Collection**\n",
        "\n",
        "Now the moment you've been all waiting for: We present to use some fashion articles that are 100% fake and generated from random noise as you have seen in the code above. \n",
        "\n",
        "Let us start with some Trousers. On the left side you can see the real images from Zalando and on the right sight the fake trousers. As you can see, our Generator liked loosely fitting and bright trousers the most. But there are also some very skinny denim jeans.\n",
        "\n",
        "<img align=\"center\" style=\"max-width: 500px; height: 500px\" src=\"https://github.com/PaulSt4/ML_HSG/blob/main/trousers.png?raw=1\">\n",
        "\n",
        "Next, we want to present you our fake collection of shoes. Again on the left side you can see real, and on the right side fake images. Our Generator liked playing around with contrasting colours on some shoes. I especially like the ones with a different coloured sole compared to the rest of the shoe!\n",
        "\n",
        "<img align=\"center\" style=\"max-width: 500px; height: 500px\" src=\"https://github.com/PaulSt4/ML_HSG/blob/main/GAN%20Shoe.png?raw=1\">\n",
        "\n",
        "As the last collection of our fake clothings we want to present you our fake T-Shirts:\n",
        "\n",
        "<img align=\"center\" style=\"max-width: 500px; height: 500px\" src=\"https://github.com/PaulSt4/ML_HSG/blob/main/GAN%20TShirt.png?raw=1\">\n",
        "\n",
        "Nicely done, dear Generator!!!"
      ]
    },
    {
      "cell_type": "markdown",
      "metadata": {
        "id": "1RjWnYCSpGz1"
      },
      "source": [
        "**Retrieve faked images from Github**\n",
        "\n",
        "To keep you from having to run the training loop, we saved the output images and uploaded them to Github! We created 1000 Fake image per class. The following code is used to download the fake images."
      ]
    },
    {
      "cell_type": "code",
      "metadata": {
        "id": "c4f2RD9easlM",
        "colab": {
          "base_uri": "https://localhost:8080/"
        },
        "outputId": "408e8161-da91-4e9e-956d-016d557706a7"
      },
      "source": [
        "!wget https://github.com/PaulSt4/ML_HSG/blob/main/fake_images/fake_small_0.pt?raw=true\n",
        "!wget https://github.com/PaulSt4/ML_HSG/blob/main/fake_images/fake_small_1.pt?raw=true\n",
        "!wget https://github.com/PaulSt4/ML_HSG/blob/main/fake_images/fake_small_2.pt?raw=true\n",
        "!wget https://github.com/PaulSt4/ML_HSG/blob/main/fake_images/fake_small_3.pt?raw=true\n",
        "!wget https://github.com/PaulSt4/ML_HSG/blob/main/fake_images/fake_small_4.pt?raw=true\n",
        "!wget https://github.com/PaulSt4/ML_HSG/blob/main/fake_images/fake_small_5.pt?raw=true\n",
        "!wget https://github.com/PaulSt4/ML_HSG/blob/main/fake_images/fake_small_6.pt?raw=true\n",
        "!wget https://github.com/PaulSt4/ML_HSG/blob/main/fake_images/fake_small_7.pt?raw=true\n",
        "!wget https://github.com/PaulSt4/ML_HSG/blob/main/fake_images/fake_small_8.pt?raw=true\n",
        "!wget https://github.com/PaulSt4/ML_HSG/blob/main/fake_images/fake_small_9.pt?raw=true"
      ],
      "execution_count": 22,
      "outputs": [
        {
          "output_type": "stream",
          "text": [
            "--2021-05-26 21:01:17--  https://github.com/PaulSt4/ML_HSG/blob/main/fake_images/fake_small_0.pt?raw=true\n",
            "Resolving github.com (github.com)... 140.82.114.3\n",
            "Connecting to github.com (github.com)|140.82.114.3|:443... connected.\n",
            "HTTP request sent, awaiting response... 302 Found\n",
            "Location: https://github.com/PaulSt4/ML_HSG/raw/main/fake_images/fake_small_0.pt [following]\n",
            "--2021-05-26 21:01:17--  https://github.com/PaulSt4/ML_HSG/raw/main/fake_images/fake_small_0.pt\n",
            "Reusing existing connection to github.com:443.\n",
            "HTTP request sent, awaiting response... 302 Found\n",
            "Location: https://raw.githubusercontent.com/PaulSt4/ML_HSG/main/fake_images/fake_small_0.pt [following]\n",
            "--2021-05-26 21:01:17--  https://raw.githubusercontent.com/PaulSt4/ML_HSG/main/fake_images/fake_small_0.pt\n",
            "Resolving raw.githubusercontent.com (raw.githubusercontent.com)... 185.199.108.133, 185.199.109.133, 185.199.110.133, ...\n",
            "Connecting to raw.githubusercontent.com (raw.githubusercontent.com)|185.199.108.133|:443... connected.\n",
            "HTTP request sent, awaiting response... 200 OK\n",
            "Length: 16384824 (16M) [application/octet-stream]\n",
            "Saving to: ‘fake_small_0.pt?raw=true’\n",
            "\n",
            "fake_small_0.pt?raw 100%[===================>]  15.62M  --.-KB/s    in 0.1s    \n",
            "\n",
            "2021-05-26 21:01:17 (140 MB/s) - ‘fake_small_0.pt?raw=true’ saved [16384824/16384824]\n",
            "\n",
            "--2021-05-26 21:01:18--  https://github.com/PaulSt4/ML_HSG/blob/main/fake_images/fake_small_1.pt?raw=true\n",
            "Resolving github.com (github.com)... 140.82.112.3\n",
            "Connecting to github.com (github.com)|140.82.112.3|:443... connected.\n",
            "HTTP request sent, awaiting response... 302 Found\n",
            "Location: https://github.com/PaulSt4/ML_HSG/raw/main/fake_images/fake_small_1.pt [following]\n",
            "--2021-05-26 21:01:18--  https://github.com/PaulSt4/ML_HSG/raw/main/fake_images/fake_small_1.pt\n",
            "Reusing existing connection to github.com:443.\n",
            "HTTP request sent, awaiting response... 302 Found\n",
            "Location: https://raw.githubusercontent.com/PaulSt4/ML_HSG/main/fake_images/fake_small_1.pt [following]\n",
            "--2021-05-26 21:01:18--  https://raw.githubusercontent.com/PaulSt4/ML_HSG/main/fake_images/fake_small_1.pt\n",
            "Resolving raw.githubusercontent.com (raw.githubusercontent.com)... 185.199.108.133, 185.199.109.133, 185.199.110.133, ...\n",
            "Connecting to raw.githubusercontent.com (raw.githubusercontent.com)|185.199.108.133|:443... connected.\n",
            "HTTP request sent, awaiting response... 200 OK\n",
            "Length: 16384824 (16M) [application/octet-stream]\n",
            "Saving to: ‘fake_small_1.pt?raw=true’\n",
            "\n",
            "fake_small_1.pt?raw 100%[===================>]  15.62M  --.-KB/s    in 0.1s    \n",
            "\n",
            "2021-05-26 21:01:18 (142 MB/s) - ‘fake_small_1.pt?raw=true’ saved [16384824/16384824]\n",
            "\n",
            "--2021-05-26 21:01:18--  https://github.com/PaulSt4/ML_HSG/blob/main/fake_images/fake_small_2.pt?raw=true\n",
            "Resolving github.com (github.com)... 140.82.112.3\n",
            "Connecting to github.com (github.com)|140.82.112.3|:443... connected.\n",
            "HTTP request sent, awaiting response... 302 Found\n",
            "Location: https://github.com/PaulSt4/ML_HSG/raw/main/fake_images/fake_small_2.pt [following]\n",
            "--2021-05-26 21:01:18--  https://github.com/PaulSt4/ML_HSG/raw/main/fake_images/fake_small_2.pt\n",
            "Reusing existing connection to github.com:443.\n",
            "HTTP request sent, awaiting response... 302 Found\n",
            "Location: https://raw.githubusercontent.com/PaulSt4/ML_HSG/main/fake_images/fake_small_2.pt [following]\n",
            "--2021-05-26 21:01:18--  https://raw.githubusercontent.com/PaulSt4/ML_HSG/main/fake_images/fake_small_2.pt\n",
            "Resolving raw.githubusercontent.com (raw.githubusercontent.com)... 185.199.108.133, 185.199.109.133, 185.199.110.133, ...\n",
            "Connecting to raw.githubusercontent.com (raw.githubusercontent.com)|185.199.108.133|:443... connected.\n",
            "HTTP request sent, awaiting response... 200 OK\n",
            "Length: 16384824 (16M) [application/octet-stream]\n",
            "Saving to: ‘fake_small_2.pt?raw=true’\n",
            "\n",
            "fake_small_2.pt?raw 100%[===================>]  15.62M  --.-KB/s    in 0.1s    \n",
            "\n",
            "2021-05-26 21:01:19 (138 MB/s) - ‘fake_small_2.pt?raw=true’ saved [16384824/16384824]\n",
            "\n",
            "--2021-05-26 21:01:19--  https://github.com/PaulSt4/ML_HSG/blob/main/fake_images/fake_small_3.pt?raw=true\n",
            "Resolving github.com (github.com)... 140.82.112.3\n",
            "Connecting to github.com (github.com)|140.82.112.3|:443... connected.\n",
            "HTTP request sent, awaiting response... 302 Found\n",
            "Location: https://github.com/PaulSt4/ML_HSG/raw/main/fake_images/fake_small_3.pt [following]\n",
            "--2021-05-26 21:01:19--  https://github.com/PaulSt4/ML_HSG/raw/main/fake_images/fake_small_3.pt\n",
            "Reusing existing connection to github.com:443.\n",
            "HTTP request sent, awaiting response... 302 Found\n",
            "Location: https://raw.githubusercontent.com/PaulSt4/ML_HSG/main/fake_images/fake_small_3.pt [following]\n",
            "--2021-05-26 21:01:19--  https://raw.githubusercontent.com/PaulSt4/ML_HSG/main/fake_images/fake_small_3.pt\n",
            "Resolving raw.githubusercontent.com (raw.githubusercontent.com)... 185.199.110.133, 185.199.111.133, 185.199.109.133, ...\n",
            "Connecting to raw.githubusercontent.com (raw.githubusercontent.com)|185.199.110.133|:443... connected.\n",
            "HTTP request sent, awaiting response... 200 OK\n",
            "Length: 16384824 (16M) [application/octet-stream]\n",
            "Saving to: ‘fake_small_3.pt?raw=true’\n",
            "\n",
            "fake_small_3.pt?raw 100%[===================>]  15.62M  --.-KB/s    in 0.1s    \n",
            "\n",
            "2021-05-26 21:01:19 (152 MB/s) - ‘fake_small_3.pt?raw=true’ saved [16384824/16384824]\n",
            "\n",
            "--2021-05-26 21:01:19--  https://github.com/PaulSt4/ML_HSG/blob/main/fake_images/fake_small_4.pt?raw=true\n",
            "Resolving github.com (github.com)... 140.82.112.3\n",
            "Connecting to github.com (github.com)|140.82.112.3|:443... connected.\n",
            "HTTP request sent, awaiting response... 302 Found\n",
            "Location: https://github.com/PaulSt4/ML_HSG/raw/main/fake_images/fake_small_4.pt [following]\n",
            "--2021-05-26 21:01:19--  https://github.com/PaulSt4/ML_HSG/raw/main/fake_images/fake_small_4.pt\n",
            "Reusing existing connection to github.com:443.\n",
            "HTTP request sent, awaiting response... 302 Found\n",
            "Location: https://raw.githubusercontent.com/PaulSt4/ML_HSG/main/fake_images/fake_small_4.pt [following]\n",
            "--2021-05-26 21:01:20--  https://raw.githubusercontent.com/PaulSt4/ML_HSG/main/fake_images/fake_small_4.pt\n",
            "Resolving raw.githubusercontent.com (raw.githubusercontent.com)... 185.199.108.133, 185.199.109.133, 185.199.110.133, ...\n",
            "Connecting to raw.githubusercontent.com (raw.githubusercontent.com)|185.199.108.133|:443... connected.\n",
            "HTTP request sent, awaiting response... 200 OK\n",
            "Length: 16384824 (16M) [application/octet-stream]\n",
            "Saving to: ‘fake_small_4.pt?raw=true’\n",
            "\n",
            "fake_small_4.pt?raw 100%[===================>]  15.62M  --.-KB/s    in 0.1s    \n",
            "\n",
            "2021-05-26 21:01:20 (148 MB/s) - ‘fake_small_4.pt?raw=true’ saved [16384824/16384824]\n",
            "\n",
            "--2021-05-26 21:01:20--  https://github.com/PaulSt4/ML_HSG/blob/main/fake_images/fake_small_5.pt?raw=true\n",
            "Resolving github.com (github.com)... 140.82.112.3\n",
            "Connecting to github.com (github.com)|140.82.112.3|:443... connected.\n",
            "HTTP request sent, awaiting response... 302 Found\n",
            "Location: https://github.com/PaulSt4/ML_HSG/raw/main/fake_images/fake_small_5.pt [following]\n",
            "--2021-05-26 21:01:20--  https://github.com/PaulSt4/ML_HSG/raw/main/fake_images/fake_small_5.pt\n",
            "Reusing existing connection to github.com:443.\n",
            "HTTP request sent, awaiting response... 302 Found\n",
            "Location: https://raw.githubusercontent.com/PaulSt4/ML_HSG/main/fake_images/fake_small_5.pt [following]\n",
            "--2021-05-26 21:01:20--  https://raw.githubusercontent.com/PaulSt4/ML_HSG/main/fake_images/fake_small_5.pt\n",
            "Resolving raw.githubusercontent.com (raw.githubusercontent.com)... 185.199.108.133, 185.199.111.133, 185.199.109.133, ...\n",
            "Connecting to raw.githubusercontent.com (raw.githubusercontent.com)|185.199.108.133|:443... connected.\n",
            "HTTP request sent, awaiting response... 200 OK\n",
            "Length: 16384824 (16M) [application/octet-stream]\n",
            "Saving to: ‘fake_small_5.pt?raw=true’\n",
            "\n",
            "fake_small_5.pt?raw 100%[===================>]  15.62M  --.-KB/s    in 0.1s    \n",
            "\n",
            "2021-05-26 21:01:20 (134 MB/s) - ‘fake_small_5.pt?raw=true’ saved [16384824/16384824]\n",
            "\n",
            "--2021-05-26 21:01:21--  https://github.com/PaulSt4/ML_HSG/blob/main/fake_images/fake_small_6.pt?raw=true\n",
            "Resolving github.com (github.com)... 140.82.112.3\n",
            "Connecting to github.com (github.com)|140.82.112.3|:443... connected.\n",
            "HTTP request sent, awaiting response... 302 Found\n",
            "Location: https://github.com/PaulSt4/ML_HSG/raw/main/fake_images/fake_small_6.pt [following]\n",
            "--2021-05-26 21:01:21--  https://github.com/PaulSt4/ML_HSG/raw/main/fake_images/fake_small_6.pt\n",
            "Reusing existing connection to github.com:443.\n",
            "HTTP request sent, awaiting response... 302 Found\n",
            "Location: https://raw.githubusercontent.com/PaulSt4/ML_HSG/main/fake_images/fake_small_6.pt [following]\n",
            "--2021-05-26 21:01:21--  https://raw.githubusercontent.com/PaulSt4/ML_HSG/main/fake_images/fake_small_6.pt\n",
            "Resolving raw.githubusercontent.com (raw.githubusercontent.com)... 185.199.108.133, 185.199.109.133, 185.199.110.133, ...\n",
            "Connecting to raw.githubusercontent.com (raw.githubusercontent.com)|185.199.108.133|:443... connected.\n",
            "HTTP request sent, awaiting response... 200 OK\n",
            "Length: 16384824 (16M) [application/octet-stream]\n",
            "Saving to: ‘fake_small_6.pt?raw=true’\n",
            "\n",
            "fake_small_6.pt?raw 100%[===================>]  15.62M  --.-KB/s    in 0.1s    \n",
            "\n",
            "2021-05-26 21:01:21 (125 MB/s) - ‘fake_small_6.pt?raw=true’ saved [16384824/16384824]\n",
            "\n",
            "--2021-05-26 21:01:21--  https://github.com/PaulSt4/ML_HSG/blob/main/fake_images/fake_small_7.pt?raw=true\n",
            "Resolving github.com (github.com)... 140.82.112.3\n",
            "Connecting to github.com (github.com)|140.82.112.3|:443... connected.\n",
            "HTTP request sent, awaiting response... 302 Found\n",
            "Location: https://github.com/PaulSt4/ML_HSG/raw/main/fake_images/fake_small_7.pt [following]\n",
            "--2021-05-26 21:01:21--  https://github.com/PaulSt4/ML_HSG/raw/main/fake_images/fake_small_7.pt\n",
            "Reusing existing connection to github.com:443.\n",
            "HTTP request sent, awaiting response... 302 Found\n",
            "Location: https://raw.githubusercontent.com/PaulSt4/ML_HSG/main/fake_images/fake_small_7.pt [following]\n",
            "--2021-05-26 21:01:21--  https://raw.githubusercontent.com/PaulSt4/ML_HSG/main/fake_images/fake_small_7.pt\n",
            "Resolving raw.githubusercontent.com (raw.githubusercontent.com)... 185.199.108.133, 185.199.109.133, 185.199.110.133, ...\n",
            "Connecting to raw.githubusercontent.com (raw.githubusercontent.com)|185.199.108.133|:443... connected.\n",
            "HTTP request sent, awaiting response... 200 OK\n",
            "Length: 16384824 (16M) [application/octet-stream]\n",
            "Saving to: ‘fake_small_7.pt?raw=true’\n",
            "\n",
            "fake_small_7.pt?raw 100%[===================>]  15.62M  --.-KB/s    in 0.09s   \n",
            "\n",
            "2021-05-26 21:01:22 (168 MB/s) - ‘fake_small_7.pt?raw=true’ saved [16384824/16384824]\n",
            "\n",
            "--2021-05-26 21:01:22--  https://github.com/PaulSt4/ML_HSG/blob/main/fake_images/fake_small_8.pt?raw=true\n",
            "Resolving github.com (github.com)... 140.82.112.3\n",
            "Connecting to github.com (github.com)|140.82.112.3|:443... connected.\n",
            "HTTP request sent, awaiting response... 302 Found\n",
            "Location: https://github.com/PaulSt4/ML_HSG/raw/main/fake_images/fake_small_8.pt [following]\n",
            "--2021-05-26 21:01:22--  https://github.com/PaulSt4/ML_HSG/raw/main/fake_images/fake_small_8.pt\n",
            "Reusing existing connection to github.com:443.\n",
            "HTTP request sent, awaiting response... 302 Found\n",
            "Location: https://raw.githubusercontent.com/PaulSt4/ML_HSG/main/fake_images/fake_small_8.pt [following]\n",
            "--2021-05-26 21:01:22--  https://raw.githubusercontent.com/PaulSt4/ML_HSG/main/fake_images/fake_small_8.pt\n",
            "Resolving raw.githubusercontent.com (raw.githubusercontent.com)... 185.199.109.133, 185.199.108.133, 185.199.111.133, ...\n",
            "Connecting to raw.githubusercontent.com (raw.githubusercontent.com)|185.199.109.133|:443... connected.\n",
            "HTTP request sent, awaiting response... 200 OK\n",
            "Length: 16384824 (16M) [application/octet-stream]\n",
            "Saving to: ‘fake_small_8.pt?raw=true’\n",
            "\n",
            "fake_small_8.pt?raw 100%[===================>]  15.62M  --.-KB/s    in 0.1s    \n",
            "\n",
            "2021-05-26 21:01:22 (155 MB/s) - ‘fake_small_8.pt?raw=true’ saved [16384824/16384824]\n",
            "\n",
            "--2021-05-26 21:01:23--  https://github.com/PaulSt4/ML_HSG/blob/main/fake_images/fake_small_9.pt?raw=true\n",
            "Resolving github.com (github.com)... 140.82.113.3\n",
            "Connecting to github.com (github.com)|140.82.113.3|:443... connected.\n",
            "HTTP request sent, awaiting response... 302 Found\n",
            "Location: https://github.com/PaulSt4/ML_HSG/raw/main/fake_images/fake_small_9.pt [following]\n",
            "--2021-05-26 21:01:23--  https://github.com/PaulSt4/ML_HSG/raw/main/fake_images/fake_small_9.pt\n",
            "Reusing existing connection to github.com:443.\n",
            "HTTP request sent, awaiting response... 302 Found\n",
            "Location: https://raw.githubusercontent.com/PaulSt4/ML_HSG/main/fake_images/fake_small_9.pt [following]\n",
            "--2021-05-26 21:01:23--  https://raw.githubusercontent.com/PaulSt4/ML_HSG/main/fake_images/fake_small_9.pt\n",
            "Resolving raw.githubusercontent.com (raw.githubusercontent.com)... 185.199.110.133, 185.199.111.133, 185.199.109.133, ...\n",
            "Connecting to raw.githubusercontent.com (raw.githubusercontent.com)|185.199.110.133|:443... connected.\n",
            "HTTP request sent, awaiting response... 200 OK\n",
            "Length: 16384824 (16M) [application/octet-stream]\n",
            "Saving to: ‘fake_small_9.pt?raw=true’\n",
            "\n",
            "fake_small_9.pt?raw 100%[===================>]  15.62M  --.-KB/s    in 0.1s    \n",
            "\n",
            "2021-05-26 21:01:23 (161 MB/s) - ‘fake_small_9.pt?raw=true’ saved [16384824/16384824]\n",
            "\n"
          ],
          "name": "stdout"
        }
      ]
    },
    {
      "cell_type": "markdown",
      "metadata": {
        "id": "TKyaKwsOqRch"
      },
      "source": [
        "**Import the fake images again**\n",
        "\n",
        "Now that we downloaded the fake images from Github, we need to upload it to the Jupyter Notebook again. Fortunately, this is quite easy. Please make sure, you have refreshed your file folder on Google Colab to make sure, that the download from Github worked!"
      ]
    },
    {
      "cell_type": "code",
      "metadata": {
        "id": "qqdeLQYJqONG"
      },
      "source": [
        "fake_0 = torch.load('/content/fake_small_0.pt?raw=true')\n",
        "fake_1 = torch.load('/content/fake_small_1.pt?raw=true')\n",
        "fake_2 = torch.load('/content/fake_small_2.pt?raw=true')\n",
        "fake_3 = torch.load('/content/fake_small_3.pt?raw=true')\n",
        "fake_4 = torch.load('/content/fake_small_4.pt?raw=true')\n",
        "fake_5 = torch.load('/content/fake_small_5.pt?raw=true')\n",
        "fake_6 = torch.load('/content/fake_small_6.pt?raw=true')\n",
        "fake_7 = torch.load('/content/fake_small_7.pt?raw=true')\n",
        "fake_8 = torch.load('/content/fake_small_8.pt?raw=true')\n",
        "fake_9 = torch.load('/content/fake_small_9.pt?raw=true')"
      ],
      "execution_count": 23,
      "outputs": []
    },
    {
      "cell_type": "markdown",
      "metadata": {
        "id": "88n8Pvv-ueWv"
      },
      "source": [
        "**Labelling the fake data**\n",
        "\n",
        "To use the fake data for training our CNN, we need to concatenate the data sets and also label them. We do that in the following code. First, we need to resize the images to 28x28. Afterwards we simply add the label to each entry and append the images as a tuple into one list. We did this in four loops, since my RAM was overloaded when trying it in one go :)"
      ]
    },
    {
      "cell_type": "code",
      "metadata": {
        "id": "1NojSvuxOAR1"
      },
      "source": [
        "p = transforms.Resize((28,28))\n",
        "gan_data = []\n",
        "\n",
        "for i in range(3000):\n",
        "  if i < 1000: \n",
        "    temp = p(fake_0)[i][[0]]\n",
        "    j = 0\n",
        "  elif i < 2000:\n",
        "    l = i - 1000 \n",
        "    temp = p(fake_1)[l][[0]]\n",
        "    j = 1\n",
        "  elif i < 3000: \n",
        "    l = i - 2000\n",
        "    temp = p(fake_2)[l][[0]]\n",
        "    j = 2\n",
        "  gan_data.append((temp,j))\n",
        "\n",
        "for i in range(3000,6000):\n",
        "  if i < 4000:\n",
        "    l = i - 3000  \n",
        "    temp = p(fake_3)[l][[0]]\n",
        "    j = 3\n",
        "  elif i < 5000:\n",
        "    l = i - 4000 \n",
        "    temp = p(fake_4)[l][[0]]\n",
        "    j = 4\n",
        "  elif i < 6000: \n",
        "    l = i - 5000\n",
        "    temp = p(fake_5)[l][[0]]\n",
        "    j = 5\n",
        "  gan_data.append((temp,j))\n",
        "\n",
        "for i in range(6000,8000):  \n",
        "  if i < 7000: \n",
        "    l = i - 6000\n",
        "    temp = p(fake_6)[l][[0]]\n",
        "    j = 6\n",
        "  elif i < 8000: \n",
        "    l = i - 7000\n",
        "    temp = p(fake_7)[l][[0]]\n",
        "    j = 7\n",
        "  gan_data.append((temp,j))\n",
        "\n",
        "for i in range(8000,10000):  \n",
        "  if i < 9000: \n",
        "    l = i - 8000\n",
        "    temp = p(fake_8)[l][[0]]\n",
        "    j = 8\n",
        "  elif i < 10000: \n",
        "    l = i - 9000\n",
        "    temp = p(fake_9)[l][[0]]\n",
        "    j = 9\n",
        "  gan_data.append((temp,j))"
      ],
      "execution_count": 24,
      "outputs": []
    },
    {
      "cell_type": "markdown",
      "metadata": {
        "id": "gTML6iXeviwt"
      },
      "source": [
        "**Combining FashionMNIST Dataset with the fake data from the GAN**\n",
        "\n",
        "Now we need to combine the original Zalando FashionMNIST data with the newly created list of fake images. We do that by simply concatening the lists and then creating a new DataLoader object from that."
      ]
    },
    {
      "cell_type": "code",
      "metadata": {
        "id": "9xjVDUdh_weE"
      },
      "source": [
        "full_data = list(train_dataset) + gan_data\n",
        "train_loader = torch.utils.data.DataLoader(full_data, shuffle=True, batch_size=100)\n",
        "train_val_loader = torch.utils.data.DataLoader(full_data,shuffle=True, batch_size = 2000)"
      ],
      "execution_count": 25,
      "outputs": []
    },
    {
      "cell_type": "markdown",
      "metadata": {
        "id": "MSL83V6mv-54"
      },
      "source": [
        "**Learning the CNN using the Fake Images and FashionMNIST**\n",
        "\n",
        "Now we are finally done with faking data and pre-processing it into one DataLoader object! This is analogous to the CNN in the first task. We use exactly the same hyperparameters. We initiate everything again to make sure, everything works like we want it to work."
      ]
    },
    {
      "cell_type": "code",
      "metadata": {
        "id": "4Z9vf8DrwcDg",
        "colab": {
          "base_uri": "https://localhost:8080/"
        },
        "outputId": "d982011d-c9ef-493f-b77a-5e6c987e2687"
      },
      "source": [
        "train_accuracy_list=[]\n",
        "test_accuracy_list=[]\n",
        "##################\n",
        "accuracy_list = []\n",
        "cost_list = []\n",
        "COST = 0\n",
        "criterion = nn.CrossEntropyLoss()\n",
        "lera = 0.05\n",
        "n_epochs = 20 \n",
        "\n",
        "model = CNN(out_1=3, out_2=12)\n",
        "optimizer = torch.optim.SGD(model.parameters(), lr = lera)\n",
        "\n",
        "train_model(n_epochs) "
      ],
      "execution_count": 26,
      "outputs": [
        {
          "output_type": "stream",
          "text": [
            "Epoch 0 complete\n",
            "Epoch 1 complete\n",
            "Epoch 2 complete\n",
            "Epoch 3 complete\n",
            "Epoch 4 complete\n",
            "Epoch 5 complete\n",
            "Epoch 6 complete\n",
            "Epoch 7 complete\n",
            "Epoch 8 complete\n",
            "Epoch 9 complete\n",
            "Epoch 10 complete\n",
            "Epoch 11 complete\n",
            "Epoch 12 complete\n",
            "Epoch 13 complete\n",
            "Epoch 14 complete\n",
            "Epoch 15 complete\n",
            "Epoch 16 complete\n",
            "Epoch 17 complete\n",
            "Epoch 18 complete\n",
            "Epoch 19 complete\n"
          ],
          "name": "stdout"
        }
      ]
    },
    {
      "cell_type": "markdown",
      "metadata": {
        "id": "87E-Iq7luKaQ"
      },
      "source": [
        "Let us then see how it performed!"
      ]
    },
    {
      "cell_type": "markdown",
      "metadata": {
        "id": "-99nq1hfuI8x"
      },
      "source": [
        "**Inspecting Training Accuracy**\n",
        "\n",
        "Let us again inspect the training Accuracy:"
      ]
    },
    {
      "cell_type": "code",
      "metadata": {
        "id": "nW2odu0tNqay",
        "colab": {
          "base_uri": "https://localhost:8080/",
          "height": 298
        },
        "outputId": "2b7c46b1-6391-42c2-af0a-6145df29d69d"
      },
      "source": [
        "plt.plot(train_accuracy_list)\n",
        "plt.title(\"Changes in Training Accuracy for the GAN-CNN:\")\n",
        "plt.show()\n",
        "\n",
        "print(\"The highest Training Accuracy was {}\".format(round(train_accuracy_list[-1],4)))"
      ],
      "execution_count": 27,
      "outputs": [
        {
          "output_type": "display_data",
          "data": {
            "image/png": "[encoded data removed]",
            "text/plain": [
              "<Figure size 432x288 with 1 Axes>"
            ]
          },
          "metadata": {
            "tags": [],
            "needs_background": "light"
          }
        },
        {
          "output_type": "stream",
          "text": [
            "The highest Training Accuracy was 1.0754\n"
          ],
          "name": "stdout"
        }
      ]
    },
    {
      "cell_type": "markdown",
      "metadata": {
        "id": "LDiMS7DouocB"
      },
      "source": [
        "Interesting! The training accuracy seems to not have changed much, but what about testing?"
      ]
    },
    {
      "cell_type": "markdown",
      "metadata": {
        "id": "4UUUOP_fu2dM"
      },
      "source": [
        "**Inspecting Testing Accuracy**\n",
        "\n",
        "Let us then take a look at the testing Accuracy:"
      ]
    },
    {
      "cell_type": "code",
      "metadata": {
        "id": "wqYwfZ-1Nwin",
        "colab": {
          "base_uri": "https://localhost:8080/",
          "height": 298
        },
        "outputId": "a09ab818-3305-4526-9024-2a4d8a2e717c"
      },
      "source": [
        "plt.plot(test_accuracy_list)\n",
        "plt.title(\"Changes in Testing Accuracy for the GAN-CNN:\")\n",
        "plt.show()\n",
        "\n",
        "print(\"The highest Training Accuracy was {}\".format(round(test_accuracy_list[-1],4)))"
      ],
      "execution_count": 28,
      "outputs": [
        {
          "output_type": "display_data",
          "data": {
            "image/png": "[encoded data removed]",
            "text/plain": [
              "<Figure size 432x288 with 1 Axes>"
            ]
          },
          "metadata": {
            "tags": [],
            "needs_background": "light"
          }
        },
        {
          "output_type": "stream",
          "text": [
            "The highest Training Accuracy was 0.8894\n"
          ],
          "name": "stdout"
        }
      ]
    },
    {
      "cell_type": "markdown",
      "metadata": {
        "id": "wt23TFKtu_s5"
      },
      "source": [
        "Sadly, it does not seem that the GAN has changed the model itself a lot. We can therefore conclude that the data (or lack thereof) does not seem to be the problem. Let us buid another confusion matrix: "
      ]
    },
    {
      "cell_type": "markdown",
      "metadata": {
        "id": "rwllEMIOvMCH"
      },
      "source": [
        "**Preparing the Confusion Matrix**\n",
        "\n",
        "Just like before, we will retrieve, concatenate and double-check:"
      ]
    },
    {
      "cell_type": "code",
      "metadata": {
        "id": "NKhQyxZrAjzO"
      },
      "source": [
        "predictions = []\n",
        "for x_test, y_test in validation_loader:\n",
        "            z = model(x_test)\n",
        "            _, yhat = torch.max(z.data, 1)\n",
        "            predictions.append(yhat)"
      ],
      "execution_count": 29,
      "outputs": []
    },
    {
      "cell_type": "code",
      "metadata": {
        "id": "lSLOrn1CAja-",
        "colab": {
          "base_uri": "https://localhost:8080/"
        },
        "outputId": "47a9ac8b-1970-4b40-e7db-15c0ea1be976"
      },
      "source": [
        "pred_tensor = torch.cat((predictions[0], predictions[1]), 0)\n",
        "metrics.accuracy_score(validation_dataset.targets, pred_tensor)"
      ],
      "execution_count": 30,
      "outputs": [
        {
          "output_type": "execute_result",
          "data": {
            "text/plain": [
              "0.8894"
            ]
          },
          "metadata": {
            "tags": []
          },
          "execution_count": 30
        }
      ]
    },
    {
      "cell_type": "markdown",
      "metadata": {
        "id": "aOdNXHsivXBg"
      },
      "source": [
        "Great! "
      ]
    },
    {
      "cell_type": "markdown",
      "metadata": {
        "id": "gogjdmWjvYlc"
      },
      "source": [
        "**Building Matrix**\n",
        "\n",
        "Just like the other Confusion Matrix, we will now build one for the GAN-CNN-Model"
      ]
    },
    {
      "cell_type": "code",
      "metadata": {
        "id": "lfXakB7uAjOX",
        "colab": {
          "base_uri": "https://localhost:8080/",
          "height": 512
        },
        "outputId": "5d436d53-1149-4580-cc51-0b462ec62834"
      },
      "source": [
        "# determine classification matrix of the predicted and target classes\n",
        "mat = confusion_matrix(validation_dataset.targets, pred_tensor)\n",
        "\n",
        "# initialize the plot and define size\n",
        "plt.figure(figsize=(8, 8))\n",
        "label_list = [\"T-shirt/top\", \"Trouser\",\"Pullover\",\"Dress\",\"Coat\",\"Sandal\",\"Shirt\",\"Sneaker\",\"Bag\",\"Ankle boot\"]\n",
        "# plot corresponding confusion matrix\n",
        "sns.heatmap(mat.T, square=True, annot=True, fmt='d', cbar=False, cmap='YlOrRd_r', xticklabels=label_list, yticklabels=label_list)\n",
        "plt.tick_params(axis='both', which='major', labelsize=8, labelbottom = False, bottom=False, top = False, left = False, labeltop=True)\n",
        "plt.title('GAN-CNN classification matrix')\n",
        "plt.xlabel('[Ground truth]')\n",
        "plt.ylabel('[Predictions]');"
      ],
      "execution_count": 31,
      "outputs": [
        {
          "output_type": "display_data",
          "data": {
            "image/png": "[encoded data removed]",
            "text/plain": [
              "<Figure size 576x576 with 1 Axes>"
            ]
          },
          "metadata": {
            "tags": [],
            "needs_background": "light"
          }
        }
      ]
    },
    {
      "cell_type": "markdown",
      "metadata": {
        "id": "611JHIYK1Ti3"
      },
      "source": [
        "###Recap GAN_CNN Model\n",
        "\n",
        "As you can see, after 20 epochs, the training accuracy was 90% and the testing accuracy was 89%. The model with the fake data from the GAN thus performed about as good as without the fake data. This shows us that simply adding more data does not necessarily improve a model. Since many items of the new fake collection are looking quite similar (though being stunningly beautiful), this does not add much information that the CNN can learn. Still, it was an interesting process and designing the latest collection of Zalando was great fun :)"
      ]
    },
    {
      "cell_type": "markdown",
      "metadata": {
        "id": "vufYLsOvDU8B"
      },
      "source": [
        "##Step 3: Professional Approach: Using the well-known RESNET architecture##\n",
        "\n",
        "In the previous approach we saw that being creative does not always pay off. This is why we did some research to find out which models are most successful for image classification tasks. One of the most used models is the RESNET, which is a very deep Convolutional Neural Network. Fortunately, torch has this model built into the module. We used the RESNET18 architecture, since it already has an incredible capacity for learning and learns a bit faster than RESNET50, which we also tried out. \n",
        "\n",
        "Let's start off by importing some essential libraries!\n"
      ]
    },
    {
      "cell_type": "code",
      "metadata": {
        "id": "PxnaQTRBEIEb",
        "colab": {
          "base_uri": "https://localhost:8080/"
        },
        "outputId": "3b3462ba-469c-434e-b351-895e80f643ed"
      },
      "source": [
        "import torch\n",
        "from torchvision.models import resnet18\n",
        "from torch import nn\n",
        "from torch.utils.data import DataLoader\n",
        "import torchvision.datasets as dsets\n",
        "from torchvision.transforms import ToTensor\n",
        "!pip install pytorch_lightning\n",
        "import pytorch_lightning as pl\n",
        "from pytorch_lightning.core.decorators import auto_move_data"
      ],
      "execution_count": null,
      "outputs": [
        {
          "output_type": "stream",
          "text": [
            "Collecting pytorch_lightning\n",
            "\u001b[?25l  Downloading https://files.pythonhosted.org/packages/32/b9/59ce5be6679884579c276f5f208587c3312e8323bd7ce27be278b7af98b3/pytorch_lightning-1.3.2-py3-none-any.whl (805kB)\n",
            "\u001b[K     |████████████████████████████████| 808kB 11.5MB/s \n",
            "\u001b[?25hCollecting torchmetrics>=0.2.0\n",
            "\u001b[?25l  Downloading https://files.pythonhosted.org/packages/3b/e8/513cd9d0b1c83dc14cd8f788d05cd6a34758d4fd7e4f9e5ecd5d7d599c95/torchmetrics-0.3.2-py3-none-any.whl (274kB)\n",
            "\u001b[K     |████████████████████████████████| 276kB 32.3MB/s \n",
            "\u001b[?25hRequirement already satisfied: tqdm>=4.41.0 in /usr/local/lib/python3.7/dist-packages (from pytorch_lightning) (4.41.1)\n",
            "Collecting pyDeprecate==0.3.0\n",
            "  Downloading https://files.pythonhosted.org/packages/14/52/aa227a0884df71ed1957649085adf2b8bc2a1816d037c2f18b3078854516/pyDeprecate-0.3.0-py3-none-any.whl\n",
            "Collecting tensorboard!=2.5.0,>=2.2.0\n",
            "\u001b[?25l  Downloading https://files.pythonhosted.org/packages/64/21/eebd23060763fedeefb78bc2b286e00fa1d8abda6f70efa2ee08c28af0d4/tensorboard-2.4.1-py3-none-any.whl (10.6MB)\n",
            "\u001b[K     |████████████████████████████████| 10.6MB 39.6MB/s \n",
            "\u001b[?25hCollecting fsspec[http]>=2021.4.0\n",
            "\u001b[?25l  Downloading https://files.pythonhosted.org/packages/bc/52/816d1a3a599176057bf29dfacb1f8fadb61d35fbd96cb1bab4aaa7df83c0/fsspec-2021.5.0-py3-none-any.whl (111kB)\n",
            "\u001b[K     |████████████████████████████████| 112kB 41.6MB/s \n",
            "\u001b[?25hRequirement already satisfied: numpy>=1.17.2 in /usr/local/lib/python3.7/dist-packages (from pytorch_lightning) (1.19.5)\n",
            "Requirement already satisfied: packaging in /usr/local/lib/python3.7/dist-packages (from pytorch_lightning) (20.9)\n",
            "Requirement already satisfied: torch>=1.4 in /usr/local/lib/python3.7/dist-packages (from pytorch_lightning) (1.8.1+cu101)\n",
            "Collecting PyYAML<=5.4.1,>=5.1\n",
            "\u001b[?25l  Downloading https://files.pythonhosted.org/packages/7a/a5/393c087efdc78091afa2af9f1378762f9821c9c1d7a22c5753fb5ac5f97a/PyYAML-5.4.1-cp37-cp37m-manylinux1_x86_64.whl (636kB)\n",
            "\u001b[K     |████████████████████████████████| 645kB 35.6MB/s \n",
            "\u001b[?25hCollecting future>=0.17.1\n",
            "\u001b[?25l  Downloading https://files.pythonhosted.org/packages/45/0b/38b06fd9b92dc2b68d58b75f900e97884c45bedd2ff83203d933cf5851c9/future-0.18.2.tar.gz (829kB)\n",
            "\u001b[K     |████████████████████████████████| 829kB 35.5MB/s \n",
            "\u001b[?25hRequirement already satisfied: markdown>=2.6.8 in /usr/local/lib/python3.7/dist-packages (from tensorboard!=2.5.0,>=2.2.0->pytorch_lightning) (3.3.4)\n",
            "Requirement already satisfied: google-auth<2,>=1.6.3 in /usr/local/lib/python3.7/dist-packages (from tensorboard!=2.5.0,>=2.2.0->pytorch_lightning) (1.30.0)\n",
            "Requirement already satisfied: google-auth-oauthlib<0.5,>=0.4.1 in /usr/local/lib/python3.7/dist-packages (from tensorboard!=2.5.0,>=2.2.0->pytorch_lightning) (0.4.4)\n",
            "Requirement already satisfied: grpcio>=1.24.3 in /usr/local/lib/python3.7/dist-packages (from tensorboard!=2.5.0,>=2.2.0->pytorch_lightning) (1.34.1)\n",
            "Requirement already satisfied: setuptools>=41.0.0 in /usr/local/lib/python3.7/dist-packages (from tensorboard!=2.5.0,>=2.2.0->pytorch_lightning) (56.1.0)\n",
            "Requirement already satisfied: tensorboard-plugin-wit>=1.6.0 in /usr/local/lib/python3.7/dist-packages (from tensorboard!=2.5.0,>=2.2.0->pytorch_lightning) (1.8.0)\n",
            "Requirement already satisfied: protobuf>=3.6.0 in /usr/local/lib/python3.7/dist-packages (from tensorboard!=2.5.0,>=2.2.0->pytorch_lightning) (3.12.4)\n",
            "Requirement already satisfied: werkzeug>=0.11.15 in /usr/local/lib/python3.7/dist-packages (from tensorboard!=2.5.0,>=2.2.0->pytorch_lightning) (1.0.1)\n",
            "Requirement already satisfied: requests<3,>=2.21.0 in /usr/local/lib/python3.7/dist-packages (from tensorboard!=2.5.0,>=2.2.0->pytorch_lightning) (2.23.0)\n",
            "Requirement already satisfied: wheel>=0.26; python_version >= \"3\" in /usr/local/lib/python3.7/dist-packages (from tensorboard!=2.5.0,>=2.2.0->pytorch_lightning) (0.36.2)\n",
            "Requirement already satisfied: absl-py>=0.4 in /usr/local/lib/python3.7/dist-packages (from tensorboard!=2.5.0,>=2.2.0->pytorch_lightning) (0.12.0)\n",
            "Requirement already satisfied: six>=1.10.0 in /usr/local/lib/python3.7/dist-packages (from tensorboard!=2.5.0,>=2.2.0->pytorch_lightning) (1.15.0)\n",
            "Collecting aiohttp; extra == \"http\"\n",
            "\u001b[?25l  Downloading https://files.pythonhosted.org/packages/88/c0/5890b4c8b04a79b7360e8fe4490feb0bb3ab179743f199f0e6220cebd568/aiohttp-3.7.4.post0-cp37-cp37m-manylinux2014_x86_64.whl (1.3MB)\n",
            "\u001b[K     |████████████████████████████████| 1.3MB 31.9MB/s \n",
            "\u001b[?25hRequirement already satisfied: pyparsing>=2.0.2 in /usr/local/lib/python3.7/dist-packages (from packaging->pytorch_lightning) (2.4.7)\n",
            "Requirement already satisfied: typing-extensions in /usr/local/lib/python3.7/dist-packages (from torch>=1.4->pytorch_lightning) (3.7.4.3)\n",
            "Requirement already satisfied: importlib-metadata; python_version < \"3.8\" in /usr/local/lib/python3.7/dist-packages (from markdown>=2.6.8->tensorboard!=2.5.0,>=2.2.0->pytorch_lightning) (4.0.1)\n",
            "Requirement already satisfied: rsa<5,>=3.1.4; python_version >= \"3.6\" in /usr/local/lib/python3.7/dist-packages (from google-auth<2,>=1.6.3->tensorboard!=2.5.0,>=2.2.0->pytorch_lightning) (4.7.2)\n",
            "Requirement already satisfied: pyasn1-modules>=0.2.1 in /usr/local/lib/python3.7/dist-packages (from google-auth<2,>=1.6.3->tensorboard!=2.5.0,>=2.2.0->pytorch_lightning) (0.2.8)\n",
            "Requirement already satisfied: cachetools<5.0,>=2.0.0 in /usr/local/lib/python3.7/dist-packages (from google-auth<2,>=1.6.3->tensorboard!=2.5.0,>=2.2.0->pytorch_lightning) (4.2.2)\n",
            "Requirement already satisfied: requests-oauthlib>=0.7.0 in /usr/local/lib/python3.7/dist-packages (from google-auth-oauthlib<0.5,>=0.4.1->tensorboard!=2.5.0,>=2.2.0->pytorch_lightning) (1.3.0)\n",
            "Requirement already satisfied: urllib3!=1.25.0,!=1.25.1,<1.26,>=1.21.1 in /usr/local/lib/python3.7/dist-packages (from requests<3,>=2.21.0->tensorboard!=2.5.0,>=2.2.0->pytorch_lightning) (1.24.3)\n",
            "Requirement already satisfied: certifi>=2017.4.17 in /usr/local/lib/python3.7/dist-packages (from requests<3,>=2.21.0->tensorboard!=2.5.0,>=2.2.0->pytorch_lightning) (2020.12.5)\n",
            "Requirement already satisfied: chardet<4,>=3.0.2 in /usr/local/lib/python3.7/dist-packages (from requests<3,>=2.21.0->tensorboard!=2.5.0,>=2.2.0->pytorch_lightning) (3.0.4)\n",
            "Requirement already satisfied: idna<3,>=2.5 in /usr/local/lib/python3.7/dist-packages (from requests<3,>=2.21.0->tensorboard!=2.5.0,>=2.2.0->pytorch_lightning) (2.10)\n",
            "Collecting async-timeout<4.0,>=3.0\n",
            "  Downloading https://files.pythonhosted.org/packages/e1/1e/5a4441be21b0726c4464f3f23c8b19628372f606755a9d2e46c187e65ec4/async_timeout-3.0.1-py3-none-any.whl\n",
            "Collecting multidict<7.0,>=4.5\n",
            "\u001b[?25l  Downloading https://files.pythonhosted.org/packages/7c/a6/4123b8165acbe773d1a8dc8e3f0d1edea16d29f7de018eda769abb56bd30/multidict-5.1.0-cp37-cp37m-manylinux2014_x86_64.whl (142kB)\n",
            "\u001b[K     |████████████████████████████████| 143kB 42.4MB/s \n",
            "\u001b[?25hCollecting yarl<2.0,>=1.0\n",
            "\u001b[?25l  Downloading https://files.pythonhosted.org/packages/f1/62/046834c5fc998c88ab2ef722f5d42122230a632212c8afa76418324f53ff/yarl-1.6.3-cp37-cp37m-manylinux2014_x86_64.whl (294kB)\n",
            "\u001b[K     |████████████████████████████████| 296kB 31.5MB/s \n",
            "\u001b[?25hRequirement already satisfied: attrs>=17.3.0 in /usr/local/lib/python3.7/dist-packages (from aiohttp; extra == \"http\"->fsspec[http]>=2021.4.0->pytorch_lightning) (21.2.0)\n",
            "Requirement already satisfied: zipp>=0.5 in /usr/local/lib/python3.7/dist-packages (from importlib-metadata; python_version < \"3.8\"->markdown>=2.6.8->tensorboard!=2.5.0,>=2.2.0->pytorch_lightning) (3.4.1)\n",
            "Requirement already satisfied: pyasn1>=0.1.3 in /usr/local/lib/python3.7/dist-packages (from rsa<5,>=3.1.4; python_version >= \"3.6\"->google-auth<2,>=1.6.3->tensorboard!=2.5.0,>=2.2.0->pytorch_lightning) (0.4.8)\n",
            "Requirement already satisfied: oauthlib>=3.0.0 in /usr/local/lib/python3.7/dist-packages (from requests-oauthlib>=0.7.0->google-auth-oauthlib<0.5,>=0.4.1->tensorboard!=2.5.0,>=2.2.0->pytorch_lightning) (3.1.0)\n",
            "Building wheels for collected packages: future\n",
            "  Building wheel for future (setup.py) ... \u001b[?25l\u001b[?25hdone\n",
            "  Created wheel for future: filename=future-0.18.2-cp37-none-any.whl size=491058 sha256=b9759478ca4d418322800d58730d3890d25c4948ace7d599cc7fe881e04a787f\n",
            "  Stored in directory: /root/.cache/pip/wheels/8b/99/a0/81daf51dcd359a9377b110a8a886b3895921802d2fc1b2397e\n",
            "Successfully built future\n",
            "\u001b[31mERROR: tensorflow 2.5.0 has requirement tensorboard~=2.5, but you'll have tensorboard 2.4.1 which is incompatible.\u001b[0m\n",
            "Installing collected packages: torchmetrics, pyDeprecate, tensorboard, async-timeout, multidict, yarl, aiohttp, fsspec, PyYAML, future, pytorch-lightning\n",
            "  Found existing installation: tensorboard 2.5.0\n",
            "    Uninstalling tensorboard-2.5.0:\n",
            "      Successfully uninstalled tensorboard-2.5.0\n",
            "  Found existing installation: PyYAML 3.13\n",
            "    Uninstalling PyYAML-3.13:\n",
            "      Successfully uninstalled PyYAML-3.13\n",
            "  Found existing installation: future 0.16.0\n",
            "    Uninstalling future-0.16.0:\n",
            "      Successfully uninstalled future-0.16.0\n",
            "Successfully installed PyYAML-5.4.1 aiohttp-3.7.4.post0 async-timeout-3.0.1 fsspec-2021.5.0 future-0.18.2 multidict-5.1.0 pyDeprecate-0.3.0 pytorch-lightning-1.3.2 tensorboard-2.4.1 torchmetrics-0.3.2 yarl-1.6.3\n"
          ],
          "name": "stdout"
        }
      ]
    },
    {
      "cell_type": "markdown",
      "metadata": {
        "id": "9bstnpcGEl8s"
      },
      "source": [
        "**Getting the Data**\n",
        "\n",
        "Analogously to what we have already seen in the other approaches, we load the data and create a DataLoader object."
      ]
    },
    {
      "cell_type": "code",
      "metadata": {
        "id": "NkMkv_O8EvZO"
      },
      "source": [
        "train_ds = dsets.FashionMNIST(root='./data', train=True, download=True, transform=ToTensor())\n",
        "test_ds = dsets.FashionMNIST(root='./data', train=False, download=True, transform=ToTensor())\n",
        "\n",
        "train_dl = DataLoader(train_ds, batch_size=64, shuffle=True)\n",
        "test_dl = DataLoader(test_ds, batch_size=64)"
      ],
      "execution_count": null,
      "outputs": []
    },
    {
      "cell_type": "markdown",
      "metadata": {
        "id": "2LGeXhUrFSKn"
      },
      "source": [
        "**Instantiating the Resnet**\n",
        "\n",
        "It is incredibly easy to instantiate a Resnet. We simply pass define the resnet18 as our model! Since our data only has one channel, we have to tweak the very first layer of the net a little bit. We also directly define our loss-function to be the Cross-Entropy Loss"
      ]
    },
    {
      "cell_type": "code",
      "metadata": {
        "id": "xjkM2yiTFzOe"
      },
      "source": [
        "class ResNetFashionMNIST(pl.LightningModule):\n",
        "  def __init__(self):\n",
        "    super().__init__()\n",
        "    self.model = resnet18(num_classes=10)\n",
        "    self.model.conv1 = nn.Conv2d(1, 64, kernel_size=(7, 7), stride=(2, 2), padding=(3, 3), bias=False)\n",
        "    self.loss = nn.CrossEntropyLoss()\n",
        "\n",
        "  @auto_move_data\n",
        "  def forward(self, x):\n",
        "    return self.model(x)\n",
        "  \n",
        "  def training_step(self, batch, batch_no):\n",
        "    x, y = batch\n",
        "    logits = self(x)\n",
        "    loss = self.loss(logits, y)\n",
        "    return loss\n",
        "  \n",
        "  def configure_optimizers(self):\n",
        "    return torch.optim.RMSprop(self.parameters(), lr=0.005)\n",
        "\n",
        "model = ResNetFashionMNIST()"
      ],
      "execution_count": null,
      "outputs": []
    },
    {
      "cell_type": "markdown",
      "metadata": {
        "id": "yDASnULeF8V1"
      },
      "source": [
        "**Setting up the Training**\n",
        "\n",
        "For training the Resnet, we can implement a so-called \"trainer\" from Pytorch Lighning. This Trainer makes training very easy by automating most of the needed code. All we need to do is tell him how many epochs to train the model for!"
      ]
    },
    {
      "cell_type": "code",
      "metadata": {
        "id": "Wt_SR3T0GVZb",
        "colab": {
          "base_uri": "https://localhost:8080/"
        },
        "outputId": "2f7a891b-7e6d-420a-8d70-1318f460b0ae"
      },
      "source": [
        "trainer = pl.Trainer(\n",
        "    gpus=0,\n",
        "    max_epochs=20, \n",
        "    progress_bar_refresh_rate=20\n",
        ")"
      ],
      "execution_count": null,
      "outputs": [
        {
          "output_type": "stream",
          "text": [
            "GPU available: True, used: False\n",
            "TPU available: False, using: 0 TPU cores\n",
            "/usr/local/lib/python3.7/dist-packages/pytorch_lightning/utilities/distributed.py:69: UserWarning: GPU available but not used. Set the gpus flag in your trainer `Trainer(gpus=1)` or script `--gpus=1`.\n",
            "  warnings.warn(*args, **kwargs)\n"
          ],
          "name": "stderr"
        }
      ]
    },
    {
      "cell_type": "markdown",
      "metadata": {
        "id": "TIa8IH-WGvBi"
      },
      "source": [
        "**Training the Resnet**\n",
        "\n",
        "Now we simply have to start the training-loop. This is very easy as well! Attention, this will also take some time to train!!"
      ]
    },
    {
      "cell_type": "code",
      "metadata": {
        "id": "LXJKDd0JG6Ff",
        "colab": {
          "base_uri": "https://localhost:8080/",
          "height": 236,
          "referenced_widgets": [
            "3b78279d06f3474e9a6ecf27cdb6c000",
            "67a84165d6ea44bbbb44641a319c3e2e",
            "c44c01579ef74cb3814191fb1c6e3111",
            "4f9af4f3c99349728c3930522ec3157d",
            "2fd45830917d45e4b28b8898d47254d0",
            "13130ff0b4de40388b0b5841616a8509",
            "0a080ab0890a411bb3bf31ab0449ed84",
            "d046f652fd0548218b051e2904e0f847"
          ]
        },
        "outputId": "471f846d-a018-4e7f-d508-8c2f31dc9049"
      },
      "source": [
        "trainer.fit(model, train_dl)"
      ],
      "execution_count": null,
      "outputs": [
        {
          "output_type": "stream",
          "text": [
            "\n",
            "  | Name  | Type             | Params\n",
            "-------------------------------------------\n",
            "0 | model | ResNet           | 11.2 M\n",
            "1 | loss  | CrossEntropyLoss | 0     \n",
            "-------------------------------------------\n",
            "11.2 M    Trainable params\n",
            "0         Non-trainable params\n",
            "11.2 M    Total params\n",
            "44.701    Total estimated model params size (MB)\n"
          ],
          "name": "stderr"
        },
        {
          "output_type": "display_data",
          "data": {
            "application/vnd.jupyter.widget-view+json": {
              "model_id": "3b78279d06f3474e9a6ecf27cdb6c000",
              "version_minor": 0,
              "version_major": 2
            },
            "text/plain": [
              "HBox(children=(FloatProgress(value=1.0, bar_style='info', description='Training', layout=Layout(flex='2'), max…"
            ]
          },
          "metadata": {
            "tags": []
          }
        },
        {
          "output_type": "stream",
          "text": [
            "\n"
          ],
          "name": "stdout"
        }
      ]
    },
    {
      "cell_type": "markdown",
      "metadata": {
        "id": "x6oCudMpHCFJ"
      },
      "source": [
        "**Saving the Model**\n",
        "\n",
        "After training, let's save the Model!"
      ]
    },
    {
      "cell_type": "code",
      "metadata": {
        "id": "QjVXqFqEG82G"
      },
      "source": [
        "from tqdm.autonotebook import tqdm\n",
        "\n",
        "trainer.save_checkpoint(\"resnet18_mnist.pt\")\n",
        "inference_model = ResNetFashionMNIST.load_from_checkpoint(\"resnet18_mnist.pt\", map_location=\"cpu\")"
      ],
      "execution_count": null,
      "outputs": []
    },
    {
      "cell_type": "markdown",
      "metadata": {
        "id": "7oPlzvsBHzXW"
      },
      "source": [
        "**Getting the Predictions**\n",
        "\n",
        "After having trained the Model, we can go ahead to get the predictions for the dataset. We write a function for predicting and then load batches of the test, and of the training-data to calculate the train/test-accuracy!"
      ]
    },
    {
      "cell_type": "code",
      "metadata": {
        "id": "bpMIFXrwH7sZ",
        "colab": {
          "base_uri": "https://localhost:8080/",
          "height": 115,
          "referenced_widgets": [
            "620b8e3ebda04ec2ada009e8c41999b8",
            "d185832b25024553a9bb3fa5293dfc13",
            "7fad75839fae44489b09491d7670ad48",
            "5539fbf5b0ed44e39be41e55d5b01171",
            "d2fa2e247d364d74a7bf89255d506afe",
            "d062d4447003433eb6a7bcd3779d661c",
            "96f5efeacfb643f184324edb916098a9",
            "e36f939503894eeba9f6ac4d2b4e095d",
            "c0e8352cda6e494791ae6d1265141a11",
            "0fcdcc5a2e2e4a5aad0facaeb9481446",
            "f91edc0e680640748bbc5db2260fb5a6",
            "8aa9eb117b4a46f895f49bde9bd79483",
            "07ebc1ad8bdf4da38a5cd9140cbb28ad",
            "e253e76868e9450a81a5a7956d84ec66",
            "90d8756e0fff451dab8697fd36096c16",
            "827a56b09a1545828d994a888fcd17bf"
          ]
        },
        "outputId": "b6d0786c-af6d-4c3f-94d7-f08a3620367d"
      },
      "source": [
        "def get_prediction(x, model: pl.LightningModule):\n",
        "  model.freeze() # prepares model for predicting\n",
        "  probabilities = torch.softmax(model(x), dim=1)\n",
        "  predicted_class = torch.argmax(probabilities, dim=1)\n",
        "  return predicted_class, probabilities\n",
        "\n",
        "true_y, pred_y = [], []\n",
        "for batch in tqdm(iter(test_dl), total=len(test_dl)):\n",
        "  x, y = batch\n",
        "  true_y.extend(y)\n",
        "  preds, probs = get_prediction(x, inference_model)\n",
        "  pred_y.extend(preds.cpu())\n",
        "\n",
        "true_y_train, pred_y_train = [], []\n",
        "for batch in tqdm(iter(train_dl), total=len(train_dl)):\n",
        "  x, y = batch\n",
        "  true_y_train.extend(y)\n",
        "  preds, probs = get_prediction(x, inference_model)\n",
        "  pred_y_train.extend(preds.cpu())\n",
        "\n"
      ],
      "execution_count": null,
      "outputs": [
        {
          "output_type": "display_data",
          "data": {
            "application/vnd.jupyter.widget-view+json": {
              "model_id": "620b8e3ebda04ec2ada009e8c41999b8",
              "version_minor": 0,
              "version_major": 2
            },
            "text/plain": [
              "HBox(children=(FloatProgress(value=0.0, max=157.0), HTML(value='')))"
            ]
          },
          "metadata": {
            "tags": []
          }
        },
        {
          "output_type": "stream",
          "text": [
            "\n"
          ],
          "name": "stdout"
        },
        {
          "output_type": "display_data",
          "data": {
            "application/vnd.jupyter.widget-view+json": {
              "model_id": "c0e8352cda6e494791ae6d1265141a11",
              "version_minor": 0,
              "version_major": 2
            },
            "text/plain": [
              "HBox(children=(FloatProgress(value=0.0, max=938.0), HTML(value='')))"
            ]
          },
          "metadata": {
            "tags": []
          }
        },
        {
          "output_type": "stream",
          "text": [
            "\n"
          ],
          "name": "stdout"
        }
      ]
    },
    {
      "cell_type": "code",
      "metadata": {
        "id": "Fsxezqe1YkoK",
        "colab": {
          "base_uri": "https://localhost:8080/"
        },
        "outputId": "8852f1d5-5f0c-425f-dcfe-26e7e11eea20"
      },
      "source": [
        "from sklearn.metrics import classification_report\n",
        "from sklearn.metrics import plot_confusion_matrix\n",
        "from sklearn.metrics import confusion_matrix, ConfusionMatrixDisplay\n",
        "print(classification_report(true_y, pred_y, digits=3))\n",
        "print(classification_report(true_y_train, pred_y_train,digits=3))\n",
        "cm =confusion_matrix(true_y, pred_y,)\n",
        "label_list = [\"T-shirt/top\", \"Trouser\",\"Pullover\",\"Dress\",\"Coat\",\"Sandal\",\"Shirt\",\"Sneaker\",\"Bag\",\"Ankle boot\"]"
      ],
      "execution_count": null,
      "outputs": [
        {
          "output_type": "stream",
          "text": [
            "              precision    recall  f1-score   support\n",
            "\n",
            "           0      0.849     0.879     0.864      1000\n",
            "           1      0.995     0.979     0.987      1000\n",
            "           2      0.710     0.934     0.807      1000\n",
            "           3      0.886     0.930     0.907      1000\n",
            "           4      0.846     0.737     0.788      1000\n",
            "           5      0.989     0.967     0.978      1000\n",
            "           6      0.836     0.620     0.712      1000\n",
            "           7      0.937     0.981     0.958      1000\n",
            "           8      0.985     0.987     0.986      1000\n",
            "           9      0.979     0.955     0.967      1000\n",
            "\n",
            "    accuracy                          0.897     10000\n",
            "   macro avg      0.901     0.897     0.895     10000\n",
            "weighted avg      0.901     0.897     0.895     10000\n",
            "\n",
            "              precision    recall  f1-score   support\n",
            "\n",
            "           0      0.897     0.937     0.917      6000\n",
            "           1      0.998     0.993     0.996      6000\n",
            "           2      0.759     0.974     0.853      6000\n",
            "           3      0.938     0.970     0.953      6000\n",
            "           4      0.908     0.790     0.845      6000\n",
            "           5      0.995     0.991     0.993      6000\n",
            "           6      0.940     0.727     0.820      6000\n",
            "           7      0.969     0.990     0.980      6000\n",
            "           8      0.996     0.996     0.996      6000\n",
            "           9      0.989     0.972     0.980      6000\n",
            "\n",
            "    accuracy                          0.934     60000\n",
            "   macro avg      0.939     0.934     0.933     60000\n",
            "weighted avg      0.939     0.934     0.933     60000\n",
            "\n"
          ],
          "name": "stdout"
        }
      ]
    },
    {
      "cell_type": "code",
      "metadata": {
        "id": "uahps31eBFk6",
        "colab": {
          "base_uri": "https://localhost:8080/",
          "height": 689
        },
        "outputId": "f3ea6cd0-21ee-4852-95cb-b8ae789a0a22"
      },
      "source": [
        "disp = ConfusionMatrixDisplay(confusion_matrix=cm, display_labels=label_list)\n",
        "fig, ax = plt.subplots(figsize=(12,12))\n",
        "plt.title('Confusion matrix of the RESNET')\n",
        "disp.plot(values_format = \"d\", ax=ax)\n",
        "plt.show()\n",
        "#plt.figure(figsize=(10,10))"
      ],
      "execution_count": null,
      "outputs": [
        {
          "output_type": "display_data",
          "data": {
            "image/png": "[encoded data removed]",
            "text/plain": [
              "<Figure size 864x864 with 2 Axes>"
            ]
          },
          "metadata": {
            "tags": [],
            "needs_background": "light"
          }
        }
      ]
    },
    {
      "cell_type": "code",
      "metadata": {
        "id": "0qMTEmtvYn7R"
      },
      "source": [
        "#plt.figure(figsize=(10,10))"
      ],
      "execution_count": null,
      "outputs": []
    },
    {
      "cell_type": "markdown",
      "metadata": {
        "id": "xlXtP52mIBhJ"
      },
      "source": [
        "**How good was the Resnet?**\n",
        "\n",
        "After 20 epochs, the Resnet has a accuracy of 98.4%  on the training data and 91.1% on the test data. At first sight, this does not look much better than the basic CNN we came up with in the beginning of the notebook. However, keep in mind that the Resnet18 has around 11 Million (!) parameters - training them takes some time! \n",
        "\n",
        "To assess the potential accuracy of our model, we can look at some research that has implemented the model for a longer time than we could. These were the results:\n",
        "\n",
        "<img align=\"center\" style=\"max-width: 500px; height: 500px\" src=\"https://github.com/PaulSt4/ML_HSG/blob/main/resnet.PNG?raw=1\">\n",
        "\n",
        "So if we let the resnet18 train for 125 epochs, we would reach a testing accuracy more than 95%!!! Training one epoch of resnet18 on a cpu took us around 15 minutes. Consequently, 125 epochs will take around 32 Hours of non-stop training. We tried this, but unfortunately our internet connection was not stable enough that the model would run without disconnecting the Google Colab Notebook. But feel free to let the Model train for more epochs by simply changing the \"max_epochs\" parameter of the Trainer - have fun!"
      ]
    }
  ]
}