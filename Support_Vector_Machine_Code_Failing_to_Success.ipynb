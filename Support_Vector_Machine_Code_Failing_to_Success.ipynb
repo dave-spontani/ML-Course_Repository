{
  "nbformat": 4,
  "nbformat_minor": 0,
  "metadata": {
    "colab": {
      "name": "Support Vector Machine Code: Failling to Success",
      "provenance": [],
      "collapsed_sections": []
    },
    "kernelspec": {
      "display_name": "Python 3",
      "name": "python3"
    },
    "language_info": {
      "name": "python"
    }
  },
  "cells": [
    {
      "cell_type": "markdown",
      "metadata": {
        "id": "V3VBFoyb5pre"
      },
      "source": [
        "# **Failing to Success: Support Vector Machine**\n",
        "\n",
        "\n",
        "\n"
      ]
    },
    {
      "cell_type": "markdown",
      "metadata": {
        "id": "jn7WVGh37UQS"
      },
      "source": [
        "As a first step, we import the training data as well as all the needed libraries: "
      ]
    },
    {
      "cell_type": "code",
      "metadata": {
        "id": "7owOd9R7hOW4",
        "colab": {
          "base_uri": "https://localhost:8080/"
        },
        "outputId": "63bb3b8e-3a6b-43f4-baed-f678408d40f4"
      },
      "source": [
        "# import standard python libraries\n",
        "import os, urllib, io\n",
        "from datetime import datetime\n",
        "import numpy as np\n",
        "\n",
        "# import the PyTorch deep learning libary\n",
        "import torch, torchvision\n",
        "import torch.nn.functional as F\n",
        "from torch import nn, optim\n",
        "\n",
        "# import sklearn classification evaluation library\n",
        "from sklearn import metrics\n",
        "from sklearn.metrics import classification_report, confusion_matrix\n",
        "\n",
        "# import matplotlib, seaborn, and PIL data visualization libary\n",
        "import matplotlib.pyplot as plt\n",
        "import seaborn as sns\n",
        "from PIL import Image\n",
        "\n",
        "# import the Google Colab GDrive connector\n",
        "from google.colab import drive\n",
        "\n",
        "#import pandas\n",
        "import pandas as pd\n",
        "\n",
        "\n",
        "# mount GDrive inside the Colab notebook\n",
        "drive.mount('/content/drive')\n",
        "\n",
        "# create Colab Notebooks directory\n",
        "notebook_directory = '/content/drive/MyDrive/Colab Notebooks'\n",
        "if not os.path.exists(notebook_directory): os.makedirs(notebook_directory)\n",
        "\n",
        " # create data sub-directory inside the Colab Notebooks directory\n",
        "data_directory = '/content/drive/MyDrive/Colab Notebooks/data'\n",
        "if not os.path.exists(data_directory): os.makedirs(data_directory)\n",
        "\n",
        " # create models sub-directory inside the Colab Notebooks directory\n",
        "models_directory = '/content/drive/MyDrive/Colab Notebooks/models'\n",
        "if not os.path.exists(models_directory): os.makedirs(models_directory)\n",
        "\n",
        "# init deterministic seed\n",
        "seed_value = 1234\n",
        "np.random.seed(seed_value) # set numpy seed\n",
        "torch.manual_seed(seed_value) # set pytorch seed CPU\n",
        "\n",
        "# set cpu or gpu enabled device\n",
        "device = torch.device('cuda' if torch.cuda.is_available() else 'cpu').type\n",
        "\n",
        "# init deterministic GPU seed\n",
        "torch.cuda.manual_seed(seed_value)\n",
        "\n",
        "# log type of device enabled\n",
        "print('[LOG] notebook with {} computation enabled'.format(str(device)))\n",
        "\n",
        "train_path = data_directory + 'train_fashion_mnist'\n",
        "\n",
        "# define pytorch transformation into tensor format\n",
        "transf = torchvision.transforms.Compose([torchvision.transforms.ToTensor()])\n",
        "\n",
        "# download and transform training images\n",
        "fashion_mnist_train_data = torchvision.datasets.FashionMNIST(root=train_path, train=True, transform=transf, download=True)"
      ],
      "execution_count": 223,
      "outputs": [
        {
          "output_type": "stream",
          "text": [
            "Drive already mounted at /content/drive; to attempt to forcibly remount, call drive.mount(\"/content/drive\", force_remount=True).\n",
            "[LOG] notebook with cpu computation enabled\n"
          ],
          "name": "stdout"
        }
      ]
    },
    {
      "cell_type": "code",
      "metadata": {
        "id": "rmrG3-Kr5WHp"
      },
      "source": [
        "# import the numpy, scipy and pandas data science library\n",
        "import numpy as np\n",
        "import scipy as sp\n",
        "from scipy.stats import norm\n",
        "\n",
        "# import sklearn data and data pre-processing libraries\n",
        "from sklearn import datasets\n",
        "from sklearn.preprocessing import MinMaxScaler\n",
        "from sklearn.model_selection import train_test_split\n",
        "\n",
        "# import torchvision library\n",
        "import torchvision\n",
        "\n",
        "# import sklearn HOG feature library\n",
        "from skimage.feature import hog\n",
        "\n",
        "# import sklearn support vector classifier (svc) library\n",
        "from sklearn.svm import SVC\n",
        "\n",
        "# import sklearn classification evaluation library\n",
        "from sklearn import metrics\n",
        "from sklearn.metrics import classification_report, confusion_matrix\n",
        "\n",
        "# import matplotlib data visualization library\n",
        "import matplotlib.pyplot as plt\n",
        "import seaborn as sns\n",
        "\n",
        "#import further libraries and functions\n",
        "import torchvision.transforms as transforms\n",
        "import torchvision.datasets as dsets"
      ],
      "execution_count": 224,
      "outputs": []
    },
    {
      "cell_type": "markdown",
      "metadata": {
        "id": "fCJpMDWzwzl7"
      },
      "source": [
        "So far all pixel values of a picture are in one clomun. So we make a  list for all pixel tensors, and a list for for the labels. Further we define a dictionary to afterwords replace the numeric labels through words to directly know which category a picture belongs to:\n",
        "\n"
      ]
    },
    {
      "cell_type": "code",
      "metadata": {
        "id": "WcAxTeAgh7sO"
      },
      "source": [
        "#giving names (\"strings\") to the fashion classes\n",
        "fashion_classes = {0: 'T-shirt/top',\n",
        "                    1: 'Trouser',\n",
        "                    2: 'Pullover',\n",
        "                    3: 'Dress',\n",
        "                    4: 'Coat',\n",
        "                    5: 'Sandal',\n",
        "                    6: 'Shirt',\n",
        "                    7: 'Sneaker',\n",
        "                    8: 'Bag',\n",
        "                    9: 'Ankle boot'}\n",
        "\n",
        "#creating a list with the labels corresponding to the training dataset, \n",
        "# this seperates the labels from the dataset\n",
        "x= []\n",
        "for i in range(len(fashion_mnist_train_data)):\n",
        "  x.append(fashion_classes[fashion_mnist_train_data[i][1]])\n"
      ],
      "execution_count": 225,
      "outputs": []
    },
    {
      "cell_type": "code",
      "metadata": {
        "id": "I5R6DxFtUl5V"
      },
      "source": [
        "#creating a list with the different pixel tensors,\n",
        "#this seperates the exogeneous variables from the training dataset\n",
        "y= []\n",
        "for i in range(len(fashion_mnist_train_data)):\n",
        "  y.append(fashion_mnist_train_data[i][0])"
      ],
      "execution_count": 226,
      "outputs": []
    },
    {
      "cell_type": "markdown",
      "metadata": {
        "id": "aAoHb5im96-O"
      },
      "source": [
        "Here we create a dataframe with the exogeneous variables in the column \"Pixels\" and the endogeneous variables in the column \"Label\":"
      ]
    },
    {
      "cell_type": "code",
      "metadata": {
        "id": "tbKInXmBTp6Z"
      },
      "source": [
        "#creating a dataframe with the exogeneous variables in the column \"Pixels\"\n",
        "#and the endogeneous variables in the column \"Label\"\n",
        "d = {'Pixels':y,'Label':x}\n",
        "train = pd.DataFrame(d)\n"
      ],
      "execution_count": 227,
      "outputs": []
    },
    {
      "cell_type": "markdown",
      "metadata": {
        "id": "IACBbDl6pxxg"
      },
      "source": [
        "Now we use that data frame to create another data frame in which every pixel has its own column. This way every single pixel works as one feature on its own:"
      ]
    },
    {
      "cell_type": "code",
      "metadata": {
        "id": "A6FoImv3zfLm"
      },
      "source": [
        "#creating an empty df in which we can input each pixel value of a picture in a column \n",
        "columns=list(range(784))\n",
        "\n",
        "emptydf=pd.DataFrame(data= np.nan,    # values\n",
        "             index=list(range(len(train))),    # 1st column as index\n",
        "             columns=columns)  # 1st row as the column names\n"
      ],
      "execution_count": 228,
      "outputs": []
    },
    {
      "cell_type": "code",
      "metadata": {
        "id": "DoJg8Gh6sIiW"
      },
      "source": [
        "# plugging each individual value from the tensors into a column\n",
        "\n",
        "df2=train.iloc[:,0]\n",
        "\n",
        "for i in range(len(train)):\n",
        "  q=df2[i][0]\n",
        "  a= q.tolist()\n",
        "\n",
        "  flat_list = []\n",
        "  for sublist in a:\n",
        "      for item in sublist:\n",
        "          flat_list.append(item)\n",
        "  emptydf.iloc[i,:]=flat_list\n",
        "\n",
        "\n",
        "\n",
        "\n"
      ],
      "execution_count": 229,
      "outputs": []
    },
    {
      "cell_type": "markdown",
      "metadata": {
        "id": "5JBriXjf_YYh"
      },
      "source": [
        "Here we add the corresponding labels of the pictures to the dataframe: \n"
      ]
    },
    {
      "cell_type": "code",
      "metadata": {
        "id": "leYztEdoqUlu"
      },
      "source": [
        "#we add the endogenous variables(labels), to the exogeneous variables(pixels) \n",
        "#and assign that df to the variable train\n",
        "train = emptydf.assign(label = x)\n"
      ],
      "execution_count": 230,
      "outputs": []
    },
    {
      "cell_type": "markdown",
      "metadata": {
        "id": "PyIUBtUvEvuq"
      },
      "source": [
        "We create train_unchanged to have one train dataset that we never change to be able to use it later on if the original dataset is needed:"
      ]
    },
    {
      "cell_type": "code",
      "metadata": {
        "id": "dxLO6ylsEu5H"
      },
      "source": [
        "train_unchanged=train.copy()"
      ],
      "execution_count": 231,
      "outputs": []
    },
    {
      "cell_type": "markdown",
      "metadata": {
        "id": "DGrXuwQCM4vc"
      },
      "source": [
        "Now we investigate the distribution of the data. The function \"count_classes\" should give out a plot of the classes inside a series and also a tabel with the count of how many time each class appears in the series:"
      ]
    },
    {
      "cell_type": "code",
      "metadata": {
        "id": "6JpbI61iupwr"
      },
      "source": [
        "def count_classes (series):\n",
        "  elements= set(series)\n",
        "  series_out = pd.Series(0,index=elements)\n",
        "  for i in series:\n",
        "    series_out[i]=series_out[i]+1\n",
        "  plot_out=plt.bar(series_out.index, series_out.values, width=0.2,  align='center' )\n",
        "  plt.title('Distibution of classes')\n",
        "  plt.xlabel('classes')\n",
        "  return series_out,plot_out"
      ],
      "execution_count": 232,
      "outputs": []
    },
    {
      "cell_type": "code",
      "metadata": {
        "id": "wMK0LxSaup4l",
        "colab": {
          "base_uri": "https://localhost:8080/",
          "height": 473
        },
        "outputId": "530c3979-aa05-49e8-c2f8-a661b0c2f60b"
      },
      "source": [
        "count_classes(train[\"label\"])"
      ],
      "execution_count": 233,
      "outputs": [
        {
          "output_type": "execute_result",
          "data": {
            "text/plain": [
              "(Dress          6000\n",
              " Coat           6000\n",
              " Sneaker        6000\n",
              " Pullover       6000\n",
              " Trouser        6000\n",
              " Ankle boot     6000\n",
              " Shirt          6000\n",
              " Bag            6000\n",
              " Sandal         6000\n",
              " T-shirt/top    6000\n",
              " dtype: int64, <BarContainer object of 10 artists>)"
            ]
          },
          "metadata": {
            "tags": []
          },
          "execution_count": 233
        },
        {
          "output_type": "display_data",
          "data": {
            "image/png": "[encoded data removed]",
            "text/plain": [
              "<Figure size 432x288 with 1 Axes>"
            ]
          },
          "metadata": {
            "tags": [],
            "needs_background": "light"
          }
        }
      ]
    },
    {
      "cell_type": "markdown",
      "metadata": {
        "id": "SBDZv8ukuwrN"
      },
      "source": [
        "As shown, the data in the training set is perfectly balanced. We go one step further and create a copy of the dataframe and add two more columns to it one \"mean_pixelvalue\" giving us the mean of the pixelvalue in the picture. The other additional column \"zeroval\" gives of the number of pixels = 0 there are in the picture:"
      ]
    },
    {
      "cell_type": "code",
      "metadata": {
        "id": "gd2I3oi3uxB9"
      },
      "source": [
        "train_extended=train.copy()\n",
        "#adding a coulumn giving us the mean pixel value of the pictures\n",
        "train_extended[\"mean_pixelvalue\"]=train_extended.mean(axis=1)"
      ],
      "execution_count": 234,
      "outputs": []
    },
    {
      "cell_type": "code",
      "metadata": {
        "id": "3jbvV2W0u_Rn"
      },
      "source": [
        "#counting the number of pixelsvalues = 0 in each row(picture)\n",
        "zeroval=[]\n",
        "for i in range(len(train_extended)):\n",
        "  counter=list(train_extended.iloc[i,:784]).count(0)  \n",
        "  zeroval.append(counter)\n",
        "\n",
        "#create zeroval column\n",
        "train_extended[\"zeroval\"]=zeroval"
      ],
      "execution_count": 235,
      "outputs": []
    },
    {
      "cell_type": "markdown",
      "metadata": {
        "id": "IJ0Vwny_u_eJ"
      },
      "source": [
        "Now we group by label and take the mean to get the overall mean of pixelvalues and pixel=0 for each class:"
      ]
    },
    {
      "cell_type": "code",
      "metadata": {
        "id": "IvERtN97u_iU"
      },
      "source": [
        "mean_by_label=train_extended.groupby([\"label\"]).mean()"
      ],
      "execution_count": 236,
      "outputs": []
    },
    {
      "cell_type": "markdown",
      "metadata": {
        "id": "vFMwSzHdu_mq"
      },
      "source": [
        "We investigate how the number of pixels=0 are distributed in each class and what mean for average of pixel = 0 there is in each class:"
      ]
    },
    {
      "cell_type": "code",
      "metadata": {
        "id": "hHtEtrsEvNZI",
        "colab": {
          "base_uri": "https://localhost:8080/",
          "height": 311
        },
        "outputId": "0afdc085-6d04-4f46-be49-b966b4dbc17a"
      },
      "source": [
        "plt.scatter((train_extended[\"label\"]), train_extended[\"zeroval\"], s=1)\n",
        "plt.scatter(mean_by_label.index,mean_by_label[\"zeroval\"])\n",
        "plt.title('number of pixels in picture with value = 0 ')\n",
        "plt.xlabel('classes')\n",
        "plt.legend([\"number zerovalue pic\", \"average zerovalue class\"],loc=\"upper left\", fontsize=8)"
      ],
      "execution_count": 237,
      "outputs": [
        {
          "output_type": "execute_result",
          "data": {
            "text/plain": [
              "<matplotlib.legend.Legend at 0x7fc7f4d07850>"
            ]
          },
          "metadata": {
            "tags": []
          },
          "execution_count": 237
        },
        {
          "output_type": "display_data",
          "data": {
            "image/png": "[encoded data removed]",
            "text/plain": [
              "<Figure size 432x288 with 1 Axes>"
            ]
          },
          "metadata": {
            "tags": [],
            "needs_background": "light"
          }
        }
      ]
    },
    {
      "cell_type": "markdown",
      "metadata": {
        "id": "FalcVtmGvNcS"
      },
      "source": [
        "We investigate how the average pixelvalues are distributed in each class and what mean for average pixelvalue there is in each class:"
      ]
    },
    {
      "cell_type": "code",
      "metadata": {
        "id": "6gYWnNowvNgE",
        "colab": {
          "base_uri": "https://localhost:8080/",
          "height": 311
        },
        "outputId": "30ba94b5-d91e-432f-9fd5-9828dccfaa81"
      },
      "source": [
        "plt.scatter((train_extended[\"label\"]), train_extended[\"mean_pixelvalue\"], s=1)\n",
        "plt.scatter(mean_by_label.index,mean_by_label[\"mean_pixelvalue\"])\n",
        "plt.title('mean pixelvalue in picture')\n",
        "plt.xlabel('classes')\n",
        "plt.legend([\"mean pixelvalue picture\", \"mean pixelvalue class\"],loc=\"upper left\",fontsize=8)"
      ],
      "execution_count": 238,
      "outputs": [
        {
          "output_type": "execute_result",
          "data": {
            "text/plain": [
              "<matplotlib.legend.Legend at 0x7fc804727e90>"
            ]
          },
          "metadata": {
            "tags": []
          },
          "execution_count": 238
        },
        {
          "output_type": "display_data",
          "data": {
            "image/png": "[encoded data removed]",
            "text/plain": [
              "<Figure size 432x288 with 1 Axes>"
            ]
          },
          "metadata": {
            "tags": [],
            "needs_background": "light"
          }
        }
      ]
    },
    {
      "cell_type": "markdown",
      "metadata": {
        "id": "fOqVJItgvNj4"
      },
      "source": [
        "As shown in the graphs there is some variance between the classes regarding the number of 0-pixels and the average pixel value. These information will be used later on in the code. "
      ]
    },
    {
      "cell_type": "markdown",
      "metadata": {
        "id": "NSteaFLG_-LK"
      },
      "source": [
        "For now we continue with the normal training set. As we will train a SVM which  takes up a lot of computing power with bigger datasets without \n",
        "improving much the perfomance, we chose to only use the first 20'000 pictures:"
      ]
    },
    {
      "cell_type": "code",
      "metadata": {
        "id": "WZEGztpO8Td8"
      },
      "source": [
        "train= train.iloc[:20000,:]"
      ],
      "execution_count": 239,
      "outputs": []
    },
    {
      "cell_type": "markdown",
      "metadata": {
        "id": "US0OVW1mv3Hj"
      },
      "source": [
        "Before we get started, lets see if also the subset of the training data used is balanced:"
      ]
    },
    {
      "cell_type": "code",
      "metadata": {
        "id": "CYQt3vsHv342",
        "colab": {
          "base_uri": "https://localhost:8080/",
          "height": 473
        },
        "outputId": "a523ecdb-e409-41f3-ff48-e7f4ce96a70a"
      },
      "source": [
        "count_classes(train[\"label\"])"
      ],
      "execution_count": 240,
      "outputs": [
        {
          "output_type": "execute_result",
          "data": {
            "text/plain": [
              "(Dress          2011\n",
              " Coat           1967\n",
              " Sneaker        2003\n",
              " Pullover       1982\n",
              " Trouser        2025\n",
              " Ankle boot     2028\n",
              " Shirt          2068\n",
              " Bag            1971\n",
              " Sandal         2010\n",
              " T-shirt/top    1935\n",
              " dtype: int64, <BarContainer object of 10 artists>)"
            ]
          },
          "metadata": {
            "tags": []
          },
          "execution_count": 240
        },
        {
          "output_type": "display_data",
          "data": {
            "image/png": "[encoded data removed]",
            "text/plain": [
              "<Figure size 432x288 with 1 Axes>"
            ]
          },
          "metadata": {
            "tags": [],
            "needs_background": "light"
          }
        }
      ]
    },
    {
      "cell_type": "markdown",
      "metadata": {
        "id": "YcrksOmpMvYI"
      },
      "source": [
        "The subset we are using is well suited for training as there is a more or less an equal distribution of pictures of different classes.  "
      ]
    },
    {
      "cell_type": "markdown",
      "metadata": {
        "id": "AVc3AGA3Br4l"
      },
      "source": [
        "# Training a basic (linear) Support Vector Machine "
      ]
    },
    {
      "cell_type": "markdown",
      "metadata": {
        "id": "8FUJ_yz_BsNk"
      },
      "source": [
        "First we do a training and testing split and set the random seed in order to have replicable results:"
      ]
    },
    {
      "cell_type": "code",
      "metadata": {
        "id": "VsRV5n9oBsRx"
      },
      "source": [
        "eval_fraction = 0.3\n",
        "random_seed = 42\n",
        "# 70% training and 30% evaluation\n",
        "x_train, x_eval, y_train, y_eval = train_test_split(train.iloc[:,0:784], train.loc[:,\"label\"], test_size=eval_fraction, random_state=random_seed, stratify=None)"
      ],
      "execution_count": 241,
      "outputs": []
    },
    {
      "cell_type": "markdown",
      "metadata": {
        "id": "m0Y4CztdCPMY"
      },
      "source": [
        "Now we train an untuned SVM to see with what an accuracy rate we start off:"
      ]
    },
    {
      "cell_type": "code",
      "metadata": {
        "colab": {
          "base_uri": "https://localhost:8080/"
        },
        "id": "bmD_5kqqBsVR",
        "outputId": "fff3734e-0dc7-4a8a-b5c1-280602aa273c"
      },
      "source": [
        "svm_linear = SVC(kernel='linear', random_state=random_seed)\n",
        "svm_linear.fit(x_train, y_train)"
      ],
      "execution_count": 242,
      "outputs": [
        {
          "output_type": "execute_result",
          "data": {
            "text/plain": [
              "SVC(C=1.0, break_ties=False, cache_size=200, class_weight=None, coef0=0.0,\n",
              "    decision_function_shape='ovr', degree=3, gamma='scale', kernel='linear',\n",
              "    max_iter=-1, probability=False, random_state=42, shrinking=True, tol=0.001,\n",
              "    verbose=False)"
            ]
          },
          "metadata": {
            "tags": []
          },
          "execution_count": 242
        }
      ]
    },
    {
      "cell_type": "code",
      "metadata": {
        "id": "wVWL3h1lBsZP"
      },
      "source": [
        "#Prediction\n",
        "y_pred_linear = svm_linear.predict(x_eval)"
      ],
      "execution_count": 243,
      "outputs": []
    },
    {
      "cell_type": "code",
      "metadata": {
        "colab": {
          "base_uri": "https://localhost:8080/"
        },
        "id": "xh1-an1BBscc",
        "outputId": "387897db-ef26-44c7-db9f-dbe340b0cc69"
      },
      "source": [
        "#Performance\n",
        "print('Model classification accuracy: {}%'.format(str(metrics.accuracy_score(y_eval, y_pred_linear) * 100)))\n",
        "print('Number of mislabeled pictures out of a total {} pictures: {}'.format(x_eval.shape[0], np.sum(y_eval != y_pred_linear)))"
      ],
      "execution_count": 244,
      "outputs": [
        {
          "output_type": "stream",
          "text": [
            "Model classification accuracy: 83.46666666666667%\n",
            "Number of mislabeled pictures out of a total 6000 pictures: 992\n"
          ],
          "name": "stdout"
        }
      ]
    },
    {
      "cell_type": "markdown",
      "metadata": {
        "id": "4T_M1SsJwci1"
      },
      "source": [
        "An Accuracy rate of nearly 83.5% for an untuned model is already pretty good. This will mainly be due to our one-pixel-one-feature approach while data cleaning. The confusion matrix below illustrates the result in more detail:"
      ]
    },
    {
      "cell_type": "code",
      "metadata": {
        "id": "gP70u7zUBsrb",
        "colab": {
          "base_uri": "https://localhost:8080/",
          "height": 392
        },
        "outputId": "2c6b1656-5499-4c58-cd2c-64bed2f3f7c9"
      },
      "source": [
        "#confusion matrix\n",
        "# determine the prediction confusion matrix\n",
        "labelnames = ['Ankle boot',\n",
        " 'Bag',\n",
        " 'Coat',\n",
        " 'Dress',\n",
        " 'Pullover',\n",
        " 'Sandal',\n",
        " 'Shirt',\n",
        " 'Sneaker',\n",
        " 'T-shirt/top',\n",
        " 'Trouser']\n",
        "\n",
        "\n",
        "mat = confusion_matrix(y_eval, y_pred_linear)\n",
        "\n",
        "# init the plot\n",
        "plt.figure(figsize=(5, 5))\n",
        "\n",
        "# plot confusion matrix heatmap\n",
        "sns.heatmap(mat.T, square=True, annot=True, fmt='d', cbar=False, cmap='BuGn_r',xticklabels=labelnames, yticklabels=labelnames )\n",
        "\n",
        "# add plot axis labels\n",
        "plt.xlabel('[true class label ]')\n",
        "plt.ylabel('[predicted class label ]')\n",
        "\n",
        "# add plot title\n",
        "plt.title('SVM linear Predictions - Confusion Matrix');"
      ],
      "execution_count": 245,
      "outputs": [
        {
          "output_type": "display_data",
          "data": {
            "image/png": "[encoded data removed]",
            "text/plain": [
              "<Figure size 360x360 with 1 Axes>"
            ]
          },
          "metadata": {
            "tags": [],
            "needs_background": "light"
          }
        }
      ]
    },
    {
      "cell_type": "markdown",
      "metadata": {
        "id": "Jzf9e2tnDRDb"
      },
      "source": [
        "Now as we now what base accuracy is achievable, we try to improve it through taking several different approaches."
      ]
    },
    {
      "cell_type": "markdown",
      "metadata": {
        "id": "fck6Z2CWAvAk"
      },
      "source": [
        "# Training a basic Support Vector Machine (rbf)"
      ]
    },
    {
      "cell_type": "markdown",
      "metadata": {
        "id": "JUaYkAalBKE7"
      },
      "source": [
        "Here we are going to use the same train/test split as above. However we are going to change the kernel function used by the SVM. What best improved our performance was to not use a linear kernel but the rbf kernel. With the **Radial Basis Function (RBF)**, the distance of a training sample to the to-be-classified sample is relevant in determining how much influence a training sample point has on the classificatoin of a to-be-classified sample. This way the RBF weighs the influence of the training samples on the classification of a new observation according to how far away a training point is from the new observation. Due to that it actually works similair as the KNN algorithm.\n",
        "\n",
        "Source: https://towardsdatascience.com/radial-basis-function-rbf-kernel-the-go-to-kernel-acf0d22c798a"
      ]
    },
    {
      "cell_type": "code",
      "metadata": {
        "colab": {
          "base_uri": "https://localhost:8080/"
        },
        "id": "IoM1Ib9_qIBQ",
        "outputId": "bdc520b2-1347-43c7-89a5-9c767143a4d1"
      },
      "source": [
        "#training the SVM with the \"rbf\" method\n",
        "svm_rbf = SVC(kernel='rbf', random_state=random_seed)\n",
        "svm_rbf.fit(x_train, y_train)"
      ],
      "execution_count": 246,
      "outputs": [
        {
          "output_type": "execute_result",
          "data": {
            "text/plain": [
              "SVC(C=1.0, break_ties=False, cache_size=200, class_weight=None, coef0=0.0,\n",
              "    decision_function_shape='ovr', degree=3, gamma='scale', kernel='rbf',\n",
              "    max_iter=-1, probability=False, random_state=42, shrinking=True, tol=0.001,\n",
              "    verbose=False)"
            ]
          },
          "metadata": {
            "tags": []
          },
          "execution_count": 246
        }
      ]
    },
    {
      "cell_type": "markdown",
      "metadata": {
        "id": "1onCQNhvBZ-f"
      },
      "source": [
        "After the model is trained we run predictions and evaluate the performace with the accuracy rate and the number of pictures mislabeled:"
      ]
    },
    {
      "cell_type": "code",
      "metadata": {
        "id": "XQSnufaRqbVz"
      },
      "source": [
        "#Prediction\n",
        "y_pred = svm_rbf.predict(x_eval)"
      ],
      "execution_count": 247,
      "outputs": []
    },
    {
      "cell_type": "code",
      "metadata": {
        "colab": {
          "base_uri": "https://localhost:8080/"
        },
        "id": "42XxVt5EqhfW",
        "outputId": "ad5daed6-2a14-4696-8c11-4167df092eab"
      },
      "source": [
        "#Performance\n",
        "print('Model classification accuracy: {}%'.format(str(metrics.accuracy_score(y_eval, y_pred) * 100)))\n",
        "print('Number of mislabeled pictures out of a total {} pictures: {}'.format(x_eval.shape[0], np.sum(y_eval != y_pred)))\n",
        "\n"
      ],
      "execution_count": 248,
      "outputs": [
        {
          "output_type": "stream",
          "text": [
            "Model classification accuracy: 86.95%\n",
            "Number of mislabeled pictures out of a total 6000 pictures: 783\n"
          ],
          "name": "stdout"
        }
      ]
    },
    {
      "cell_type": "markdown",
      "metadata": {
        "id": "9hcijR0kCxBC"
      },
      "source": [
        "With the rbf kernel our accuracy rate got significantly better than with the linear kernel. Therefore, we decided to continue using the rbf kernel throughout our project. As before, here we  created the confusion matrix to further investigate the results:"
      ]
    },
    {
      "cell_type": "code",
      "metadata": {
        "colab": {
          "base_uri": "https://localhost:8080/",
          "height": 392
        },
        "id": "72DmI0U-qu7x",
        "outputId": "181a4053-ff25-46b0-a1d6-0df303207fdf"
      },
      "source": [
        "# determine the prediction confusion matrix\n",
        "labelnames = ['Ankle boot',\n",
        " 'Bag',\n",
        " 'Coat',\n",
        " 'Dress',\n",
        " 'Pullover',\n",
        " 'Sandal',\n",
        " 'Shirt',\n",
        " 'Sneaker',\n",
        " 'T-shirt/top',\n",
        " 'Trouser']\n",
        "\n",
        "\n",
        "mat = confusion_matrix(y_eval, y_pred)\n",
        "\n",
        "# init the plot\n",
        "plt.figure(figsize=(5, 5))\n",
        "\n",
        "# plot confusion matrix heatmap\n",
        "sns.heatmap(mat.T, square=True, annot=True, fmt='d', cbar=False, cmap='BuGn_r',xticklabels=labelnames, yticklabels=labelnames )\n",
        "\n",
        "# add plot axis labels\n",
        "plt.xlabel('[true class label ]')\n",
        "plt.ylabel('[predicted class label ]')\n",
        "\n",
        "# add plot title\n",
        "plt.title('SVM RBF Predictions - Confusion Matrix');"
      ],
      "execution_count": 249,
      "outputs": [
        {
          "output_type": "display_data",
          "data": {
            "image/png": "[encoded data removed]",
            "text/plain": [
              "<Figure size 360x360 with 1 Axes>"
            ]
          },
          "metadata": {
            "tags": [],
            "needs_background": "light"
          }
        }
      ]
    },
    {
      "cell_type": "markdown",
      "metadata": {
        "id": "jdSIOZFhOiBa"
      },
      "source": [
        "# Stacking\n",
        "We have seen that our SVM above was good to recognize certain classes, however often had problems to differentiate between other classes. To further improve our performance, we decided to bundle the classes which the SVM was bad at recognizing correctly so far.\n",
        "\n",
        "The idea is that we first run an SVM that identifies the classes which it can easily recognize and isolates the classes that are often misclassified. Afterwards, a second SVM (trained only on the classes that are often being mixed up) tries to differentiate between the classes our first model often mixed up.\n",
        "\n",
        "Therefore, we bundled the following classes together to the category 'Clothing':\n",
        "- shirt\n",
        "- pullover\n",
        "- coat\n",
        "- dress\n",
        "- t- shirt\n",
        "\n",
        "as the SVM above had difficulties to differentiate between them, and a 'specialized' SVM focusing only on differentiating these classes from each other might be more successful which could result in a higher performance. \n",
        "\n"
      ]
    },
    {
      "cell_type": "markdown",
      "metadata": {
        "id": "MVOz5B7tGs00"
      },
      "source": [
        "First we therefore copied the training set to change the labels:\n"
      ]
    },
    {
      "cell_type": "code",
      "metadata": {
        "id": "KgCOBA9oP38M"
      },
      "source": [
        "#creating a second training dataset for this approach to be able to better differentiate\n",
        "label_original=train.loc[:,\"label\"]\n",
        "train_original=train\n",
        "train2=train.copy()"
      ],
      "execution_count": 250,
      "outputs": []
    },
    {
      "cell_type": "markdown",
      "metadata": {
        "id": "1XrWtozLsCxD"
      },
      "source": [
        "Here we changed the labels of the aforementioned classes:"
      ]
    },
    {
      "cell_type": "code",
      "metadata": {
        "id": "KzYEh_LmQEVu"
      },
      "source": [
        "#reducing the number of classes by bundling the classes with high misclassification \n",
        "fashion_classes2 = { 'T-shirt/top': \"Clothing\",\n",
        "                    'Trouser': \"Trouser\",\n",
        "                    'Pullover': \"Clothing\",\n",
        "                    'Dress': \"Clothing\",\n",
        "                    'Coat': \"Clothing\",\n",
        "                    'Sandal': \"Sandal\",\n",
        "                    'Shirt': \"Clothing\",\n",
        "                    'Sneaker': \"Sneaker\",\n",
        "                    'Bag': \"Bag\",\n",
        "                    'Ankle boot':\"Ankle boot\"}\n",
        "\n",
        "\n",
        "train1 = train.copy()\n",
        "for i in range(len(train1)):\n",
        "  train1.loc[i,\"label\"]=fashion_classes2[train1.loc[i,\"label\"]]\n",
        "\n"
      ],
      "execution_count": 251,
      "outputs": []
    },
    {
      "cell_type": "markdown",
      "metadata": {
        "id": "v_A2NogCHGNN"
      },
      "source": [
        "Now we proceeded the same as before, with a train-test split, training the SVM and afterwards evaluating its performance:"
      ]
    },
    {
      "cell_type": "code",
      "metadata": {
        "id": "E_ltPqFsR9dr"
      },
      "source": [
        "#creating a training and testing split\n",
        "eval_fraction = 0.3\n",
        "random_seed = 42\n",
        "# 70% training and 30% evaluation\n",
        "x_train1, x_eval1, y_train1, y_eval1 = train_test_split(train1.iloc[:,0:784], train1.loc[:,\"label\"], test_size=eval_fraction, random_state=random_seed, stratify=None)"
      ],
      "execution_count": 252,
      "outputs": []
    },
    {
      "cell_type": "code",
      "metadata": {
        "colab": {
          "base_uri": "https://localhost:8080/"
        },
        "id": "qQQcwBXqT3v7",
        "outputId": "73d7c6fe-6773-4e8a-b59b-136ab58d3d91"
      },
      "source": [
        "#we train a first linear SVC model of on the clustered classes \n",
        "svm1 = SVC(kernel='rbf', random_state=random_seed)\n",
        "svm1.fit(x_train1, y_train1)"
      ],
      "execution_count": 253,
      "outputs": [
        {
          "output_type": "execute_result",
          "data": {
            "text/plain": [
              "SVC(C=1.0, break_ties=False, cache_size=200, class_weight=None, coef0=0.0,\n",
              "    decision_function_shape='ovr', degree=3, gamma='scale', kernel='rbf',\n",
              "    max_iter=-1, probability=False, random_state=42, shrinking=True, tol=0.001,\n",
              "    verbose=False)"
            ]
          },
          "metadata": {
            "tags": []
          },
          "execution_count": 253
        }
      ]
    },
    {
      "cell_type": "code",
      "metadata": {
        "id": "xKSr_i9kT668"
      },
      "source": [
        "#Prediction\n",
        "y_pred1 = svm1.predict(x_eval1)"
      ],
      "execution_count": 254,
      "outputs": []
    },
    {
      "cell_type": "code",
      "metadata": {
        "colab": {
          "base_uri": "https://localhost:8080/"
        },
        "id": "HLA3A-v8T9Wj",
        "outputId": "1a686e25-8a23-4705-b375-698afa054bd2"
      },
      "source": [
        "#Performance\n",
        "print('Model classification accuracy: {}%'.format(str(metrics.accuracy_score(y_eval1, y_pred1) * 100)))\n",
        "print('Number of mislabeled points out of a total {} points: {}'.format(x_eval1.shape[0], np.sum(y_eval1 != y_pred1)))\n",
        "\n"
      ],
      "execution_count": 255,
      "outputs": [
        {
          "output_type": "stream",
          "text": [
            "Model classification accuracy: 97.01666666666667%\n",
            "Number of mislabeled points out of a total 6000 points: 179\n"
          ],
          "name": "stdout"
        }
      ]
    },
    {
      "cell_type": "code",
      "metadata": {
        "colab": {
          "base_uri": "https://localhost:8080/",
          "height": 350
        },
        "id": "Ts6pNV0iWLxj",
        "outputId": "9d35c979-61ff-4e32-e971-448c28856bc4"
      },
      "source": [
        "# determine the prediction confusion matrix\n",
        "labelnames = ['Ankle Boot', 'Bag',\"Clothing\", 'Sandels','Sneaker',\"Trouser\"]\n",
        "\n",
        "mat = confusion_matrix(y_eval1, y_pred1)\n",
        "\n",
        "# init the plot\n",
        "plt.figure(figsize=(5, 5))\n",
        "\n",
        "# plot confusion matrix heatmap\n",
        "sns.heatmap(mat.T, square=True, annot=True, fmt='d', cbar=False, cmap='BuGn_r',xticklabels=labelnames, yticklabels=labelnames )\n",
        "\n",
        "# add plot axis labels\n",
        "plt.xlabel('[true class label ]')\n",
        "plt.ylabel('[predicted class label ]')\n",
        "\n",
        "# add plot title\n",
        "plt.title('SVM Predictions - Confusion Matrix');"
      ],
      "execution_count": 256,
      "outputs": [
        {
          "output_type": "display_data",
          "data": {
            "image/png": "[encoded data removed]",
            "text/plain": [
              "<Figure size 360x360 with 1 Axes>"
            ]
          },
          "metadata": {
            "tags": [],
            "needs_background": "light"
          }
        }
      ]
    },
    {
      "cell_type": "markdown",
      "metadata": {
        "id": "W75CBcQVHtYb"
      },
      "source": [
        "As one can see, the model is able to seperate the clustered class \"Clothing\" and predict the other clothing articles extremely well. However, with this model we still need to further be able to differentiate between the individual classes within our class 'Clothing'. Therefore we first created a dataset which only includes the pictures which are of the class Clothing:\n"
      ]
    },
    {
      "cell_type": "code",
      "metadata": {
        "colab": {
          "base_uri": "https://localhost:8080/"
        },
        "id": "iVFaUvysX1j5",
        "outputId": "b5d356a8-04b9-45bc-e812-6ea6773dd4f9"
      },
      "source": [
        "train_cloth = train_unchanged[train_unchanged['label'] != 'Trouser']\n",
        "train_cloth = train_cloth[train_cloth['label'] != 'Sandal']\n",
        "train_cloth = train_cloth[train_cloth['label'] != 'Sneaker']\n",
        "train_cloth = train_cloth[train_cloth['label'] != 'Bag']\n",
        "train_cloth = train_cloth[train_cloth['label'] != 'Ankle boot']\n",
        "\n",
        "len(train_cloth)"
      ],
      "execution_count": 257,
      "outputs": [
        {
          "output_type": "execute_result",
          "data": {
            "text/plain": [
              "30000"
            ]
          },
          "metadata": {
            "tags": []
          },
          "execution_count": 257
        }
      ]
    },
    {
      "cell_type": "markdown",
      "metadata": {
        "id": "rfbV4zq2IpbC"
      },
      "source": [
        "To train our Clothing-SVM, we run through the same steps as before. However, as this are the classes which are the hardest to seperate, we decided to use all available data for training, meaning all 30'000 pictures in the training data set, which belong to one of the following clothing classes: dress, pullover, coat, shirt or T-shirt/top. Therefore this SVM  will be tested on the data it has already seen, and later on when we bring the models together we will run the full algortithm on testing data."
      ]
    },
    {
      "cell_type": "code",
      "metadata": {
        "colab": {
          "base_uri": "https://localhost:8080/"
        },
        "id": "uTtIVFNHX1rS",
        "outputId": "817e1425-0fc7-48f1-ce75-15126389b690"
      },
      "source": [
        "#actual model\n",
        "svm2 = SVC(kernel='rbf', random_state=random_seed) \n",
        "svm2.fit(train_cloth.iloc[:,:784], train_cloth.loc[:,\"label\"])"
      ],
      "execution_count": 258,
      "outputs": [
        {
          "output_type": "execute_result",
          "data": {
            "text/plain": [
              "SVC(C=1.0, break_ties=False, cache_size=200, class_weight=None, coef0=0.0,\n",
              "    decision_function_shape='ovr', degree=3, gamma='scale', kernel='rbf',\n",
              "    max_iter=-1, probability=False, random_state=42, shrinking=True, tol=0.001,\n",
              "    verbose=False)"
            ]
          },
          "metadata": {
            "tags": []
          },
          "execution_count": 258
        }
      ]
    },
    {
      "cell_type": "code",
      "metadata": {
        "id": "3gxjddrjX1uH"
      },
      "source": [
        "#Prediction\n",
        "y_pred2 = svm2.predict(train_cloth.iloc[:,:784])"
      ],
      "execution_count": 259,
      "outputs": []
    },
    {
      "cell_type": "code",
      "metadata": {
        "id": "hFAVlh2LX1ws",
        "colab": {
          "base_uri": "https://localhost:8080/"
        },
        "outputId": "4d06c844-3c27-4548-978f-8e3fb342c9c9"
      },
      "source": [
        "#Performance\n",
        "print('Model classification accuracy: {}%'.format(str(metrics.accuracy_score( train_cloth.loc[:,\"label\"], y_pred2) * 100)))\n",
        "print('Number of mislabeled points out of a total {} points: {}'.format(train_cloth.iloc[:,:784].shape[0], np.sum(train_cloth.loc[:,\"label\"] != y_pred2)))"
      ],
      "execution_count": 260,
      "outputs": [
        {
          "output_type": "stream",
          "text": [
            "Model classification accuracy: 85.49333333333334%\n",
            "Number of mislabeled points out of a total 30000 points: 4352\n"
          ],
          "name": "stdout"
        }
      ]
    },
    {
      "cell_type": "code",
      "metadata": {
        "id": "BMG3fjr_X11N",
        "colab": {
          "base_uri": "https://localhost:8080/",
          "height": 350
        },
        "outputId": "b2e886fe-ef27-45c5-f70e-307a5a7c9461"
      },
      "source": [
        "# determine the prediction confusion matrix\n",
        "labelnames = ['Coat', 'Dress', \"Pullover\", 'Shirt', 'T-shirt/top']\n",
        "\n",
        "mat = confusion_matrix(train_cloth.loc[:,\"label\"], y_pred2)\n",
        "\n",
        "# init the plot\n",
        "plt.figure(figsize=(5, 5))\n",
        "\n",
        "# plot confusion matrix heatmap\n",
        "sns.heatmap(mat.T, square=True, annot=True, fmt='d', cbar=False, cmap='BuGn_r',xticklabels=labelnames, yticklabels=labelnames )\n",
        "\n",
        "# add plot axis labels\n",
        "plt.xlabel('[true class label ]')\n",
        "plt.ylabel('[predicted class label ]')\n",
        "\n",
        "# add plot title\n",
        "plt.title('SVM Predictions - Confusion Matrix');"
      ],
      "execution_count": 261,
      "outputs": [
        {
          "output_type": "display_data",
          "data": {
            "image/png": "[encoded data removed]",
            "text/plain": [
              "<Figure size 360x360 with 1 Axes>"
            ]
          },
          "metadata": {
            "tags": [],
            "needs_background": "light"
          }
        }
      ]
    },
    {
      "cell_type": "markdown",
      "metadata": {
        "id": "K9XY55BBKJfK"
      },
      "source": [
        "The performacne of the rbf kernel is decent when it come to seperate between the clothing classes (based on the training data). Therefore, we now finally create a function, that uses first an SVM Model to classify the pictures into the classes Trouser, Ankle Boot, Bag, Sneaker, Sandal and Clothing, and a second SVM Model which split the predicitons Clothing into the classes Pullover, Dress, Coat, Shirt and T-shirt/top. "
      ]
    },
    {
      "cell_type": "code",
      "metadata": {
        "id": "q6_Nzvfb_sDp"
      },
      "source": [
        "def classification(data):\n",
        "  output=[]\n",
        "  for i in range(len(data)):\n",
        "    pic=data.iloc[i:i+1,:784]\n",
        "    result=svm1.predict(pic)[0]\n",
        "    if result==\"Clothing\":\n",
        "      result=svm2.predict(pic)[0]\n",
        "    output.append(result)\n",
        "\n",
        "  return output"
      ],
      "execution_count": 262,
      "outputs": []
    },
    {
      "cell_type": "markdown",
      "metadata": {
        "id": "PIoZqdR96RdJ"
      },
      "source": [
        "To check the performance on the training data, we are going to run the function on the x_train data set. Here we have the final labels (not as with the x_train1, as there we have the class 'Clothing'). Further, as we set the same seed, this data is the same as the x1_train data used to train the svm1 model (just that there some labels were changed). The svm2 model used all samples in the training data set which are relevant for the purpose of the svm2, therefore it also has already seen the pictures which it will classify from x_train:"
      ]
    },
    {
      "cell_type": "code",
      "metadata": {
        "id": "7qCr6Gzo7WJg",
        "colab": {
          "base_uri": "https://localhost:8080/"
        },
        "outputId": "eb9a48e8-3af5-4f69-a6dd-550a3e3747c4"
      },
      "source": [
        "Pred_train=classification(x_train)\n",
        "print('Model classification accuracy: {}%'.format(str(metrics.accuracy_score(y_train, Pred_train) * 100)))"
      ],
      "execution_count": 263,
      "outputs": [
        {
          "output_type": "stream",
          "text": [
            "Model classification accuracy: 90.52857142857142%\n"
          ],
          "name": "stdout"
        }
      ]
    },
    {
      "cell_type": "markdown",
      "metadata": {
        "id": "O7cCK2T68qrK"
      },
      "source": [
        "Our **Accuracy on the Training Data is 90.5%.** Let's now see what accuracy we can achieve on the evaluation data."
      ]
    },
    {
      "cell_type": "markdown",
      "metadata": {
        "id": "T7Oa_dUlPWDh"
      },
      "source": [
        "## Evaluation Data\n",
        "Same as the training data, the Evaluation Data also has all pixel values in one column. Therefore, the same cleaning approaches as with the training data will be applied."
      ]
    },
    {
      "cell_type": "code",
      "metadata": {
        "id": "xhWzzdw1X2Rp"
      },
      "source": [
        "IMAGE_SIZE = 28\n",
        "composed = transforms.Compose([transforms.Resize((IMAGE_SIZE, IMAGE_SIZE)), transforms.ToTensor()])\n",
        "\n",
        "validation_dataset = dsets.FashionMNIST(root='./data', train=False, download=True, transform=composed)"
      ],
      "execution_count": 264,
      "outputs": []
    },
    {
      "cell_type": "code",
      "metadata": {
        "id": "SZa6yPiyDvN7"
      },
      "source": [
        "x= []\n",
        "for i in range(len(validation_dataset)):\n",
        "  x.append(fashion_classes[validation_dataset[i][1]])\n",
        "\n",
        "\n",
        "y= []\n",
        "for i in range(len(validation_dataset)):\n",
        "  y.append(validation_dataset[i][0])\n",
        "\n",
        "d = {'Pixels':y,'Label':x}\n",
        "evalset = pd.DataFrame(d)\n",
        "\n",
        "columns=list(range(784))\n",
        "\n",
        "emptydf=pd.DataFrame(data= np.nan,    # values\n",
        "             index=list(range(len(evalset))),    # 1st column as index\n",
        "             columns=columns)  # 1st row as the column names\n",
        "\n",
        "df2=evalset.iloc[:,0]\n",
        "\n",
        "for i in range(len(evalset)):\n",
        "  q=df2[i][0]\n",
        "  a= q.tolist()\n",
        "\n",
        "  flat_list = []\n",
        "  for sublist in a:\n",
        "      for item in sublist:\n",
        "          flat_list.append(item)\n",
        "  emptydf.iloc[i,:]=flat_list\n",
        "\n",
        "\n",
        "evalset = emptydf.assign(label = x)\n",
        "\n"
      ],
      "execution_count": 265,
      "outputs": []
    },
    {
      "cell_type": "markdown",
      "metadata": {
        "id": "u5omiHQl5klZ"
      },
      "source": [
        "Finally, we can now run our basic SVM Model on the evaluation data set:\n",
        "\n"
      ]
    },
    {
      "cell_type": "code",
      "metadata": {
        "id": "UVrJuXoHC3UU",
        "colab": {
          "base_uri": "https://localhost:8080/"
        },
        "outputId": "e5d7f11c-13ed-406d-d326-47bf9678f055"
      },
      "source": [
        "pred_linear_eval = svm_linear.predict(evalset.iloc[:,:784])\n",
        "print('Model classification accuracy: {}%'.format(str(metrics.accuracy_score(evalset['label'], pred_linear_eval) * 100)))"
      ],
      "execution_count": 266,
      "outputs": [
        {
          "output_type": "stream",
          "text": [
            "Model classification accuracy: 83.03%\n"
          ],
          "name": "stdout"
        }
      ]
    },
    {
      "cell_type": "markdown",
      "metadata": {
        "id": "Sj1ZbPh8DwzF"
      },
      "source": [
        "The basic linear model performed decent (83.03%), but let's compare this now to the basic rbf model:"
      ]
    },
    {
      "cell_type": "code",
      "metadata": {
        "id": "Cj1y9reO_DJm",
        "colab": {
          "base_uri": "https://localhost:8080/"
        },
        "outputId": "a8530f8e-9691-4710-f66a-6a26dfdb0fd2"
      },
      "source": [
        "Pred_rbf_eval = svm_rbf.predict(evalset.iloc[:,:784])\n",
        "print('Model classification accuracy: {}%'.format(str(metrics.accuracy_score(evalset['label'], Pred_rbf_eval) * 100)))"
      ],
      "execution_count": 267,
      "outputs": [
        {
          "output_type": "stream",
          "text": [
            "Model classification accuracy: 85.84%\n"
          ],
          "name": "stdout"
        }
      ]
    },
    {
      "cell_type": "markdown",
      "metadata": {
        "id": "14OazdcQ_FQg"
      },
      "source": [
        "With an Accuracy of 85.84% the performance on the evaluation data is already pretty good. Let's now try out our more advanced model on the evaluation data and see if we can improve the performance:"
      ]
    },
    {
      "cell_type": "code",
      "metadata": {
        "id": "UzzV-yuKX2ZF",
        "colab": {
          "base_uri": "https://localhost:8080/"
        },
        "outputId": "234a2050-8c10-4e19-b292-807bc6ad4508"
      },
      "source": [
        "Pred_advanced_eval=classification(evalset.iloc[:,:784])\n",
        "print('Model classification accuracy: {}%'.format(str(metrics.accuracy_score(evalset['label'], Pred_advanced_eval) * 100)))"
      ],
      "execution_count": 268,
      "outputs": [
        {
          "output_type": "stream",
          "text": [
            "Model classification accuracy: 87.26%\n"
          ],
          "name": "stdout"
        }
      ]
    },
    {
      "cell_type": "markdown",
      "metadata": {
        "id": "WM_XdQl0X2jP"
      },
      "source": [
        "The Accuracy on the Testing Data is 87.26%. Therefore, we were able to  improvement the performance through combining two Support Vector Machines.The confusion Matrix shown below illustrates the result in more detail:"
      ]
    },
    {
      "cell_type": "code",
      "metadata": {
        "id": "MEgkFJgNX2oh",
        "colab": {
          "base_uri": "https://localhost:8080/",
          "height": 392
        },
        "outputId": "ce62c09f-6ea8-42c8-c8ee-fd93d1e316cf"
      },
      "source": [
        "# determine the prediction confusion matrix\n",
        "labelnames = ['Ankle boot',\n",
        " 'Bag',\n",
        " 'Coat',\n",
        " 'Dress',\n",
        " 'Pullover',\n",
        " 'Sandal',\n",
        " 'Shirt',\n",
        " 'Sneaker',\n",
        " 'T-shirt/top',\n",
        " 'Trouser']\n",
        "\n",
        "\n",
        "mat = confusion_matrix(evalset['label'], Pred_advanced_eval)\n",
        "\n",
        "# init the plot\n",
        "plt.figure(figsize=(5, 5))\n",
        "\n",
        "# plot confusion matrix heatmap\n",
        "sns.heatmap(mat.T, square=True, annot=True, fmt='d', cbar=False, cmap='BuGn_r',xticklabels=labelnames, yticklabels=labelnames )\n",
        "\n",
        "# add plot axis labels\n",
        "plt.xlabel('[true class label ]')\n",
        "plt.ylabel('[predicted class label ]')\n",
        "\n",
        "# add plot title\n",
        "plt.title('SVM stacked Predictions on final testing data - Confusion Matrix');"
      ],
      "execution_count": 269,
      "outputs": [
        {
          "output_type": "display_data",
          "data": {
            "image/png": "[encoded data removed]",
            "text/plain": [
              "<Figure size 360x360 with 1 Axes>"
            ]
          },
          "metadata": {
            "tags": [],
            "needs_background": "light"
          }
        }
      ]
    },
    {
      "cell_type": "markdown",
      "metadata": {
        "id": "Hv7oItozb1SU"
      },
      "source": [
        "#SVM on Extended Data"
      ]
    },
    {
      "cell_type": "markdown",
      "metadata": {
        "id": "5rwIwuUocwOV"
      },
      "source": [
        "Now, as we have evaluated the first 'advanced' algorithm on the evaluation data, we continiue with another approach. Here we again use a basic SVM with a rbf kernel, but add the two columns (number of pixels= 0 and mean pixel value) as additional features to the data set."
      ]
    },
    {
      "cell_type": "markdown",
      "metadata": {
        "id": "D5xwOqy7dE77"
      },
      "source": [
        "First, we copy the train extended data set (which includes the necessary rows) and drop the label to create a data set with only the feature values:"
      ]
    },
    {
      "cell_type": "code",
      "metadata": {
        "id": "EjJm9F32bUzN"
      },
      "source": [
        "#we create a copy to not change the original extended dataframe\n",
        "train_extended_train=train_extended.copy()\n",
        "train_extended_train=train_extended_train.drop(columns=\"label\")"
      ],
      "execution_count": 270,
      "outputs": []
    },
    {
      "cell_type": "markdown",
      "metadata": {
        "id": "tcNqAUUPdXp_"
      },
      "source": [
        "We normalise the zerovals as they are too big compared to the pixelvalues and are weighted too much because of that:"
      ]
    },
    {
      "cell_type": "code",
      "metadata": {
        "id": "fMaAcYIjbVEq"
      },
      "source": [
        "norm = [float(i)/sum(train_extended_train[\"zeroval\"]) for i in train_extended_train[\"zeroval\"]]\n",
        "train_extended_train[\"zeroval\"]=norm"
      ],
      "execution_count": 271,
      "outputs": []
    },
    {
      "cell_type": "markdown",
      "metadata": {
        "id": "Zg3O5tvxdjc4"
      },
      "source": [
        "Now we train the SVM on the extended data set:"
      ]
    },
    {
      "cell_type": "code",
      "metadata": {
        "id": "_x6zfKrSbVJw",
        "colab": {
          "base_uri": "https://localhost:8080/"
        },
        "outputId": "f0726aa8-8adc-40d4-9364-3e5aa75f830c"
      },
      "source": [
        "random_seed=42\n",
        "svm_extended = SVC(kernel='rbf', random_state=random_seed)\n",
        "svm_extended.fit(train_extended_train.iloc[:20000,:], train_extended.loc[:19999,\"label\"])"
      ],
      "execution_count": 272,
      "outputs": [
        {
          "output_type": "execute_result",
          "data": {
            "text/plain": [
              "SVC(C=1.0, break_ties=False, cache_size=200, class_weight=None, coef0=0.0,\n",
              "    decision_function_shape='ovr', degree=3, gamma='scale', kernel='rbf',\n",
              "    max_iter=-1, probability=False, random_state=42, shrinking=True, tol=0.001,\n",
              "    verbose=False)"
            ]
          },
          "metadata": {
            "tags": []
          },
          "execution_count": 272
        }
      ]
    },
    {
      "cell_type": "code",
      "metadata": {
        "id": "N-x5cjzZbVNo"
      },
      "source": [
        "#we predict 10000 pictures\n",
        "y_predict_extended=svm_extended.predict(train_extended_train.iloc[30000:40000,:])"
      ],
      "execution_count": 273,
      "outputs": []
    },
    {
      "cell_type": "code",
      "metadata": {
        "id": "8O0lXFNfbVTg",
        "colab": {
          "base_uri": "https://localhost:8080/"
        },
        "outputId": "d21d1e0b-e4f6-4155-8d4d-652b8506791f"
      },
      "source": [
        "print('Model classification accuracy: {}%'.format(str(metrics.accuracy_score(train_extended.loc[30000:39999,\"label\"], y_predict_extended) * 100)))"
      ],
      "execution_count": 274,
      "outputs": [
        {
          "output_type": "stream",
          "text": [
            "Model classification accuracy: 87.96000000000001%\n"
          ],
          "name": "stdout"
        }
      ]
    },
    {
      "cell_type": "markdown",
      "metadata": {
        "id": "9nhqfaIedq3T"
      },
      "source": [
        "An accuracy rate of nearly 88% is very good! Therefore, we now tun it on the evaluation set:"
      ]
    },
    {
      "cell_type": "code",
      "metadata": {
        "id": "nLuSzjACjEZ8",
        "colab": {
          "base_uri": "https://localhost:8080/",
          "height": 392
        },
        "outputId": "0f4363f4-00b2-4558-95d5-e5c02fd68225"
      },
      "source": [
        "#confusion matrix\n",
        "# determine the prediction confusion matrix\n",
        "labelnames = ['Ankle boot',\n",
        "'Bag',\n",
        "'Coat',\n",
        "'Dress',\n",
        "'Pullover',\n",
        "'Sandal',\n",
        "'Shirt',\n",
        "'Sneaker',\n",
        "'T-shirt/top',\n",
        "'Trouser']\n",
        "mat = confusion_matrix(train_extended.loc[30000:39999,\"label\"], y_predict_extended)\n",
        "# init the plot\n",
        "plt.figure(figsize=(5, 5))\n",
        "# plot confusion matrix heatmap\n",
        "sns.heatmap(mat.T, square=True, annot=True, fmt='d', cbar=False, cmap='BuGn_r',xticklabels=labelnames, yticklabels=labelnames )\n",
        "# add plot axis labels\n",
        "plt.xlabel('[true class label ]')\n",
        "plt.ylabel('[predicted class label ]')\n",
        "# add plot title\n",
        "plt.title('SVM oversampled extended train - Confusion Matrix');\n"
      ],
      "execution_count": 275,
      "outputs": [
        {
          "output_type": "display_data",
          "data": {
            "image/png": "[encoded data removed]",
            "text/plain": [
              "<Figure size 360x360 with 1 Axes>"
            ]
          },
          "metadata": {
            "tags": [],
            "needs_background": "light"
          }
        }
      ]
    },
    {
      "cell_type": "markdown",
      "metadata": {
        "id": "9pSPuH4ad9s1"
      },
      "source": [
        "## Evaluation Data"
      ]
    },
    {
      "cell_type": "markdown",
      "metadata": {
        "id": "UeCivuglMU1e"
      },
      "source": [
        "First we have to extend the evaluation data with the additional features in order to be able to test our extended svm on it:"
      ]
    },
    {
      "cell_type": "code",
      "metadata": {
        "id": "xK4nlQ04MeQ1"
      },
      "source": [
        "evalset_extended = evalset.copy()"
      ],
      "execution_count": 276,
      "outputs": []
    },
    {
      "cell_type": "code",
      "metadata": {
        "id": "JQfTpcZ_MiCE"
      },
      "source": [
        "#adding the mean of the pixel values to the column \"mean_pixelvalue\"\n",
        "evalset_extended[\"mean_pixelvalue\"]=evalset_extended.mean(axis=1)\n",
        "#counting the number of pixelsvalues = 0 in each row(picture)\n",
        "zeroval=[]\n",
        "for i in range(len(evalset_extended)):\n",
        "  counter=list(evalset_extended.iloc[i,:784]).count(0)  \n",
        "  zeroval.append(counter)\n",
        "\n",
        "#create zeroval column\n",
        "evalset_extended[\"zeroval\"]=[float(i)/sum(zeroval) for i in zeroval]\n"
      ],
      "execution_count": 277,
      "outputs": []
    },
    {
      "cell_type": "markdown",
      "metadata": {
        "id": "uZhxyFaueJ39"
      },
      "source": [
        "Now we see which performance the extended SVM gets us:"
      ]
    },
    {
      "cell_type": "code",
      "metadata": {
        "colab": {
          "base_uri": "https://localhost:8080/"
        },
        "id": "PyQaey94K53B",
        "outputId": "c38a38ae-8717-4253-da4d-47f8eb86bbba"
      },
      "source": [
        "Pred_extended=svm_extended.predict(evalset_extended.drop(columns=\"label\"))\n",
        "print('Model classification accuracy: {}%'.format(str(metrics.accuracy_score(evalset_extended['label'], Pred_extended) * 100)))"
      ],
      "execution_count": 278,
      "outputs": [
        {
          "output_type": "stream",
          "text": [
            "Model classification accuracy: 86.38%\n"
          ],
          "name": "stdout"
        }
      ]
    },
    {
      "cell_type": "markdown",
      "metadata": {
        "id": "rDGvpd9-ePzv"
      },
      "source": [
        "An accuracy rate of 86.38% is actually slightly below the performance of our stacked SVM (87.26%), however it is above the performance of the basic SVM with a rbf kernel (85.84%). Therefore, the extended training data (namely the additional two features) seem to be helpful for classifying the pictures. Therefore, in the *mash up approach* we will combine the stacked approach (our best algorithm) with the extended data set. Strictly speacking, we will stack two SVMs as done before, however now they are trained on the extended data set."
      ]
    },
    {
      "cell_type": "code",
      "metadata": {
        "id": "Tv7fPSoNjRIm",
        "colab": {
          "base_uri": "https://localhost:8080/",
          "height": 392
        },
        "outputId": "e026ac9a-9105-41aa-a398-fd0fa162ff1b"
      },
      "source": [
        "#confusion matrix\n",
        "# determine the prediction confusion matrix\n",
        "labelnames = ['Ankle boot',\n",
        "'Bag',\n",
        "'Coat',\n",
        "'Dress',\n",
        "'Pullover',\n",
        "'Sandal',\n",
        "'Shirt',\n",
        "'Sneaker',\n",
        "'T-shirt/top',\n",
        "'Trouser']\n",
        "mat = confusion_matrix(evalset_extended['label'], Pred_extended)\n",
        "# init the plot\n",
        "plt.figure(figsize=(5, 5))\n",
        "# plot confusion matrix heatmap\n",
        "sns.heatmap(mat.T, square=True, annot=True, fmt='d', cbar=False, cmap='BuGn_r',xticklabels=labelnames, yticklabels=labelnames )\n",
        "# add plot axis labels\n",
        "plt.xlabel('[true class label ]')\n",
        "plt.ylabel('[predicted class label ]')\n",
        "# add plot title\n",
        "plt.title('SVM oversampled extended eval - Confusion Matrix');\n"
      ],
      "execution_count": 279,
      "outputs": [
        {
          "output_type": "display_data",
          "data": {
            "image/png": "[encoded data removed]",
            "text/plain": [
              "<Figure size 360x360 with 1 Axes>"
            ]
          },
          "metadata": {
            "tags": [],
            "needs_background": "light"
          }
        }
      ]
    },
    {
      "cell_type": "markdown",
      "metadata": {
        "id": "1n4i46tyaBt7"
      },
      "source": [
        "# Oversampling\n",
        "As another approach instead of stacking done before, we try to solve the problem with the \"hard to classify\" classes  through oversampling:"
      ]
    },
    {
      "cell_type": "code",
      "metadata": {
        "id": "dGNOEm4ca-IN"
      },
      "source": [
        "training_unbal=train_unchanged.copy()\n",
        "training_unbal=training_unbal.iloc[:50000,:]\n",
        "\n",
        "Tshirt_top= training_unbal.loc[training_unbal['label'] == \"T-shirt/top\"]\n",
        "Trouser= training_unbal.loc[training_unbal['label'] == \"Trouser\"]\n",
        "Pullover= training_unbal.loc[training_unbal['label'] == \"Pullover\"]\n",
        "Dress= training_unbal.loc[training_unbal['label'] == \"Dress\"]\n",
        "Coat= training_unbal.loc[training_unbal['label'] == \"Coat\"]\n",
        "Sandal= training_unbal.loc[training_unbal['label'] == \"Sandal\"]\n",
        "Shirt= training_unbal.loc[training_unbal['label'] == \"Shirt\"]\n",
        "Sneaker= training_unbal.loc[training_unbal['label'] == \"Sneaker\"]\n",
        "Bag= training_unbal.loc[training_unbal['label'] == \"Bag\"]\n",
        "Ankle_boot= training_unbal.loc[training_unbal['label'] == \"Ankle boot\"]"
      ],
      "execution_count": 280,
      "outputs": []
    },
    {
      "cell_type": "markdown",
      "metadata": {
        "id": "ulDDZoSmba0b"
      },
      "source": [
        "We want to have more of the shirt, tshirt, and pullover class as those \n",
        "were highly misclassified:"
      ]
    },
    {
      "cell_type": "code",
      "metadata": {
        "id": "2sQ2KIv_bWHr"
      },
      "source": [
        "training_unbal = pd.concat([Tshirt_top.iloc[:4000,:],Pullover.iloc[:4000,:],Shirt.iloc[:4000,:], Trouser.iloc[:2000,:],Dress.iloc[:2000,:],Coat.iloc[:2000,:],\n",
        "               Sandal.iloc[:2000,:],Sneaker.iloc[:2000,:],Bag.iloc[:2000,:],Ankle_boot.iloc[:2000,:]])\n"
      ],
      "execution_count": 281,
      "outputs": []
    },
    {
      "cell_type": "markdown",
      "metadata": {
        "id": "Ng1c_CIrerbd"
      },
      "source": [
        "Let's now illustrate the distibution of the oversampled data set:"
      ]
    },
    {
      "cell_type": "code",
      "metadata": {
        "id": "2Z_C2cGYbniF",
        "colab": {
          "base_uri": "https://localhost:8080/",
          "height": 473
        },
        "outputId": "12df6ac4-acb0-4cc5-ee7b-5431fb01ddee"
      },
      "source": [
        "count_classes(training_unbal[\"label\"])"
      ],
      "execution_count": 282,
      "outputs": [
        {
          "output_type": "execute_result",
          "data": {
            "text/plain": [
              "(Dress          2000\n",
              " Coat           2000\n",
              " Sneaker        2000\n",
              " Pullover       4000\n",
              " Trouser        2000\n",
              " Shirt          4000\n",
              " Bag            2000\n",
              " Ankle boot     2000\n",
              " Sandal         2000\n",
              " T-shirt/top    4000\n",
              " dtype: int64, <BarContainer object of 10 artists>)"
            ]
          },
          "metadata": {
            "tags": []
          },
          "execution_count": 282
        },
        {
          "output_type": "display_data",
          "data": {
            "image/png": "[encoded data removed]",
            "text/plain": [
              "<Figure size 432x288 with 1 Axes>"
            ]
          },
          "metadata": {
            "tags": [],
            "needs_background": "light"
          }
        }
      ]
    },
    {
      "cell_type": "markdown",
      "metadata": {
        "id": "Gwmn_tQiexYX"
      },
      "source": [
        "Now we train an SVM on the oversampled data set and evaluate its performance:"
      ]
    },
    {
      "cell_type": "code",
      "metadata": {
        "id": "K44-T6q0cRhZ",
        "colab": {
          "base_uri": "https://localhost:8080/"
        },
        "outputId": "628e6860-88fe-4259-8ba4-45097dee0489"
      },
      "source": [
        "#train model on unbalaned dataset\n",
        "svm_unbal = SVC(kernel='rbf', random_state=random_seed)\n",
        "svm_unbal.fit(training_unbal.iloc[:,:784], training_unbal[\"label\"])"
      ],
      "execution_count": 283,
      "outputs": [
        {
          "output_type": "execute_result",
          "data": {
            "text/plain": [
              "SVC(C=1.0, break_ties=False, cache_size=200, class_weight=None, coef0=0.0,\n",
              "    decision_function_shape='ovr', degree=3, gamma='scale', kernel='rbf',\n",
              "    max_iter=-1, probability=False, random_state=42, shrinking=True, tol=0.001,\n",
              "    verbose=False)"
            ]
          },
          "metadata": {
            "tags": []
          },
          "execution_count": 283
        }
      ]
    },
    {
      "cell_type": "code",
      "metadata": {
        "id": "iUyRbMmVcVFx"
      },
      "source": [
        "#predict/test on initial balanced dataset\n",
        "y_pred_unbal = svm_unbal.predict(train_unchanged.iloc[50001:,:784])"
      ],
      "execution_count": 284,
      "outputs": []
    },
    {
      "cell_type": "code",
      "metadata": {
        "id": "1_wnoqK1cbTV",
        "colab": {
          "base_uri": "https://localhost:8080/"
        },
        "outputId": "cb6bc9ca-3e9d-436f-cc52-74c6bda56ff1"
      },
      "source": [
        "print('Model classification accuracy: {}%'.format(str(metrics.accuracy_score(train_unchanged.loc[50001:,\"label\"], y_pred_unbal) * 100)))"
      ],
      "execution_count": 285,
      "outputs": [
        {
          "output_type": "stream",
          "text": [
            "Model classification accuracy: 87.51875187518752%\n"
          ],
          "name": "stdout"
        }
      ]
    },
    {
      "cell_type": "markdown",
      "metadata": {
        "id": "fHT33gDhHzzD"
      },
      "source": [
        "We see an improvement to 87.5% from the svm_rbf model (which was trained on the balanced dataset and scored 86.95% in accuracy on unseen training data). The confusion matrix looks as follows:"
      ]
    },
    {
      "cell_type": "code",
      "metadata": {
        "id": "AhxRVdHScvTQ",
        "colab": {
          "base_uri": "https://localhost:8080/",
          "height": 392
        },
        "outputId": "4ebb0479-7a33-4c60-9db8-04190d2dccdf"
      },
      "source": [
        "labelnames = ['Ankle boot',\n",
        " 'Bag',\n",
        " 'Coat',\n",
        " 'Dress',\n",
        " 'Pullover',\n",
        " 'Sandal',\n",
        " 'Shirt',\n",
        " 'Sneaker',\n",
        " 'T-shirt/top',\n",
        " 'Trouser']\n",
        "\n",
        "\n",
        "mat = confusion_matrix(train_unchanged.loc[50001:,\"label\"], y_pred_unbal)\n",
        "\n",
        "# init the plot\n",
        "plt.figure(figsize=(5, 5))\n",
        "\n",
        "# plot confusion matrix heatmap\n",
        "sns.heatmap(mat.T, square=True, annot=True, fmt='d', cbar=False, cmap='BuGn_r',xticklabels=labelnames, yticklabels=labelnames )\n",
        "\n",
        "# add plot axis labels\n",
        "plt.xlabel('[true class label ]')\n",
        "plt.ylabel('[predicted class label ]')\n",
        "\n",
        "# add plot title\n",
        "plt.title('SVM Predictions unbalanced training dataset - Confusion Matrix');"
      ],
      "execution_count": 286,
      "outputs": [
        {
          "output_type": "display_data",
          "data": {
            "image/png": "[encoded data removed]",
            "text/plain": [
              "<Figure size 360x360 with 1 Axes>"
            ]
          },
          "metadata": {
            "tags": [],
            "needs_background": "light"
          }
        }
      ]
    },
    {
      "cell_type": "markdown",
      "metadata": {
        "id": "F9CCVl8KlEBO"
      },
      "source": [
        "## Evaluation Data\n",
        "\n",
        "As the accuracy on unseen data from the training set was pretty high, therefore now we will check how well the svm_unbal performs on the FashionMNIST evaluation data set:"
      ]
    },
    {
      "cell_type": "code",
      "metadata": {
        "id": "ogtm0B0yjuGh",
        "colab": {
          "base_uri": "https://localhost:8080/"
        },
        "outputId": "91eebb04-70f4-4a8e-87ac-ae209dec8ae7"
      },
      "source": [
        "Pred_oversampling=svm_unbal.predict(evalset.iloc[:,:784])\n",
        "print('Model classification accuracy: {}%'.format(str(metrics.accuracy_score(evalset['label'], Pred_oversampling) * 100)))"
      ],
      "execution_count": 287,
      "outputs": [
        {
          "output_type": "stream",
          "text": [
            "Model classification accuracy: 86.61999999999999%\n"
          ],
          "name": "stdout"
        }
      ]
    },
    {
      "cell_type": "code",
      "metadata": {
        "id": "5yFwBgfTljma",
        "colab": {
          "base_uri": "https://localhost:8080/",
          "height": 392
        },
        "outputId": "60c01fe5-187e-42b6-f939-3d934dd66166"
      },
      "source": [
        "#confusion matrix\n",
        "# determine the prediction confusion matrix\n",
        "labelnames = ['Ankle boot',\n",
        "'Bag',\n",
        "'Coat',\n",
        "'Dress',\n",
        "'Pullover',\n",
        "'Sandal',\n",
        "'Shirt',\n",
        "'Sneaker',\n",
        "'T-shirt/top',\n",
        "'Trouser']\n",
        "\n",
        "mat = confusion_matrix(evalset['label'], Pred_oversampling)\n",
        "# init the plot\n",
        "plt.figure(figsize=(5, 5))\n",
        "# plot confusion matrix heatmap\n",
        "sns.heatmap(mat.T, square=True, annot=True, fmt='d', cbar=False, cmap='BuGn_r',xticklabels=labelnames, yticklabels=labelnames )\n",
        "# add plot axis labels\n",
        "plt.xlabel('[true class label ]')\n",
        "plt.ylabel('[predicted class label ]')\n",
        "# add plot title\n",
        "plt.title('SVM oversampled Predictions eval - Confusion Matrix');\n",
        "\n"
      ],
      "execution_count": 288,
      "outputs": [
        {
          "output_type": "display_data",
          "data": {
            "image/png": "[encoded data removed]",
            "text/plain": [
              "<Figure size 360x360 with 1 Axes>"
            ]
          },
          "metadata": {
            "tags": [],
            "needs_background": "light"
          }
        }
      ]
    },
    {
      "cell_type": "markdown",
      "metadata": {
        "id": "V3zJ6KOXsJBX"
      },
      "source": [
        "Although the performance of the oversampling SVM is also better than the normal rbf algorithm, we decided against combining our stacking method with oversampling, as: the first algorithm of the stacking approach does hardly have any room for improvement (accuracy over 97%), whereas the second algorithm has already seen all available data which is relevant to seperarate between the clothing classes (all 30000 pictures used for training the svm2 model, and the other 30000 are not relevant to it as it is only about clothing classes).  \n",
        "\n"
      ]
    },
    {
      "cell_type": "markdown",
      "metadata": {
        "id": "xisQfM6q3HVa"
      },
      "source": [
        "# Bundling into two clusters\n"
      ]
    },
    {
      "cell_type": "markdown",
      "metadata": {
        "id": "UwALtka1IWgz"
      },
      "source": [
        "With the stacking approach before having done so greatly, what we wanted to investigate in this part was: Is it possible to seperate two bundles of classes which themselves can easily be classified.\n",
        "\n",
        "The idea/guess is if we are able to seperate the classes that are being misclassified among each other in seperate bundles we can in a second step easily classify the classes within the bundle. \n",
        "\n",
        "Maybe by clustering very different classes together the SVM can differentiate between them differently and circumvent the misclassification. Intuition wise this can be seen as somewhat the opposite appreach of the stacking done before. Instad of the first SVM differentiating between the easier to classify classes, here the first SVM seperates between the classes which are more similar, and the second SVM then seperates classes which are more different."
      ]
    },
    {
      "cell_type": "markdown",
      "metadata": {
        "id": "HBe2KAMlczxt"
      },
      "source": [
        "Trying to bundle labels together that are not being misclassified: "
      ]
    },
    {
      "cell_type": "code",
      "metadata": {
        "id": "DPWJGkkyfeNe",
        "colab": {
          "base_uri": "https://localhost:8080/"
        },
        "outputId": "ebdac9c8-6d5b-4ec8-ea72-2be4d1e17405"
      },
      "source": [
        "#We bundle the classes which are not being misclassified among each other in the two clusters/groups \"Mix1\" and \"Mix2\"\n",
        "fashion_classes3 = { 'T-shirt/top': \"Mix1\",\n",
        "'Trouser': \"Mix1\",\n",
        "'Pullover': \"Mix2\",\n",
        "'Dress': \"Mix1\",\n",
        "'Coat': \"Mix2\",\n",
        "'Sandal': \"Mix2\",\n",
        "'Shirt': \"Mix2\",\n",
        "'Sneaker': \"Mix2\",\n",
        "'Bag': \"Mix1\",\n",
        "'Ankle boot':\"Mix2\"}\n",
        "\n",
        "train_trial0 = train_unchanged.copy()\n",
        "train_trial=train_trial0.iloc[:10000,:]\n",
        "\n",
        "for i in range(len(train_trial)):\n",
        "  train_trial.loc[i,\"label\"]=fashion_classes3[train_trial.loc[i,\"label\"]]"
      ],
      "execution_count": 289,
      "outputs": [
        {
          "output_type": "stream",
          "text": [
            "/usr/local/lib/python3.7/dist-packages/pandas/core/indexing.py:1763: SettingWithCopyWarning: \n",
            "A value is trying to be set on a copy of a slice from a DataFrame.\n",
            "Try using .loc[row_indexer,col_indexer] = value instead\n",
            "\n",
            "See the caveats in the documentation: https://pandas.pydata.org/pandas-docs/stable/user_guide/indexing.html#returning-a-view-versus-a-copy\n",
            "  isetter(loc, value)\n"
          ],
          "name": "stderr"
        }
      ]
    },
    {
      "cell_type": "markdown",
      "metadata": {
        "id": "XJ8wjk6Ws8aE"
      },
      "source": [
        "Now we train an SVM to be able to differentiate between Mix 1 and Mix2:"
      ]
    },
    {
      "cell_type": "code",
      "metadata": {
        "id": "Z-_HXDhcfjtH",
        "colab": {
          "base_uri": "https://localhost:8080/"
        },
        "outputId": "52f9daf7-4e7b-4091-e8ce-d59ca63928e8"
      },
      "source": [
        "#training the svm that will seperate the clusters\n",
        "svm_trial = SVC(kernel='rbf', random_state=random_seed)\n",
        "svm_trial.fit(train_trial.iloc[:,:784], train_trial[\"label\"])"
      ],
      "execution_count": 290,
      "outputs": [
        {
          "output_type": "execute_result",
          "data": {
            "text/plain": [
              "SVC(C=1.0, break_ties=False, cache_size=200, class_weight=None, coef0=0.0,\n",
              "    decision_function_shape='ovr', degree=3, gamma='scale', kernel='rbf',\n",
              "    max_iter=-1, probability=False, random_state=42, shrinking=True, tol=0.001,\n",
              "    verbose=False)"
            ]
          },
          "metadata": {
            "tags": []
          },
          "execution_count": 290
        }
      ]
    },
    {
      "cell_type": "markdown",
      "metadata": {
        "id": "F4cFTWTNfudU"
      },
      "source": [
        "Now we create two datasets only containing the classes of the two different clusters:"
      ]
    },
    {
      "cell_type": "code",
      "metadata": {
        "id": "0eawzAM5fsMz"
      },
      "source": [
        "listofclasses1=[\"T-shirt/top\",\"Trouser\",\"Dress\",\"Bag\"]\n",
        "listofclasses2=[\"Pullover\",\"Sandal\",\"Coat\",\"Shirt\",\"Sneaker\",\"Ankle boot\"]\n",
        "\n",
        "mix1=train.iloc[:20000,:].copy()\n",
        "mix2=train.iloc[:20000,:].copy()\n",
        "for classes in listofclasses2:\n",
        "  mix1=mix1[mix1[\"label\"]!= classes]\n",
        "for classes in listofclasses1:\n",
        "  mix2=mix2[mix2[\"label\"]!= classes]\n"
      ],
      "execution_count": 291,
      "outputs": []
    },
    {
      "cell_type": "markdown",
      "metadata": {
        "id": "16sZPs5KtF7g"
      },
      "source": [
        "The follwoing SVM will predict the precise classes within the bundle: Mix1:"
      ]
    },
    {
      "cell_type": "code",
      "metadata": {
        "id": "nHDzCqNTf-uC",
        "colab": {
          "base_uri": "https://localhost:8080/"
        },
        "outputId": "122b0a90-887f-4024-ae30-0ccbfdc7d575"
      },
      "source": [
        "#creating svm that can classify mix1 cluster\n",
        "svm_mix1 = SVC(kernel='rbf', random_state=random_seed)\n",
        "svm_mix1.fit(mix1.iloc[:,:784], mix1[\"label\"])"
      ],
      "execution_count": 292,
      "outputs": [
        {
          "output_type": "execute_result",
          "data": {
            "text/plain": [
              "SVC(C=1.0, break_ties=False, cache_size=200, class_weight=None, coef0=0.0,\n",
              "    decision_function_shape='ovr', degree=3, gamma='scale', kernel='rbf',\n",
              "    max_iter=-1, probability=False, random_state=42, shrinking=True, tol=0.001,\n",
              "    verbose=False)"
            ]
          },
          "metadata": {
            "tags": []
          },
          "execution_count": 292
        }
      ]
    },
    {
      "cell_type": "markdown",
      "metadata": {
        "id": "1ruiB-YMtN4W"
      },
      "source": [
        "Opposingly, this SVM will be trained to classify the specific classes in Mix2:"
      ]
    },
    {
      "cell_type": "code",
      "metadata": {
        "id": "kDjeSoaXgKIw",
        "colab": {
          "base_uri": "https://localhost:8080/"
        },
        "outputId": "91c6079b-743d-4340-9deb-f59268eac1aa"
      },
      "source": [
        "#creating svm that can classify mix2 cluster\n",
        "svm_mix2 = SVC(kernel='rbf', random_state=random_seed)\n",
        "svm_mix2.fit(mix2.iloc[:,:784], mix2[\"label\"])"
      ],
      "execution_count": 293,
      "outputs": [
        {
          "output_type": "execute_result",
          "data": {
            "text/plain": [
              "SVC(C=1.0, break_ties=False, cache_size=200, class_weight=None, coef0=0.0,\n",
              "    decision_function_shape='ovr', degree=3, gamma='scale', kernel='rbf',\n",
              "    max_iter=-1, probability=False, random_state=42, shrinking=True, tol=0.001,\n",
              "    verbose=False)"
            ]
          },
          "metadata": {
            "tags": []
          },
          "execution_count": 293
        }
      ]
    },
    {
      "cell_type": "markdown",
      "metadata": {
        "id": "RDCRPD7ugURb"
      },
      "source": [
        "Having the three different SVM we now combine them to get the classifications of the pictures.\n",
        "\n",
        "\n",
        "The first SVM (svm_trial) predicts whether the picture belongs to cluster one or two. The two latter SVMs (svm_mix1, svm_mix2), depending on which cluster was predicted, will predict the specific class of the pictures:"
      ]
    },
    {
      "cell_type": "code",
      "metadata": {
        "id": "pO570T0MgTMB"
      },
      "source": [
        "def cluster_predict(data):\n",
        "  output=[]\n",
        "  for i in range(len(data)):\n",
        "    pic=data.iloc[i:i+1,:784]\n",
        "    result=svm_trial.predict(pic)[0]\n",
        "    if result==\"Mix1\":\n",
        "      result=svm_mix1.predict(pic)[0]\n",
        "    else:\n",
        "      result=svm_mix2.predict(pic)[0]\n",
        "    output.append(result)\n",
        "  return output\n",
        "  "
      ],
      "execution_count": 294,
      "outputs": []
    },
    {
      "cell_type": "code",
      "metadata": {
        "id": "Dh6e1eitgcM3"
      },
      "source": [
        "#we take unknown data the svm models were not trained on as testing data\n",
        "testsub=train_unchanged.iloc[50000:55000,:]\n",
        "prediction_clustered= cluster_predict(testsub)"
      ],
      "execution_count": 295,
      "outputs": []
    },
    {
      "cell_type": "code",
      "metadata": {
        "id": "EQyV2l4mhtpA",
        "colab": {
          "base_uri": "https://localhost:8080/"
        },
        "outputId": "9c2df547-5d3f-47ca-c753-a82e11fd7acf"
      },
      "source": [
        "print('Model classification accuracy: {}%'.format(str(metrics.accuracy_score(testsub[\"label\"], prediction_clustered) * 100)))\n"
      ],
      "execution_count": 296,
      "outputs": [
        {
          "output_type": "stream",
          "text": [
            "Model classification accuracy: 86.32%\n"
          ],
          "name": "stdout"
        }
      ]
    },
    {
      "cell_type": "markdown",
      "metadata": {
        "id": "8vk4zm5LP4fD"
      },
      "source": [
        "The accuracy is slightly worse than with the base rbf model (svm_rbf). The results will be illustrated in a confusion matrix down below. "
      ]
    },
    {
      "cell_type": "code",
      "metadata": {
        "id": "V4op27ntKCzB",
        "colab": {
          "base_uri": "https://localhost:8080/",
          "height": 392
        },
        "outputId": "79b6ad52-4658-429b-bdda-c89f6235f49b"
      },
      "source": [
        "#names for axis\n",
        "labelnames = ['Ankle boot',\n",
        " 'Bag',\n",
        " 'Coat',\n",
        " 'Dress',\n",
        " 'Pullover',\n",
        " 'Sandal',\n",
        " 'Shirt',\n",
        " 'Sneaker',\n",
        " 'T-shirt/top',\n",
        " 'Trouser']\n",
        "\n",
        "\n",
        "mat = confusion_matrix(testsub[\"label\"], prediction_clustered)\n",
        "\n",
        "# init the plot\n",
        "plt.figure(figsize=(5, 5))\n",
        "\n",
        "# plot confusion matrix heatmap\n",
        "sns.heatmap(mat.T, square=True, annot=True, fmt='d', cbar=False, cmap='BuGn_r',xticklabels=labelnames, yticklabels=labelnames )\n",
        "\n",
        "# add plot axis labels\n",
        "plt.xlabel('[true class label ]')\n",
        "plt.ylabel('[predicted class label ]')\n",
        "\n",
        "# add plot title\n",
        "plt.title('SVM Predictions unbalanced training dataset - Confusion Matrix');"
      ],
      "execution_count": 297,
      "outputs": [
        {
          "output_type": "display_data",
          "data": {
            "image/png": "[encoded data removed]",
            "text/plain": [
              "<Figure size 360x360 with 1 Axes>"
            ]
          },
          "metadata": {
            "tags": [],
            "needs_background": "light"
          }
        }
      ]
    },
    {
      "cell_type": "markdown",
      "metadata": {
        "id": "rVKQrce_K7As"
      },
      "source": [
        "The model did not improve in this case and our hypothesis that the misclassification can be circumevented by bundling classes together that are not misclassified is therefore probably wrong. Still, we will check how it performs on the evaluation data set:"
      ]
    },
    {
      "cell_type": "markdown",
      "metadata": {
        "id": "hrE7Ctw0mDYs"
      },
      "source": [
        "# Evaluation data\n"
      ]
    },
    {
      "cell_type": "code",
      "metadata": {
        "id": "CSwTNVKGmHDi",
        "colab": {
          "base_uri": "https://localhost:8080/"
        },
        "outputId": "e717d375-90c6-4635-e441-fabe1c3759f3"
      },
      "source": [
        "Pred_cluster=cluster_predict(evalset.iloc[:,:784])\n",
        "print('Model classification accuracy: {}%'.format(str(metrics.accuracy_score(evalset['label'], Pred_cluster) * 100)))"
      ],
      "execution_count": 298,
      "outputs": [
        {
          "output_type": "stream",
          "text": [
            "Model classification accuracy: 85.39%\n"
          ],
          "name": "stdout"
        }
      ]
    },
    {
      "cell_type": "markdown",
      "metadata": {
        "id": "zFYfBb_zmX2r"
      },
      "source": [
        "As also the performance on the evaluation data set was worse than the base rbf model (85.84%), we will not go further into details with this approach."
      ]
    },
    {
      "cell_type": "markdown",
      "metadata": {
        "id": "6YvkQ9K3pCkZ"
      },
      "source": [
        "#Mashup\n",
        "\n",
        "The best performances have come from stacking and extending the dataframe.\n",
        "In order to get an even higher performance we will now combine those and run it on the evaluation data"
      ]
    },
    {
      "cell_type": "markdown",
      "metadata": {
        "id": "HVvmHHc6qbcp"
      },
      "source": [
        "Here, we first have to normalize the zeroval column as they have a totally different scale than the rest of the feature. Further, we adjust the extended training set throuhg bunsling the clothing classes into the class 'Clothing':"
      ]
    },
    {
      "cell_type": "code",
      "metadata": {
        "id": "7HH4X0dpsCxa"
      },
      "source": [
        "train_extended_final=train_extended.copy()"
      ],
      "execution_count": 299,
      "outputs": []
    },
    {
      "cell_type": "code",
      "metadata": {
        "id": "GtfWGxPEzN1p"
      },
      "source": [
        "#we have to normalise the zerovalcolumn also for the training data\n",
        "train_extended_final[\"zeroval\"]=[float(i)/sum(zeroval) for i in train_extended_final[\"zeroval\"]]\n"
      ],
      "execution_count": 300,
      "outputs": []
    },
    {
      "cell_type": "code",
      "metadata": {
        "id": "5Hz5xoTSoS6q"
      },
      "source": [
        "#reducing the number of classes by bundling the classes with high misclassification \n",
        "fashion_classes2 = { 'T-shirt/top': \"Clothing\",\n",
        "                    'Trouser': \"Trouser\",\n",
        "                    'Pullover': \"Clothing\",\n",
        "                    'Dress': \"Clothing\",\n",
        "                    'Coat': \"Clothing\",\n",
        "                    'Sandal': \"Sandal\",\n",
        "                    'Shirt': \"Clothing\",\n",
        "                    'Sneaker': \"Sneaker\",\n",
        "                    'Bag': \"Bag\",\n",
        "                    'Ankle boot':\"Ankle boot\"}\n",
        "\n",
        "\n",
        "\n",
        "for i in range(len(train_extended_final)):\n",
        "  train_extended_final.loc[i,\"label\"]=fashion_classes2[train_extended_final.loc[i,\"label\"]]"
      ],
      "execution_count": 301,
      "outputs": []
    },
    {
      "cell_type": "markdown",
      "metadata": {
        "id": "H_NY1Eulu71d"
      },
      "source": [
        "Now, we use the first 20'000 pictures to train our SVM model:"
      ]
    },
    {
      "cell_type": "code",
      "metadata": {
        "id": "Y3eJYITips4l"
      },
      "source": [
        "train_extended_final=train_extended_final.iloc[:20000,:]"
      ],
      "execution_count": 302,
      "outputs": []
    },
    {
      "cell_type": "code",
      "metadata": {
        "id": "c0-dOsm_t1M_",
        "colab": {
          "base_uri": "https://localhost:8080/"
        },
        "outputId": "f2e8fda5-f58f-4e00-c813-9e73e762d5a8"
      },
      "source": [
        "random_seed=42\n",
        "x_train_ext=train_extended_final.drop(columns=\"label\")\n",
        "\n",
        "#we train a first linear SVC model of on the clustered classes \n",
        "svm1_ext = SVC(kernel='rbf', random_state=random_seed)\n",
        "svm1_ext.fit(x_train_ext, train_extended_final[\"label\"])\n"
      ],
      "execution_count": 303,
      "outputs": [
        {
          "output_type": "execute_result",
          "data": {
            "text/plain": [
              "SVC(C=1.0, break_ties=False, cache_size=200, class_weight=None, coef0=0.0,\n",
              "    decision_function_shape='ovr', degree=3, gamma='scale', kernel='rbf',\n",
              "    max_iter=-1, probability=False, random_state=42, shrinking=True, tol=0.001,\n",
              "    verbose=False)"
            ]
          },
          "metadata": {
            "tags": []
          },
          "execution_count": 303
        }
      ]
    },
    {
      "cell_type": "markdown",
      "metadata": {
        "id": "gsVFC4AtvCwv"
      },
      "source": [
        "Here, we start to train the second SVM model (the one which will seperte the clothing classes). For this, we again first normalize the zeroval feature, afterwards drop all pictures which do not belong to a clothing class, and train the SVM:"
      ]
    },
    {
      "cell_type": "code",
      "metadata": {
        "id": "KYLDGjGhvINf"
      },
      "source": [
        "train_cloth_ext=train_extended.copy()\n",
        "#also here normalise column \"zeroval\"\n",
        "train_cloth_ext[\"zeroval\"]=[float(i)/sum(zeroval) for i in train_cloth_ext[\"zeroval\"]]\n",
        "train_cloth_ext=train_cloth_ext.iloc[:60000,:]\n"
      ],
      "execution_count": 304,
      "outputs": []
    },
    {
      "cell_type": "code",
      "metadata": {
        "id": "V6floLgYt-zC"
      },
      "source": [
        "train_cloth_ext = train_cloth_ext[train_extended['label'] != 'Trouser']\n",
        "train_cloth_ext = train_cloth_ext[train_cloth_ext['label'] != 'Sandal']\n",
        "train_cloth_ext = train_cloth_ext[train_cloth_ext['label'] != 'Sneaker']\n",
        "train_cloth_ext = train_cloth_ext[train_cloth_ext['label'] != 'Bag']\n",
        "train_cloth_ext = train_cloth_ext[train_cloth_ext['label'] != 'Ankle boot']"
      ],
      "execution_count": 305,
      "outputs": []
    },
    {
      "cell_type": "code",
      "metadata": {
        "id": "7XhXUnM9zVdc",
        "colab": {
          "base_uri": "https://localhost:8080/"
        },
        "outputId": "59c83711-9718-4dd5-c148-0286d9e4c9b0"
      },
      "source": [
        "#actual model\n",
        "x_train_ext2=train_cloth_ext.drop(columns=\"label\")\n",
        "\n",
        "svm2_ext = SVC(kernel='rbf', random_state=random_seed) \n",
        "svm2_ext.fit(x_train_ext2, train_cloth_ext[\"label\"])"
      ],
      "execution_count": 306,
      "outputs": [
        {
          "output_type": "execute_result",
          "data": {
            "text/plain": [
              "SVC(C=1.0, break_ties=False, cache_size=200, class_weight=None, coef0=0.0,\n",
              "    decision_function_shape='ovr', degree=3, gamma='scale', kernel='rbf',\n",
              "    max_iter=-1, probability=False, random_state=42, shrinking=True, tol=0.001,\n",
              "    verbose=False)"
            ]
          },
          "metadata": {
            "tags": []
          },
          "execution_count": 306
        }
      ]
    },
    {
      "cell_type": "markdown",
      "metadata": {
        "id": "4skHtPhSvVNm"
      },
      "source": [
        "Similar to our stacking algorithm before, the followin function will combine the two SVMs which we trained now:"
      ]
    },
    {
      "cell_type": "code",
      "metadata": {
        "id": "AcZwvZN5tLzn"
      },
      "source": [
        "def classification_ext(data):\n",
        "  output=[]\n",
        "  for i in range(len(data)):\n",
        "    pic=data.iloc[i:i+1,:]\n",
        "    result=svm1_ext.predict(pic)[0]\n",
        "    if result==\"Clothing\":\n",
        "      result=svm2_ext.predict(pic)[0]\n",
        "    output.append(result)\n",
        "\n",
        "  return output"
      ],
      "execution_count": 307,
      "outputs": []
    },
    {
      "cell_type": "markdown",
      "metadata": {
        "id": "nT2N9llSxT45"
      },
      "source": [
        "Let's see, how well our algorithm performs on training data:"
      ]
    },
    {
      "cell_type": "code",
      "metadata": {
        "id": "CwyimXWCxaBS"
      },
      "source": [
        "train_extended_final_performance=train_extended.copy()\n",
        "train_extended_final_performance=train_extended_final_performance.iloc[:10000,:]\n",
        "train_extended_final_performance =train_extended_final_performance.drop(columns=\"label\")\n",
        "train_extended_final_performance[\"zeroval\"]=[float(i)/sum(zeroval) for i in train_extended_final_performance[\"zeroval\"]]"
      ],
      "execution_count": 314,
      "outputs": []
    },
    {
      "cell_type": "code",
      "metadata": {
        "id": "uChOp_C6zHDC"
      },
      "source": [
        "y_pred_mashup_train=classification_ext(train_extended_final_performance)"
      ],
      "execution_count": 315,
      "outputs": []
    },
    {
      "cell_type": "code",
      "metadata": {
        "id": "M3ZWEOxbAL-t"
      },
      "source": [
        "train_extended_trainperformance = train_extended.iloc[:10000,:]"
      ],
      "execution_count": 317,
      "outputs": []
    },
    {
      "cell_type": "code",
      "metadata": {
        "colab": {
          "base_uri": "https://localhost:8080/"
        },
        "id": "1lI8g3DhzHPs",
        "outputId": "5d3d5d1e-311b-46c3-eca7-b45e513d1003"
      },
      "source": [
        "print('Model classification accuracy: {}%'.format(str(metrics.accuracy_score(train_extended_trainperformance[\"label\"], y_pred_mashup_train) * 100)))"
      ],
      "execution_count": 318,
      "outputs": [
        {
          "output_type": "stream",
          "text": [
            "Model classification accuracy: 90.79%\n"
          ],
          "name": "stdout"
        }
      ]
    },
    {
      "cell_type": "markdown",
      "metadata": {
        "id": "xyLFwECVAZOe"
      },
      "source": [
        "The **Accuracy on 10'000 already seen training data is 90.79%** (best training accuracy achieved in whole code). This already indicates that our combination of the two algorithms was the right way to go. "
      ]
    },
    {
      "cell_type": "markdown",
      "metadata": {
        "id": "C97FQ0BWvmVF"
      },
      "source": [
        "## Evaluation Data\n",
        "Now, we directly predict the performance on the evaluation data:"
      ]
    },
    {
      "cell_type": "code",
      "metadata": {
        "id": "c94LN6j4vwzr"
      },
      "source": [
        "test_mashup=evalset_extended.drop(columns=\"label\")\n"
      ],
      "execution_count": 308,
      "outputs": []
    },
    {
      "cell_type": "code",
      "metadata": {
        "id": "3lp4hilNuiv2"
      },
      "source": [
        "y_pred_mashup=classification_ext(test_mashup)"
      ],
      "execution_count": 309,
      "outputs": []
    },
    {
      "cell_type": "code",
      "metadata": {
        "id": "k-R3QkhXu45H",
        "colab": {
          "base_uri": "https://localhost:8080/"
        },
        "outputId": "962bdfa3-0533-45ca-d492-dac2a0342971"
      },
      "source": [
        "print('Model classification accuracy: {}%'.format(str(metrics.accuracy_score(evalset_extended[\"label\"], y_pred_mashup) * 100)))"
      ],
      "execution_count": 310,
      "outputs": [
        {
          "output_type": "stream",
          "text": [
            "Model classification accuracy: 87.5%\n"
          ],
          "name": "stdout"
        }
      ]
    },
    {
      "cell_type": "markdown",
      "metadata": {
        "id": "uzSqv71rJaTJ"
      },
      "source": [
        "The **Accuracy on the evaluation data is 87.5%** (the best testing data accuracy we achieved out of all algorithms). This way we can verify our hypothesis, that it made sense to combine our so far best performing models. The details of the result are specified in the confusion matrix down below:"
      ]
    },
    {
      "cell_type": "code",
      "metadata": {
        "id": "kicngyA6jg1E",
        "colab": {
          "base_uri": "https://localhost:8080/",
          "height": 392
        },
        "outputId": "5c71a2bb-b016-444b-9991-2ff687f1077e"
      },
      "source": [
        "#confusion matrix\n",
        "# determine the prediction confusion matrix\n",
        "labelnames = ['Ankle boot',\n",
        "'Bag',\n",
        "'Coat',\n",
        "'Dress',\n",
        "'Pullover',\n",
        "'Sandal',\n",
        "'Shirt',\n",
        "'Sneaker',\n",
        "'T-shirt/top',\n",
        "'Trouser']\n",
        "mat = confusion_matrix(evalset_extended[\"label\"], y_pred_mashup)\n",
        "# init the plot\n",
        "plt.figure(figsize=(5, 5))\n",
        "# plot confusion matrix heatmap\n",
        "sns.heatmap(mat.T, square=True, annot=True, fmt='d', cbar=False, cmap='BuGn_r',xticklabels=labelnames, yticklabels=labelnames )\n",
        "# add plot axis labels\n",
        "plt.xlabel('[true class label ]')\n",
        "plt.ylabel('[predicted class label ]')\n",
        "# add plot title\n",
        "plt.title('SVM oversampled mashup eval - Confusion Matrix');"
      ],
      "execution_count": 311,
      "outputs": [
        {
          "output_type": "display_data",
          "data": {
            "image/png": "[encoded data removed]",
            "text/plain": [
              "<Figure size 360x360 with 1 Axes>"
            ]
          },
          "metadata": {
            "tags": [],
            "needs_background": "light"
          }
        }
      ]
    },
    {
      "cell_type": "markdown",
      "metadata": {
        "id": "Bt241YINLH6j"
      },
      "source": [
        "# **Conclusion**\n",
        "\n",
        "\n",
        "By separating each pixel of the pictures into one column we were able to reach a high accuracy. The best performance came from training a SVM only on the highly misclassified classes and stacking it with another SVM. However, for the performance was even better when we used the extended Data set for training with the additional features: mean pixel value and number of pixels=0. More specific, the performance is: \n",
        "- Training accuracy: 90.5% \n",
        "- Testing Accuracy: 87.5% \n",
        "\n",
        "Having gone down the path of using each pixel as a feature, if we wanted to further increase the performance of our stacked algorithms one could add more SVM classifiers to it, that instead of one algorithm predicting all the classes which fall into the clothing category, we would have more specialized SVMs, with one maybe only differentiating between T-shirt/top and shirts (as they were the most similair classes). \n",
        "Furthermore, algorithms which focus on local or global features that are particular to the most misclassified classes like tshirt, shirt and pullover could be added to the stack. This further algorithms could help us improve the prediction of classes for which current algorithm is lacking the most (T-shirt, shirt, pullover).\n",
        "\n",
        "\n",
        "Furthermore, we could create further training data for difficult-to-classify classes through image alternation, for example through mirroring. Or another way to get more training data of the hard to classify classes would be to use the images created through the GAN created in the Articial Neural Network jupyter Notebook of our group.\n",
        "\n",
        "From a more pracitcal standpoint, it would also cetrainly have made sense to create a funciton for the performance measures, namely for the confusion matrix and the accuracy rate/number of misclassified pictures. This would have saved us a lot of time and copy pasting, while making the code easier to read. Additionally, it might make sense to run our codes on computers with more computational power, as it often took a considerable time for the code to run.\n"
      ]
    }
  ]
}